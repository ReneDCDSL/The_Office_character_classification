{
 "cells": [
  {
   "cell_type": "markdown",
   "id": "1a7b85ff",
   "metadata": {},
   "source": [
    "# Text formatting tools"
   ]
  },
  {
   "cell_type": "markdown",
   "id": "00d5529e",
   "metadata": {},
   "source": [
    "## Text normalization"
   ]
  },
  {
   "cell_type": "code",
   "execution_count": null,
   "id": "aacdf7de",
   "metadata": {},
   "outputs": [],
   "source": [
    "def clean_text(text):\n",
    "    text = str(text).lower()\n",
    "    text = re.sub('\\[.*?\\]', '', text)\n",
    "    text = re.sub('https?://\\S+|www\\.\\S+', '', text)\n",
    "    text = re.sub('<.*?>+', '', text)\n",
    "    text = re.sub('[%s]' % re.escape(string.punctuation), '', text)\n",
    "    text = re.sub('\\n', '', text)\n",
    "    text = re.sub('\\w*\\d\\w*', '', text)\n",
    "\n",
    "    return text\n",
    "\n",
    "emote['text_clean'] = emote['text'].apply(clean_text) #maybe remove the name with the @\n",
    "emote.head()"
   ]
  },
  {
   "cell_type": "code",
   "execution_count": null,
   "id": "a3c42782",
   "metadata": {},
   "outputs": [],
   "source": []
  },
  {
   "cell_type": "code",
   "execution_count": null,
   "id": "7fcf9e38",
   "metadata": {},
   "outputs": [],
   "source": []
  },
  {
   "cell_type": "code",
   "execution_count": null,
   "id": "4148b378",
   "metadata": {},
   "outputs": [],
   "source": []
  },
  {
   "cell_type": "code",
   "execution_count": null,
   "id": "b5b70d36",
   "metadata": {},
   "outputs": [],
   "source": []
  },
  {
   "cell_type": "markdown",
   "id": "196c8d1b",
   "metadata": {},
   "source": [
    "## Stopwords"
   ]
  },
  {
   "cell_type": "code",
   "execution_count": null,
   "id": "4cf0ccbd",
   "metadata": {},
   "outputs": [],
   "source": [
    "stop_words = stopwords.words('english')\n",
    "more_stopwords = ['u', 'im', 'c']\n",
    "stop_words = stop_words + more_stopwords\n",
    "\n",
    "def remove_stopwords(text):\n",
    "    text = ' '.join(word for word in text.split(' ') if word not in stop_words)\n",
    "    return text\n",
    "    \n",
    "emote['text_clean'] = emote['text_clean'].apply(remove_stopwords)\n",
    "emote.head()"
   ]
  },
  {
   "cell_type": "code",
   "execution_count": null,
   "id": "8253cbb7",
   "metadata": {},
   "outputs": [],
   "source": []
  },
  {
   "cell_type": "code",
   "execution_count": null,
   "id": "2981e5d5",
   "metadata": {},
   "outputs": [],
   "source": []
  },
  {
   "cell_type": "markdown",
   "id": "29f7db93",
   "metadata": {},
   "source": [
    "## Word clouds"
   ]
  },
  {
   "cell_type": "markdown",
   "id": "6fbb4197",
   "metadata": {},
   "source": [
    "Replace the df and 'column' with the column containing the sentences and it will automatically sort out most common words\n",
    "\n",
    "wc.generate(' '.join(text for text in df.loc['column']))"
   ]
  },
  {
   "cell_type": "code",
   "execution_count": null,
   "id": "83f05d11",
   "metadata": {},
   "outputs": [],
   "source": [
    "#pip install wordcloud\n",
    "from wordcloud import WordCloud\n",
    "from PIL import Image\n",
    "\n",
    "twitter_mask = np.array(Image.open('user.jpeg'))\n",
    "\n",
    "wc = WordCloud(\n",
    "    background_color='white', \n",
    "    max_words=200, \n",
    "    mask=twitter_mask,\n",
    ")\n",
    "wc.generate(' '.join(text for text in emote.loc[emote['emotion'] == 1, 'text_clean']))\n",
    "plt.figure(figsize=(18,10))\n",
    "plt.title('Top words for positive messages', \n",
    "          fontdict={'size': 22,  'verticalalignment': 'bottom'})\n",
    "plt.imshow(wc)\n",
    "plt.axis(\"off\")\n",
    "plt.show()"
   ]
  },
  {
   "cell_type": "code",
   "execution_count": null,
   "id": "e475eef2",
   "metadata": {},
   "outputs": [],
   "source": []
  },
  {
   "cell_type": "code",
   "execution_count": null,
   "id": "8fc17b1f",
   "metadata": {},
   "outputs": [],
   "source": []
  },
  {
   "cell_type": "code",
   "execution_count": null,
   "id": "2a2f4497",
   "metadata": {},
   "outputs": [],
   "source": []
  },
  {
   "cell_type": "code",
   "execution_count": null,
   "id": "74d9267b",
   "metadata": {},
   "outputs": [],
   "source": []
  },
  {
   "cell_type": "code",
   "execution_count": null,
   "id": "23601add",
   "metadata": {},
   "outputs": [],
   "source": []
  },
  {
   "cell_type": "code",
   "execution_count": null,
   "id": "eb310a1a",
   "metadata": {},
   "outputs": [],
   "source": []
  },
  {
   "cell_type": "code",
   "execution_count": null,
   "id": "e6feb1fe",
   "metadata": {},
   "outputs": [],
   "source": []
  },
  {
   "cell_type": "code",
   "execution_count": null,
   "id": "888f4e65",
   "metadata": {},
   "outputs": [],
   "source": []
  },
  {
   "cell_type": "code",
   "execution_count": null,
   "id": "6f9685c4",
   "metadata": {},
   "outputs": [],
   "source": []
  },
  {
   "cell_type": "code",
   "execution_count": null,
   "id": "e28b790b",
   "metadata": {},
   "outputs": [],
   "source": []
  },
  {
   "cell_type": "code",
   "execution_count": null,
   "id": "59abbc3f",
   "metadata": {},
   "outputs": [],
   "source": []
  },
  {
   "cell_type": "code",
   "execution_count": null,
   "id": "43e0ee89",
   "metadata": {},
   "outputs": [],
   "source": []
  },
  {
   "cell_type": "code",
   "execution_count": null,
   "id": "04310fb5",
   "metadata": {},
   "outputs": [],
   "source": []
  },
  {
   "cell_type": "code",
   "execution_count": 19,
   "id": "7b1c989e",
   "metadata": {
    "ExecuteTime": {
     "end_time": "2023-10-03T13:45:37.374479Z",
     "start_time": "2023-10-03T13:45:37.358851Z"
    }
   },
   "outputs": [],
   "source": [
    "# Built-in\n",
    "import json\n",
    "import bz2\n",
    "import os\n",
    "import csv\n",
    "import re\n",
    "\n",
    "# Third parties\n",
    "import numpy as np\n",
    "import pandas as pd\n",
    "import requests\n",
    "from bs4 import BeautifulSoup\n",
    "from tqdm import tqdm"
   ]
  },
  {
   "cell_type": "code",
   "execution_count": 15,
   "id": "330caad2",
   "metadata": {
    "ExecuteTime": {
     "end_time": "2023-10-03T13:45:26.963811Z",
     "start_time": "2023-10-03T13:45:25.284790Z"
    }
   },
   "outputs": [],
   "source": [
    "import numpy as np\n",
    "import pandas as pd"
   ]
  },
  {
   "cell_type": "code",
   "execution_count": 31,
   "id": "ccc275b6",
   "metadata": {
    "ExecuteTime": {
     "end_time": "2023-10-03T13:51:38.016976Z",
     "start_time": "2023-10-03T13:51:38.003009Z"
    }
   },
   "outputs": [],
   "source": [
    "import requests\n",
    "from tqdm import tqdm\n",
    "from bs4 import BeautifulSoup\n",
    "tqdm.pandas()"
   ]
  },
  {
   "cell_type": "code",
   "execution_count": 20,
   "id": "62452ea8",
   "metadata": {
    "ExecuteTime": {
     "end_time": "2023-10-03T13:45:39.204732Z",
     "start_time": "2023-10-03T13:45:39.196742Z"
    },
    "code_folding": [
     0
    ]
   },
   "outputs": [],
   "source": [
    "# Utils functions\n",
    "\n",
    "def to_csv(file_name: str, pol_lst: list) -> None:\n",
    "    \"\"\"\n",
    "    Write list to csv.\n",
    "    \"\"\"\n",
    "\n",
    "    csv_path = os.path.join(RESOURCES_PATH, file_name)\n",
    "\n",
    "    with open(csv_path, \"w\", encoding=\"utf-8\") as f:\n",
    "        writer = csv.writer(f, delimiter=\" \")\n",
    "        writer.writerow([\"Name\", \"Party\"])\n",
    "\n",
    "        for member in pol_lst:\n",
    "            writer.writerow([el for el in member])\n",
    "            \n",
    "def get_pkl_year(year: int) -> list:\n",
    "    \"\"\"\n",
    "    Returns a list of the pkl files present in `PKL_PATH/{year}`.\n",
    "    \"\"\"\n",
    "\n",
    "    dirs = os.listdir(os.path.join(PKL_PATH, str(year)))\n",
    "\n",
    "    return [os.path.join(str(year), dir) for dir in dirs]\n",
    "\n",
    "def sanitize_name(name: str) -> str:\n",
    "    \"\"\"\n",
    "    Strip and clean name.\n",
    "    \"Senator Cruz, Ted\" -> \"Ted Cruz\"\n",
    "    \"\"\"\n",
    "\n",
    "    for element in (\"Representative\", \"Senator\"):\n",
    "        name = name.strip(element)\n",
    "\n",
    "    name = \" \".join(name.split(\",\")[::-1])\n",
    "    name = name.strip()\n",
    "    \n",
    "    return name"
   ]
  },
  {
   "cell_type": "code",
   "execution_count": 32,
   "id": "3f30881a",
   "metadata": {
    "ExecuteTime": {
     "end_time": "2023-10-03T13:51:39.515577Z",
     "start_time": "2023-10-03T13:51:39.131135Z"
    }
   },
   "outputs": [
    {
     "ename": "FeatureNotFound",
     "evalue": "Couldn't find a tree builder with the features you requested: html_parser. Do you need to install a parser library?",
     "output_type": "error",
     "traceback": [
      "\u001b[1;31m---------------------------------------------------------------------------\u001b[0m",
      "\u001b[1;31mFeatureNotFound\u001b[0m                           Traceback (most recent call last)",
      "\u001b[1;32m~\\AppData\\Local\\Temp\\ipykernel_8428\\2387867375.py\u001b[0m in \u001b[0;36m<module>\u001b[1;34m\u001b[0m\n\u001b[0;32m      1\u001b[0m \u001b[0mr\u001b[0m \u001b[1;33m=\u001b[0m \u001b[0mrequests\u001b[0m\u001b[1;33m.\u001b[0m\u001b[0mSession\u001b[0m\u001b[1;33m(\u001b[0m\u001b[1;33m)\u001b[0m\u001b[1;33m.\u001b[0m\u001b[0mget\u001b[0m\u001b[1;33m(\u001b[0m\u001b[0mURL\u001b[0m\u001b[1;33m,\u001b[0m \u001b[0mparams\u001b[0m\u001b[1;33m=\u001b[0m\u001b[1;33m{\u001b[0m\u001b[1;34m'page'\u001b[0m\u001b[1;33m:\u001b[0m\u001b[1;36m1\u001b[0m\u001b[1;33m}\u001b[0m\u001b[1;33m)\u001b[0m\u001b[1;33m\u001b[0m\u001b[1;33m\u001b[0m\u001b[0m\n\u001b[1;32m----> 2\u001b[1;33m \u001b[0mBeautifulSoup\u001b[0m\u001b[1;33m(\u001b[0m\u001b[0mr\u001b[0m\u001b[1;33m.\u001b[0m\u001b[0mtext\u001b[0m\u001b[1;33m,\u001b[0m\u001b[1;34m'html_parser'\u001b[0m\u001b[1;33m)\u001b[0m\u001b[1;33m\u001b[0m\u001b[1;33m\u001b[0m\u001b[0m\n\u001b[0m",
      "\u001b[1;32m~\\Anaconda3\\lib\\site-packages\\bs4\\__init__.py\u001b[0m in \u001b[0;36m__init__\u001b[1;34m(self, markup, features, builder, parse_only, from_encoding, exclude_encodings, element_classes, **kwargs)\u001b[0m\n\u001b[0;32m    246\u001b[0m             \u001b[0mbuilder_class\u001b[0m \u001b[1;33m=\u001b[0m \u001b[0mbuilder_registry\u001b[0m\u001b[1;33m.\u001b[0m\u001b[0mlookup\u001b[0m\u001b[1;33m(\u001b[0m\u001b[1;33m*\u001b[0m\u001b[0mfeatures\u001b[0m\u001b[1;33m)\u001b[0m\u001b[1;33m\u001b[0m\u001b[1;33m\u001b[0m\u001b[0m\n\u001b[0;32m    247\u001b[0m             \u001b[1;32mif\u001b[0m \u001b[0mbuilder_class\u001b[0m \u001b[1;32mis\u001b[0m \u001b[1;32mNone\u001b[0m\u001b[1;33m:\u001b[0m\u001b[1;33m\u001b[0m\u001b[1;33m\u001b[0m\u001b[0m\n\u001b[1;32m--> 248\u001b[1;33m                 raise FeatureNotFound(\n\u001b[0m\u001b[0;32m    249\u001b[0m                     \u001b[1;34m\"Couldn't find a tree builder with the features you \"\u001b[0m\u001b[1;33m\u001b[0m\u001b[1;33m\u001b[0m\u001b[0m\n\u001b[0;32m    250\u001b[0m                     \u001b[1;34m\"requested: %s. Do you need to install a parser library?\"\u001b[0m\u001b[1;33m\u001b[0m\u001b[1;33m\u001b[0m\u001b[0m\n",
      "\u001b[1;31mFeatureNotFound\u001b[0m: Couldn't find a tree builder with the features you requested: html_parser. Do you need to install a parser library?"
     ]
    }
   ],
   "source": [
    "r = requests.Session().get(URL, params={'page':1})\n",
    "BeautifulSoup(r.text,'html_parser')"
   ]
  },
  {
   "cell_type": "code",
   "execution_count": 33,
   "id": "389c1653",
   "metadata": {
    "ExecuteTime": {
     "end_time": "2023-10-03T13:51:42.295553Z",
     "start_time": "2023-10-03T13:51:40.941332Z"
    }
   },
   "outputs": [
    {
     "name": "stderr",
     "output_type": "stream",
     "text": [
      " 20%|██        | 1/5 [00:00<00:01,  3.85it/s]"
     ]
    },
    {
     "name": "stdout",
     "output_type": "stream",
     "text": [
      "<!DOCTYPE html>\n",
      "<html lang=\"en-US\"><head><title>Just a moment...</title><meta content=\"text/html; charset=utf-8\" http-equiv=\"Content-Type\"/><meta content=\"IE=Edge\" http-equiv=\"X-UA-Compatible\"/><meta content=\"noindex,nofollow\" name=\"robots\"/><meta content=\"width=device-width,initial-scale=1\" name=\"viewport\"/><link href=\"/cdn-cgi/styles/challenges.css\" rel=\"stylesheet\"/></head><body class=\"no-js\"><div class=\"main-wrapper\" role=\"main\"><div class=\"main-content\"><noscript><div id=\"challenge-error-title\"><div class=\"h2\"><span class=\"icon-wrapper\"><div class=\"heading-icon warning-icon\"></div></span><span id=\"challenge-error-text\">Enable JavaScript and cookies to continue</span></div></div></noscript></div></div><script>(function(){window._cf_chl_opt={cvId: '2',cZone: \"www.congress.gov\",cType: 'managed',cNounce: '7889',cRay: '8105a94aae080d91',cHash: '2de11ec88e7d6f5',cUPMDTk: \"\\/members?q=%7B%22congress%22:%5B%22110%22,%22111%22,%22112%22,%22113%22,%22114%22,%22115%22,%22116%22,117%5D%7D&pageSize=250&page=1&__cf_chl_tk=mxvUbnxgtnznt1lK7FdNY8fdWoFSjOSi6FB15XakgTI-1696341101-0-gaNycGzNC9A\",cFPWv: 'g',cTTimeMs: '1000',cMTimeMs: '0',cTplV: 5,cTplB: 'cf',cK: \"visitor-time\",fa: \"\\/members?q=%7B%22congress%22:%5B%22110%22,%22111%22,%22112%22,%22113%22,%22114%22,%22115%22,%22116%22,117%5D%7D&pageSize=250&page=1&__cf_chl_f_tk=mxvUbnxgtnznt1lK7FdNY8fdWoFSjOSi6FB15XakgTI-1696341101-0-gaNycGzNC9A\",md: \"9VJY27.R8O4EC1aCmkZsTsk0g8fu8b8KEqXHFwYT8xM-1696341101-0-AXYxchEd3kCfDrZfLapyaQhKftcFo7igb3GMCEywRbIReaaIGhllbat_4nGGkfZHg-XQBDbYl84MtQ_am4BE-SyPAqAn1pi5IpgIEajufTePRFqOkyws3_7KlXH9bKrswDI-rRtnmi6VlKk02Ce9n4faIcLjMT3rQmTlocLTbDa6nNjzp1tX2ij4K0oOuBfROFMxjIKaigR8aaJIi6BYFEtW5jpUbxTI7UV_iAj-dLyVNbDO3wc_58jKYZ1Hh9K_JJnGyTGgg09M9CsyFAj6TjaKVfXU_T6I72JZplUunOSPYP9Dgw3OCK0ii73e4s03yrrObw5XwSP0rVs6ojVdimy7UwpHpQ_fQ8vCZoI-gr5qiCAMV_TyAn6HEt1DL1BIU9gg16IXSp89asyEsxA9hcbXiNqT_IfS9xvQOb6hRriwSYKVOlBeAKObWc8ve78p54Fcn77m0P5NPvZ6F87HgWYTLm8vxybs9-avLc2-hu_UaCdL01LYKiGQAtPDNR5QelAAqGvtSNhCRYYQCTxMR6WWqWfwWmbpz8gsfobC3HS634qJaYl67JJY1IZaCZdswK24c4ptJyfrq1jhGuMeLA7CnGgzERCwUxqpt3NEDfC2LQ3_5_w0nRp_8iTg73DD4aF8Wazfh0wupqxsklToSc4HEgy6ELphTq75E5Iw7qdPzgQJidRCCJz1pyHDPCY1naWzquAT7k5JySFCBat-axTxVRHBeEGabIfcpv9hbHl7a3caghU3rQapT3c17mZKSnDRvd9Tttp-Zt3nTic7w0k433B-yuG35iih2uHDVpwT9E5UgcU32G87_B87kGpGWAyyA3KWcUGOdcnjK9QYdUa1uBvmfHd2jJoUasgl6hkydB-UKaSin0EiYsbaDP_WVza4hzBY7kh2pBayLELalYgd4ocZGV4ac_UbCiiTSjcLGHVVyY6Bd0xatPKFhm05WlualBfE26DEmJZn5tIIkjKsrWHl9xWIffr_biw4vOlm46J8eomoEE9PqAKmnSeKNBPNsCfefL23ghc7tSI-NlssxYgIBlNgiOutvMBIoYBicuPOYAn1Q0Vwlt_hyd_CXlkFrANikv4FWVCqbZQdpBYZAWz3FbnuqJiloLTeL4yDKDtzYWYeBXfKl3ixTDKmFrzwZcYl_eDkAxsvxA28d4zDsp3jv3-rM0W84lg9j72Z9iGBXiYUCzy7xpu79L_2yUSe5r2VAcwozaXd_Oej4VwQHjOdtiURthoO_QtFGkZ4vhmplHiD42lB6dNLXhegmQViCO1O0FEBfqo2LOz_G5E7m87i_JynuCxJskaqc15gZI4YN7Y_CVmQ7JCikdyDLulZJsKlaOzEg8zxu6n_D6BtV9pJlRiMu5VQAsWiL-M5h6p_y9rC0UPq39qm40NfalJwAeJVOTjg2NtpFk3CU9hwWClnPcm9H0jJlTmBrhVnLm9Bye2aw_J8dNoLU-5GaM4U_XhOmBSizY2TYWi5zJzB5YYBzO7KfsKnhaHhYHJsfdfKFtsjncAA3ujyFY7aWCJetlOzwcXeCMSOjM8SxvcMT3pi8Tsef_BREema4pSyPXHhFstDRCC8outXd7sQzpM4PmAXUkow-N0Nh5m_tHuiEOexJMMU0HsnFvExXHTG8NTsLK5pyNFQw8rG7KuvREL9ENl55fhkRMFofaXLA0j5tuXK9p9ghcT9LRXZ4_2cwE1uX0h_CG7VwJ3FHdDoZIbkzaiiL9AVtNSouYsoDOATtqY9WsYMYxiS7CNZ9tvyu25Y1d-JN0uLU-nOJYewc26E4ywYt0WW0XhRsw2znrJM2q7M1gEUDW7yYmgpGZ1gNDwn_Pbuzyu29-40O7M7bMM-l1U8mSSlIlEZh7r04qlG9d9Ycii81GIeR4D-a3kqSurWJRQ5R-3_iapDqlybVQe38sP4oyQknLThhlxK8MoNBZ4TdAhj7V5795Fubll4JThIdtIFqsGOwxwioZZo0ty1qbM1nFEyoFKV6W14zlsLcH6-SX1Kfibk9z13N83ImomdzrWzhWv1ALHVF_yEKxktvEbMM78fTJVmwLG86Zev6qTVyJ9_j0kqKADfD55WqQHvvkJAU9sJ7FzSzDnjS5GVXlehAeZRHWEB6rD9OX8BZhdmBNQ3QvR5bXHt5aDOtIPN1GCjZ52n3Xaa7cBcFMIec-1ZaLd26VAAazi3ZS7It1STasMpqxwMS6vJeZW_Q4J1_w4aozmAnZ9ysZBA6DeyzQuwcWB0iasqirKQha7bZInxMxMZTMyLBeFgjNa3Tg1GmdUsggKeZG0ZfQkHqk_cJ3ls2tHr-4qA9zcgk0CY_F8P_8KZgMaEYJEinG861VS_DCA0vbQdfx9JZgzR56ZbSYKXb_v-LtR0PQMFj-lX5fJu2iLqvA26zn4MYBo2K-kxpQvY9BnIG6d1JcJga25fhAxKLpkVmWoVR0Lg3KTQR0zwU1Vopf55e96VdHNuqRuQfvrqpL0bg62tyNGctOSoG499CC4FY3klTBMks4QlgexKBnj_RNCpfVhoipj48o4HqjHBPD99DHXwWY22W1bWhXzHgyt6PPP4FX6Mt1IWZqmaBmHacJ-nEBnkx_mMf0zOAfHWDHMMijHoNToKEkPPzt81czro_Jm6817Zo4rFjOO7qVjvfN0qKqiPPkv5U-EDAN14HJViv7bAhnu5SNwqgYfCQ8pq98J9DQawd_LfP3HQY61LngVuTR6oBYlBfXcj-WhhD3nxnq_YQ8Tb0sFwUtsKZGM_Rle0RDDwkabGk9eF6-QT1tAwi2kM0EwjX6eZzpDSetC3NyzTKU7b5Ah_EMXcyIiMWN5qPCdkmxpMgw60XwwbUY429QDp5jkBfKlkc9ibOF_cLiyrF_Fs8P2elpoQp2ZyIRXNwLnZDkrfX3NOjfDEb6HhkvrRU3U5_reT5ZozkuF5YzwGGvrwsvgpjuAr3VnF-Fu9c6uZ-CU\",cRq: {ru: 'aHR0cHM6Ly93d3cuY29uZ3Jlc3MuZ292L21lbWJlcnM/cT0lN0IlMjJjb25ncmVzcyUyMjolNUIlMjIxMTAlMjIsJTIyMTExJTIyLCUyMjExMiUyMiwlMjIxMTMlMjIsJTIyMTE0JTIyLCUyMjExNSUyMiwlMjIxMTYlMjIsMTE3JTVEJTdEJnBhZ2VTaXplPTI1MCZwYWdlPTE=',ra: 'cHl0aG9uLXJlcXVlc3RzLzIuMjguMQ==',rm: 'R0VU',d: 'uPkpAygMHzHvylEzg3MWctAEWpJI3G7K4X091Ahb/46ZmvQaB/czkoqO9Yh8cm1Bv71ahw5NyCG7dyIN+3Vt2J9iMYW5ujOyyIvEqSgiUzNLbQHu+FmUZicc9K1xTYxLI8c5NIRcEeTS7qsr91e3YYC8GYnJIukL1VmimThofx/5Dp9eDygFkb9G6/dVOSzNUU8EAdX+MJP4upVxxcVF+7Xnc0ohpMTuZvRvnMc5Lhqc4zJXehOHNB00rcZVs0lpIRdck2uCYScaMY9MR4gnsroyLoBNc6wMgySb5Alfy8mpWpuDAst/xPgtPtdjEe/7N/xktiF1eWy+CwO/ZualqRDwGGvWfmZ/gyoM5TKmQOcX+nju+1p2p1CejmIQPfWOTdBoHwBLZ2xciwGTUukGW1eStVw4yA7bZTg3XA0wPji0QdaVe4vqDtVgaIHqqUmwluLTDu3fnzYzJSU8mp1Oke3KKzZpSTSJsmKs1pfd+QmSHsawjLmLdvSlAJqX6kCKBE6C0gP9mbTFJtp0daQdEubZkJtcmth6JwTFk7qA5XKixA2BmvVEP+h8KVZzJRHnHPT8PHe7lb5tFf7CcIVPHA==',t: 'MTY5NjM0MTEwMS4yMzEwMDA=',cT: Math.floor(Date.now() / 1000),m: 'Nm2Fz4ss0Xi9bX6ZOQCQGxnHg0ugRSREFPStCakrk8c=',i1: '90MLT/g0ZrMrdJZ56Bvx8A==',i2: '/cg8SKfzBWWifRtDFHu6BQ==',zh: 'P/37dfGD+KUZFm0qKuE3N/q0gn3BGPttWTswwTYBAD8=',uh: 'SLdVolODg++SO356HusO5I/hbfOpiiOxQXj62i/MUkA=',hh: 'cTbG2zct7/9cr7abEWSg59sInRszec2mTWq3jspVNx4=',}};var cpo = document.createElement('script');cpo.src = '/cdn-cgi/challenge-platform/h/g/orchestrate/chl_page/v1?ray=8105a94aae080d91';window._cf_chl_opt.cOgUHash = location.hash === '' && location.href.indexOf('#') !== -1 ? '#' : location.hash;window._cf_chl_opt.cOgUQuery = location.search === '' && location.href.slice(0, location.href.length - window._cf_chl_opt.cOgUHash.length).indexOf('?') !== -1 ? '?' : location.search;if (window.history && window.history.replaceState) {var ogU = location.pathname + window._cf_chl_opt.cOgUQuery + window._cf_chl_opt.cOgUHash;history.replaceState(null, null, \"\\/members?q=%7B%22congress%22:%5B%22110%22,%22111%22,%22112%22,%22113%22,%22114%22,%22115%22,%22116%22,117%5D%7D&pageSize=250&page=1&__cf_chl_rt_tk=mxvUbnxgtnznt1lK7FdNY8fdWoFSjOSi6FB15XakgTI-1696341101-0-gaNycGzNC9A\" + window._cf_chl_opt.cOgUHash);cpo.onload = function() {history.replaceState(null, null, ogU);}}document.getElementsByTagName('head')[0].appendChild(cpo);}());</script></body></html>\n"
     ]
    },
    {
     "name": "stderr",
     "output_type": "stream",
     "text": [
      "\r",
      " 40%|████      | 2/5 [00:00<00:00,  3.84it/s]"
     ]
    },
    {
     "name": "stdout",
     "output_type": "stream",
     "text": [
      "<!DOCTYPE html>\n",
      "<html lang=\"en-US\"><head><title>Just a moment...</title><meta content=\"text/html; charset=utf-8\" http-equiv=\"Content-Type\"/><meta content=\"IE=Edge\" http-equiv=\"X-UA-Compatible\"/><meta content=\"noindex,nofollow\" name=\"robots\"/><meta content=\"width=device-width,initial-scale=1\" name=\"viewport\"/><link href=\"/cdn-cgi/styles/challenges.css\" rel=\"stylesheet\"/></head><body class=\"no-js\"><div class=\"main-wrapper\" role=\"main\"><div class=\"main-content\"><noscript><div id=\"challenge-error-title\"><div class=\"h2\"><span class=\"icon-wrapper\"><div class=\"heading-icon warning-icon\"></div></span><span id=\"challenge-error-text\">Enable JavaScript and cookies to continue</span></div></div></noscript></div></div><script>(function(){window._cf_chl_opt={cvId: '2',cZone: \"www.congress.gov\",cType: 'managed',cNounce: '17325',cRay: '8105a94c399e0ff2',cHash: '554367fddbe8309',cUPMDTk: \"\\/members?q=%7B%22congress%22:%5B%22110%22,%22111%22,%22112%22,%22113%22,%22114%22,%22115%22,%22116%22,117%5D%7D&pageSize=250&page=2&__cf_chl_tk=VLXQ5Ht2F3rgqlzLleYozIzFhw37E9cZubp4IZsPIVM-1696341101-0-gaNycGzNDJA\",cFPWv: 'g',cTTimeMs: '1000',cMTimeMs: '0',cTplV: 5,cTplB: 'cf',cK: \"visitor-time\",fa: \"\\/members?q=%7B%22congress%22:%5B%22110%22,%22111%22,%22112%22,%22113%22,%22114%22,%22115%22,%22116%22,117%5D%7D&pageSize=250&page=2&__cf_chl_f_tk=VLXQ5Ht2F3rgqlzLleYozIzFhw37E9cZubp4IZsPIVM-1696341101-0-gaNycGzNDJA\",md: \"agWGDnk3vTCLNX.e9oR9RJ30c4OiWuf5JtiIEAHiKtk-1696341101-0-AfZCZv-g8nOfB7hPy4qfOmD-dX3IMY3bYNt5AizqV1cU7IbQ9uygwULW7IstCcZsd95t4xBmUxK5ey3hMFdim_w8pMYTG94ifAf3fOg_QDPhU8KmvGYTxfnzHO6Ql23q_51n1daei1vtPZQMQPddXHO4mQmFmvB34bXYxvvNYTmFXtQb3cQbweVBgMV5UB57Yz57U3R6-zW4bQxFe1LZRo2MPIl4ZuKM_SRwN-6hVtpkAf4gXFgNmy3NhpTNxxXnpwUdwTktDQycSU85652qcmWSppmcOsen2YZP2IEgJSffiOsfHizs9ZxPYmfnt4WVXSxkT_cDR7tO1SBJOSREL3sNdhONmonRPT0gZimQKdBg7squi49NbwUJfvsp7_gC0ah5Nub0RCXR8NKEnYfLUFGoSVtdByjDQGMpXSF1Q-gqTMSnGrp1gjzEymEkt7PTYwylODOENCAGpzAsMCqcP3C4yj1vYyZpTQOPzNlay1Pt8wPM3af2F_3IwQ8K5xh1Yl-gBMbSm93ONog5ihtr4dYffHeS2PrKWmR66WUjwHNS914ejHgrRVlpdw04keXcAoOBKpcZ_1VLm_ji_xdu5HTbGdQH0DWPfzbOkgpgw9bCBHzFnESZJoWqBB3-fa7Kd5XkMhiy0-GuOgn-UgnzK1vrL_Y7Sea-XkGc_KrN9F1qzr2tYJtJCIegBpYEd7q6IpqSonHBb-7BZFfyoUcZKwrEV7uvT2b8BdhXySY7rEsZ3ISGNPniVdhmpEJENZUGgYGc8DVgLPT4ZyNelY8YVibVZPkNFNbR5GclLCaKORIHMiQnFjC8v24dPvL6EWRfRA7F3qfEiychC80tfBHbMp9Dy4pzk4oyPXKq_Cj2ULKEJrEYFEjhO31Qbp0CbJf1AKbAEOr6SMqQv-pkmpQZlN0h--waXSqNrCGEcPS_-PZbdWZtnNSPaqfED7fv_mqvYEiVu07jd7CcfKWIQGRXc2_KY5EDRnkdGCQesolFznQpwrSw623KJBfPWP_mPNmCnIEOEhiQgP7YhYCDbcl-PaMUH1KnguCsJKeQ_-PQbcIkxE0v0kOB6K__fltt7JsiHSaSy3bFlpNBBswE6CUmuF8GbOrbkPaWtNNJb691HOwYiljrV-TMcpuCU4-PkG_7VsiaKFxtWZ9jhiet3UY83B1mYuNGImxpNi4nZluiidTFmiJUy-6iuRhZ3Q_LAz5EXtTB45hHfxQq-shZQOcV5L7l7SBykvio6LGmXIjh2Mta7S2FJBY-UUNG_cb6vGDZfswU0LsTNItJIXtzI2p_5ILijgzJ1BIdr6ycKrV0-NPaJZcRu7h4zWZrakKvSCLpO_04hRRMaxuvEWlvtcGIxgiRTRBbwmDnlv6YYKzyyOrsiZRbG_j369pZip9sILJSg0pKTJ_MW2KypbnwAph7NXgSnVE-Kj351Q_z_YOFGmHlg_drGP6df9u3xfpXIili5meeBuHXwHugQbaH7f0ul6qUh9K0UA1NKJWMRl8a9RKFgowXnVFRrHR-ulyJ50GE5U5Ay3v3__5geOnlZDboaEVWu9NnTN9HDUjfnlOtkNZbWPFlXYoQHx7F435iZw_NDFA2rovrUpONZLld1MAxx74zEzpIAnINB1FBdSOrDRel1PWOgecDrqTTY3iJaNyAY6YqvSpYHeAUSmP3WpZeJ4trpMalE_vOhocwCE5mdJr6EziYx5wNuZgx1L7ZVm4LkY2zQTEnSSjDRpvgbZpLRA5rSELW9ezJlfIqEYdB6AFXnJ5HuZ4eG-SSFa6rtgoKQ9Kp9I4H5AYZWfVlGmQpgnjzw6uRBvk83wc0Q660BvtLc2a5hkD317jz8QWKO-Ff6_GTugz2wwZucLLPTGWZG8Vd6RofapYow3t_dJXv4LO0HQHWi6MVNU2Jor0e2NX0-8jnSNwFjKwvqGxIn_BOtLyE2NwbA4jRgRkJIpHeqzgvef6dm5kOOp_egpZnQZXFrTf_uJoiWvk4XmbQn8Py1U0k4sK5zT81Y6Aw2GRql7_w72lH7TPpPP_CrD93ZA9LN4tixbGGbvisPz0tpgie-bo9kU2SHLbSsrHjEBh_nDppGrHM2zRUxTrTjfIcU0NBTALsD7Zdziv39Z3-lUTyNvkQFRsebzDa12pvNam8mR56iiP_XPA83yrQlYTxTBdaI4dxPODhdKghJFj1Y1ziDtEwN0m3efzD_dBU46m4qDdu0q_9sNKV0R0fVMDYORE7GvsJOf-BhqlLML6D9NHoQGua83TWsR4etrcVPVmxgSO_E6JPXuw7y6dHxKK865DcSf_h8Y7F12crpz0WmRIwPGdhbel4CDa8aVc7f9QuQRDB4O_LOVaFRF0nn1GdV6V40dSH6ivzSlSWCnCcf4bK7VXxjyoTn9yXTzQOeySxwC_oMeiUtNRHHNIa6GybEJ5H8qGhDzmFvtEQOR88z-dhWuM-DDt1mLlm-przXlXjLbL9jQg_Vb30-LHpRMRJ9DJOqRmzif6hrqWybm14AHbjaIb6hRoxJbmB_0LkiDNiWGqpk035viWXqbvj8jhdm1jeJ5DxInaOm6XeVAffatlkZVHeubt7xrruYW9beqXNBfs-JO0XGlXQK-EmNk3r2asxkfEfLwesnlCYUFOxcbk_SJCSYkY_43SEWhq6ldGPubQ05HE9Y-54HBms2Ivg3keXR-QoLYHngCGkJ5YGKdu2_bZrsky_kTNtCLkJJyYxeJAXrNW_HS76C4sdoZ3rcspBhHYD3oOcj9JQHMzBKaIPq2m8N_WVVjRmBIio7sEBWljxghbGpLV2MUixfVs84q8Whjrfft1f6ZVWTc3Bl6DaDQ6KGWEI2ORMMz9Fj5hvjVgyM5YRVREIV7ae5tMqO3Z6ZuGzhv95gWSoCBlZYJxu_RL6h75BgGtRvvCL6v2UnP4z_lzHStFp5qHozJ-5DhmL4AmSn3c6_tVfo1IWm5phk_GWefWVJHDazpngq5XlPoviplLcybXrAedBO5UK7lIO7m_Nxrfbz_iI4JdM-bMooO-D2EqqL0M3V2bgroQqjsER1Zk5u2luxrHPx-vQARDcsHo4JQuwUDk22fSoFZPhSUO2pu31ijP-neLWCB0aqGyX8c-o5JAYW8-RsL8OW3MwbtLDLoQnDmNXFLa-CbHZpDw\",cRq: {ru: 'aHR0cHM6Ly93d3cuY29uZ3Jlc3MuZ292L21lbWJlcnM/cT0lN0IlMjJjb25ncmVzcyUyMjolNUIlMjIxMTAlMjIsJTIyMTExJTIyLCUyMjExMiUyMiwlMjIxMTMlMjIsJTIyMTE0JTIyLCUyMjExNSUyMiwlMjIxMTYlMjIsMTE3JTVEJTdEJnBhZ2VTaXplPTI1MCZwYWdlPTI=',ra: 'cHl0aG9uLXJlcXVlc3RzLzIuMjguMQ==',rm: 'R0VU',d: 'cWlhAf5QN6fmute4nzUNPYjTs4Eu4zPL061NtDmdrHen5KB2FnM/ChX+Q3GdhZamEQcwvA6lZIuHwhJbZeXY0nM7MDS1gWfP72aRyeCcK9cSlKjl92BJzZHvnGNEn5psF6jUuXFmvZTTgg7cdL/J3xuyz9ZbsucxFvXxijPKab8umgyDDJekdyNhFmytR081bLZr0lHILFVHp/A716lPGwg7CatseAn/ylsRq5bqqUOSAZ+dCz3oHYoLyTd1nUeN96Wb3ajSQRoIa9Txw8zbQduV8dbi4MNKby31ULTgEXF4sbJjJzyOzoaMyl2ZaAhT0vSdvZg52M5uci7lSoWbQiyAHw9ikV90n7GpGS0+4ANNKNjkvPTSoMK7s2wcEOYcGYa+DHidNUnImmfX3EIoAfXW29hvVsIyd4Miofpqf9WYjcJrz9UchrK7SKuotaft61CKZxNh0zi8kIEDk4qOasBknx3i5udllCjs0z1LwhxPjwr7TPuLaboSejHY5ag05R19Qa4mPzK8EVKy1bp6rYdgd1ewDwZQO9hp2WvLLIJJKhuttMIdJR97ao5WdFX0g7gdEUQhEyDiNP9dcWBGtQ==',t: 'MTY5NjM0MTEwMS40ODEwMDA=',cT: Math.floor(Date.now() / 1000),m: 'mPEW/kT+unwLxddzK4dPfHSakpKd2HjCdrfE4Pm6aro=',i1: '4EVp6EvCv9KmSyyEzvKKLw==',i2: 'IUQ+ATcjh+gxVL5PwZoeHg==',zh: 'P/37dfGD+KUZFm0qKuE3N/q0gn3BGPttWTswwTYBAD8=',uh: 'SLdVolODg++SO356HusO5I/hbfOpiiOxQXj62i/MUkA=',hh: 'cTbG2zct7/9cr7abEWSg59sInRszec2mTWq3jspVNx4=',}};var cpo = document.createElement('script');cpo.src = '/cdn-cgi/challenge-platform/h/g/orchestrate/chl_page/v1?ray=8105a94c399e0ff2';window._cf_chl_opt.cOgUHash = location.hash === '' && location.href.indexOf('#') !== -1 ? '#' : location.hash;window._cf_chl_opt.cOgUQuery = location.search === '' && location.href.slice(0, location.href.length - window._cf_chl_opt.cOgUHash.length).indexOf('?') !== -1 ? '?' : location.search;if (window.history && window.history.replaceState) {var ogU = location.pathname + window._cf_chl_opt.cOgUQuery + window._cf_chl_opt.cOgUHash;history.replaceState(null, null, \"\\/members?q=%7B%22congress%22:%5B%22110%22,%22111%22,%22112%22,%22113%22,%22114%22,%22115%22,%22116%22,117%5D%7D&pageSize=250&page=2&__cf_chl_rt_tk=VLXQ5Ht2F3rgqlzLleYozIzFhw37E9cZubp4IZsPIVM-1696341101-0-gaNycGzNDJA\" + window._cf_chl_opt.cOgUHash);cpo.onload = function() {history.replaceState(null, null, ogU);}}document.getElementsByTagName('head')[0].appendChild(cpo);}());</script></body></html>\n"
     ]
    },
    {
     "name": "stderr",
     "output_type": "stream",
     "text": [
      "\r",
      " 60%|██████    | 3/5 [00:00<00:00,  3.59it/s]"
     ]
    },
    {
     "name": "stdout",
     "output_type": "stream",
     "text": [
      "<!DOCTYPE html>\n",
      "<html lang=\"en-US\"><head><title>Just a moment...</title><meta content=\"text/html; charset=utf-8\" http-equiv=\"Content-Type\"/><meta content=\"IE=Edge\" http-equiv=\"X-UA-Compatible\"/><meta content=\"noindex,nofollow\" name=\"robots\"/><meta content=\"width=device-width,initial-scale=1\" name=\"viewport\"/><link href=\"/cdn-cgi/styles/challenges.css\" rel=\"stylesheet\"/></head><body class=\"no-js\"><div class=\"main-wrapper\" role=\"main\"><div class=\"main-content\"><noscript><div id=\"challenge-error-title\"><div class=\"h2\"><span class=\"icon-wrapper\"><div class=\"heading-icon warning-icon\"></div></span><span id=\"challenge-error-text\">Enable JavaScript and cookies to continue</span></div></div></noscript></div></div><script>(function(){window._cf_chl_opt={cvId: '2',cZone: \"www.congress.gov\",cType: 'managed',cNounce: '77838',cRay: '8105a94e2b5f0fea',cHash: '0fe10f765b64073',cUPMDTk: \"\\/members?q=%7B%22congress%22:%5B%22110%22,%22111%22,%22112%22,%22113%22,%22114%22,%22115%22,%22116%22,117%5D%7D&pageSize=250&page=3&__cf_chl_tk=VLXQ5Ht2F3rgqlzLleYozIzFhw37E9cZubp4IZsPIVM-1696341101-0-gaNycGzNDJA\",cFPWv: 'g',cTTimeMs: '1000',cMTimeMs: '0',cTplV: 5,cTplB: 'cf',cK: \"visitor-time\",fa: \"\\/members?q=%7B%22congress%22:%5B%22110%22,%22111%22,%22112%22,%22113%22,%22114%22,%22115%22,%22116%22,117%5D%7D&pageSize=250&page=3&__cf_chl_f_tk=VLXQ5Ht2F3rgqlzLleYozIzFhw37E9cZubp4IZsPIVM-1696341101-0-gaNycGzNDJA\",md: \"hwIREH4Qktw.JzJvYSaBnSuA651H8F519eT_hMG74dE-1696341101-0-AecAf0kpNNGmKvyodkLAlrR1jntpa_ZUOBfFgIDlQaYEOn41wvSD20jACT-AED0WXBwmZZmhpqiWegkH9RcAGmJ_8haTO0y4D5HFbnzYMfbEW0eDxpEtI-Gh2M80s2bfqYPZedrbNEKTwrDJTDKgx13CdAkeVhdo0TjqQaJS37yjJGCtZeSAnX6LeBb6l6vZ6iITf8rHeyi6iSyMHhfdbNAw0HpFH8LiFHKoPgXV8BMtguDl9XnXYaXpZbag4XVOrjXo2YPPxeXldn_UOuqO4DvYBPwFM6L3tAIE6lUzbl9FNAU8LsZN6XMagYRPeTeDfWbgVVg_BsBRuMbgO85Tr7fC_8q5VsOaUl696eYCFBQMBh2-2lNzptLWK22COGOzmjxq4-chZyqNq1dzOeie690PjyzHnft4vnWA7l1jC6ZpyMW9A-mQHWRw601j-PVoy4YF1Z0JcBfOQI3GyH1veGQqEAsU7WHyT16MiVkK-4K83FpHOoS_Rgb0CJTBX7_lM2ycJqZtrvAUrWFaz1VYHctL2jUmA4vzmymTlFGGLAp-tBMfV2T0wB2DXPOTFPPKm1PvessduD2snqljJ1XNZJvv2fqfuk9iL4u6Ojpz2U_SdYxGUt88UJyCPW1y3-afyhy4ZG_w6QnF5zz_XFDl5U1yAbaiX5V1dbUHLAicpReN-jSuChelMfkOSsTnzOcDjKE-2TlRy22BXTViS_lsIYzA-nhwtrMZyhOqqeecnQCwh4yPi5H37DMtwAg-L7vIrIwmStwTkl8Dc653CD8s-b1_UpmDxiThLezfn5fTNsHmsJ1lxzH71Xs71CuO78N4M3uvlAnyk8IrLoBonhxeWiEm_r2Em1fsfFWCJz7GsSNtEgSNw7O5WeLWt_Y2LrsYnQvVSE4eJy7TeU0HPhpIYSLkJLPztzNsg1LhnTb5vKa6Otk0Llgnn0PFc4hqVJc4RfGuzFRWZvq5t4N072jMrcOidTRzM5IdYIaAArZH9Vx9rjbhqIj6-Ppt75KruirkaJnnHCdhDtqBM0FSAeSkglurPHezb0UM3RslTQd1p-jnykIi-FRx-duTECELHQKMWXWStUX8YeA1TQ8p4db7R0B96eEWx1W7LS22vOuv6YHkET2HOVNdwkuC91ONxKTdNVheXj2ER6PKTBKBG1jMPL-dTWogxCPddDG7Ga26YCGyho7Ql7epKQJhCCsSyjfCstvvyXojr-2tnG-bNQKy7WyvEr8RKuwDrFyd6neRQ9aERS7l0c6CopgV9jen3JZY3gmZLEV1vNT0p8KYH784UVLjFnzmpt9XaDnZhTp9HTLc1v0JJjlPgottHIhyShS-dYMDQ4cL6g3wYDtUdbtBT72sHhysbXSXNrt03YO-jJClZ_LqfyjG_EPPEyaDk9nYQNBSqhDSkIW1JSmtaNSPC7H16jc3UEeLYY7JyDbYJy5Ivj-cwnRKG5a4yqpBR3WMAr_3wfJdp5eha7ehZfMPmo2pvy19ctjYy5HQEV4jmVDuw1I2_ck7U5uhF97AIVOfFJCTsENYTXBWv61u4XKXSh9MR4poDV6XvCi6AeqUFJd5rTmDLXpO4mGFVR_RtjWPE6jnz0L49H1C7R9CC8r_SsCR0acdoBGejVPeUkFYIHsYw_JtT5HLMLU59Bho7iLroxbXrfE540CHvNUy1r5Gd2VBH_goRW10w4uppKD0GrhrOUimiEBFJeJzp1LNrtVH9v-W-BI1qQ8QnQaHgUEV02glMDVTjKVTfxZMQ3U8KbS6zVimABhJSSviF7Ue3SJVvs5QhbsDSJ6PQrAiLvWXY4-bzEXrxGupMbSBZSLpcIJtQW0HRoc4OgDdtBWrgQmaYfXQBo3x6WgZcFJ6bt2OcUOz52Jvwb3-8ZyxzNyOb-OJmC_MZIyhy4uPi0M56pLWJuM6iZaSPgKYXB1xoh6V05D_vQLCS05qIer8sk9ZgV2VT_AYVb1LcXVVB5WnHFX3g-5hOl5nw3Kiw0_9M1LjLvlIGZFVBv9JSHdjjwWbb9y2paz7rIhHn9EnC4Y4DGdvFhHfsO517EXCcg_Z67HM66IkNOYxgqDVJVAnxrd4jHh0xnP5TwYOoT6ee1-KMwPR1jYjcwaYkpJOCs5VUwZSsxbSjNJ4ebhTdLp_w2t-PGJCR0WF66iaIWtsn-aqOlU6ukSwUewiEeLz7LzHwmW7__H93qgHud9iM1vObysU18wqSkkyda51aFzPYmYyE08hNWrrGQ0RZ6m9aGGJaF7V8XRGEAN2kgiGbuSVZUhSNKAwO88vL2yzSu0rJSJnWI3xI9KdVs6WwxTroW3qjloXEYLie2PG0QqrNM_TVyCNmLI4Qj3G96HQbxulEaALwhu6WiM0SIqdnFtLlAjkzKrXboQbzBE0QDqUG3ve7vsZZKSXNo0KvS8xsnqTuAtm3CfkRPqScve-KTx8q6GJ4w41u-FWIwron0G5bxlOA87rNMsyLvUu0OLZe2tbKAax9PRs6OlgcpFFvGILFnMgRGTNguCr2GcznoTGxjmFeGQGmiWuP3Aq7I3so_kYfEAoUO13obQpzE1wXTm5S4q_7_0cC8Uxw24fZIpO0EHnYoOLg1F1K1rkLuZahCz5dPKaBgBRuwSY7tHEbk_7MbpwMae4A0XdOsSo8vTcj0UwXkmvSLnpB-6vQ0FL3cxNFUxSnIYMA3673b0-SndVPFxprZKb13lQLciu2bm7YFVD6SSzHd-bIH3f3Vp56vx7zqkO1tYi11VyQkf9sASra1-wT4DaHZLpmbf2Q-Kr4qvsmTMkllZX1ZKVHf6cqdBOO-nvBBxPoNJF7bm1eyDFxhtXeyG4Avy8mtzuK7LR-D__uUjrMmvT8OtXKExROEKvTg8aievcMhjBWIWfKsdPM1y2TA2Nj2XCLi8ISGEBl4pIRSMOTxpeNejwWGFSx1qhXiaqdYwsVjqPc_ztciHcPIJ1j5_zF5B_X93u3vRyTQmyz2dMnwcgQi_RLKDFQCUT1e58ueeTW1JKcF4bzJBfIrQ0exblhh-d6DHtETJ88ewGKltTnvPtsjGV5VdzQ8DJ7Et-zj1WatE5vMpbV2Ebnp0_UCwYh8ytvAPwQir5R-qCashtrzOfQ1KxhJM4cIGO_MyIGwHWDwZT2PdikxlVYhQLbMX2pyQ\",cRq: {ru: 'aHR0cHM6Ly93d3cuY29uZ3Jlc3MuZ292L21lbWJlcnM/cT0lN0IlMjJjb25ncmVzcyUyMjolNUIlMjIxMTAlMjIsJTIyMTExJTIyLCUyMjExMiUyMiwlMjIxMTMlMjIsJTIyMTE0JTIyLCUyMjExNSUyMiwlMjIxMTYlMjIsMTE3JTVEJTdEJnBhZ2VTaXplPTI1MCZwYWdlPTM=',ra: 'cHl0aG9uLXJlcXVlc3RzLzIuMjguMQ==',rm: 'R0VU',d: 'oPRpG22I2URrLgOJLRxBF/ZHVsYGXrdkBClxx64gBLJGrDBRx7DkKao9KbhVYDxlFwtE8Vn9tOw0aCF2xTfx9vr7dv5p7lsF4bbuJ3C4sBBm+6AKAMOaOIJNFoNBMqppZa35+IYZ/I3nE+L1AAAUZj5QeVwHkJXYS7QT3B/R1OBWq56EgDOZlx/d2RLXtii8HwJQE1ATG1fRYrlckIPbM993o0AE1l5VcQFLYYVsg0bNEsIrLL26Oe+JQD7H/e1UoDLVrmDX859e9il3h4dipZoIK67CMhbWAcVPfe4GwLti2/U23bfILFO0+MvBKBAKJGK9+bP6/wVH290+HGQu7YzHtJWA1YxUVikXeQgHcsN5wR+FcL7j7mv32GG8ZlrbGh5RgATvhlfamk29XTjbyxPSeVY7wICBbdn8WJPrKejNmkpMiOMOZT4IG3TCN2p5XYmvkHWtULpPMvwB/Fw6XnGXPJW5BhZdlrpgq476XAkGlDaXD+EzW1mb4CgZzqBwhn6mDgtY992s0+YoBC+ydkyEBV7IpP6r1emEIdtPpC8EyuzwIJBMLkqvDYPynrn2a08WwuRBq8qsIEBiQy4gQA==',t: 'MTY5NjM0MTEwMS44MDUwMDA=',cT: Math.floor(Date.now() / 1000),m: 'TvUuRVn/ONbymhmWNjqKIKi9Fm1VE0ZklaIDwl0kcbk=',i1: 'MiYiSIHxWRlvYh/icRCoiA==',i2: 'SmOa83D8pNHvm8ZPNcUVsQ==',zh: 'P/37dfGD+KUZFm0qKuE3N/q0gn3BGPttWTswwTYBAD8=',uh: 'SLdVolODg++SO356HusO5I/hbfOpiiOxQXj62i/MUkA=',hh: 'cTbG2zct7/9cr7abEWSg59sInRszec2mTWq3jspVNx4=',}};var cpo = document.createElement('script');cpo.src = '/cdn-cgi/challenge-platform/h/g/orchestrate/chl_page/v1?ray=8105a94e2b5f0fea';window._cf_chl_opt.cOgUHash = location.hash === '' && location.href.indexOf('#') !== -1 ? '#' : location.hash;window._cf_chl_opt.cOgUQuery = location.search === '' && location.href.slice(0, location.href.length - window._cf_chl_opt.cOgUHash.length).indexOf('?') !== -1 ? '?' : location.search;if (window.history && window.history.replaceState) {var ogU = location.pathname + window._cf_chl_opt.cOgUQuery + window._cf_chl_opt.cOgUHash;history.replaceState(null, null, \"\\/members?q=%7B%22congress%22:%5B%22110%22,%22111%22,%22112%22,%22113%22,%22114%22,%22115%22,%22116%22,117%5D%7D&pageSize=250&page=3&__cf_chl_rt_tk=VLXQ5Ht2F3rgqlzLleYozIzFhw37E9cZubp4IZsPIVM-1696341101-0-gaNycGzNDJA\" + window._cf_chl_opt.cOgUHash);cpo.onload = function() {history.replaceState(null, null, ogU);}}document.getElementsByTagName('head')[0].appendChild(cpo);}());</script></body></html>\n"
     ]
    },
    {
     "name": "stderr",
     "output_type": "stream",
     "text": [
      "\r",
      " 80%|████████  | 4/5 [00:01<00:00,  3.64it/s]"
     ]
    },
    {
     "name": "stdout",
     "output_type": "stream",
     "text": [
      "<!DOCTYPE html>\n",
      "<html lang=\"en-US\"><head><title>Just a moment...</title><meta content=\"text/html; charset=utf-8\" http-equiv=\"Content-Type\"/><meta content=\"IE=Edge\" http-equiv=\"X-UA-Compatible\"/><meta content=\"noindex,nofollow\" name=\"robots\"/><meta content=\"width=device-width,initial-scale=1\" name=\"viewport\"/><link href=\"/cdn-cgi/styles/challenges.css\" rel=\"stylesheet\"/></head><body class=\"no-js\"><div class=\"main-wrapper\" role=\"main\"><div class=\"main-content\"><noscript><div id=\"challenge-error-title\"><div class=\"h2\"><span class=\"icon-wrapper\"><div class=\"heading-icon warning-icon\"></div></span><span id=\"challenge-error-text\">Enable JavaScript and cookies to continue</span></div></div></noscript></div></div><script>(function(){window._cf_chl_opt={cvId: '2',cZone: \"www.congress.gov\",cType: 'managed',cNounce: '50122',cRay: '8105a94feba51224',cHash: 'cf8ada845653de6',cUPMDTk: \"\\/members?q=%7B%22congress%22:%5B%22110%22,%22111%22,%22112%22,%22113%22,%22114%22,%22115%22,%22116%22,117%5D%7D&pageSize=250&page=4&__cf_chl_tk=AY8CvLqdAk7w8jUR9GzI3EsMutQj0ygNv5FQYQ5FN58-1696341102-0-gaNycGzNDJA\",cFPWv: 'g',cTTimeMs: '1000',cMTimeMs: '0',cTplV: 5,cTplB: 'cf',cK: \"visitor-time\",fa: \"\\/members?q=%7B%22congress%22:%5B%22110%22,%22111%22,%22112%22,%22113%22,%22114%22,%22115%22,%22116%22,117%5D%7D&pageSize=250&page=4&__cf_chl_f_tk=AY8CvLqdAk7w8jUR9GzI3EsMutQj0ygNv5FQYQ5FN58-1696341102-0-gaNycGzNDJA\",md: \"kUjwe43Yg6GvBYmTt7PFwYqqsVTjgu6oXGbaZrgMI5Y-1696341102-0-Ae2Fb6rkdv3BWjhfC_MZTKh2HD3BmpdnmiDM3sWtZScM20pblPWiB4cWHVFvKmleVHXKMrll3zF9wpWaXlF_x_OzSAwosWIAQSJCek6xlL_oV1qbuqTQu1x2NEeIuD28EIQ4VW9p72giKjWnQOxKQAaCaOgjDy7LVYir7eP9p1-xlTBysy2TBTXHFw6Gx2g8YYQCrF3aIBqygi29KxAqVkjJju7mMzfLdPvrjV5onQFu50wCVk9n8FlAPXAVL57HxCZ0ToNQvldymc_M4rztea3Hfr24FbSD1g-iVE0kqoTO3y-e5wsloCEKWgByCxtK7H8pF9wzttLsc6m6DXKi1F21VzyZ8FI5zfGRTlPEoOxOJuID-5E69WGlvAhmpAL08IXDTp176jZyTCNbDA43lc8TBqq2Ea5a6-JOrQkk9zgJGQW0_S6q5xa4Tw7m4EuSArvQ9fI2Fra38c8ZnPzMLx8H--7NjOOHSvddkvQ28FBtyulY5f-ThwCVu16LlDZxhPVPGFJxdQHYMLtnxAMtAkMLoIwkIMCib4P6-a7EibCndrESo-5svHCFhUE4Nn83EeV-buNlkrbhasJ8k9J_Crkhqq7YPfMMM9OP-XXOKfAJ7Czc3sU1OwqJt6KLKW9BCDUuEaaU-K0YwBH11VWAfr_wAlnARM_6De1-5lMbs7g81ps6UavFbfi_COHvIF8mlB8d8HLvjFDjUn2ww_2soDU2ts-K8G2aYGfzNvvh-ZBRrVkJHhqoF1j1WL_Y3u3IcC4r7b6P2JMG4fpHYJGtt2_JFExFF4rVXDfxD8CD2jebIZayHrXMJMEVKYr8O9CPCfgX3yrUDEPUvBUetBlHqR-VnfVS3BEVOnMK_G9g7dmRdTPQ58GU2uyTJPH21VHNrEo5_kamxm6DQPWC9TIs2uyozuSCEXw_SmaqB4Cr7gXdy8Qt_I4OZt0LpR2XnLCAORjpd3H37UxN4NkGaP6_1AFPV6BFVs-ZyJh4vpzy4QzB9uK7XuOV6VbQ1JCCIOYSlpzg--yVhhMwNjdwWAyZuvm52WRlKrKeKCSyu-Lx1waQsS6myKZlhF0GUg0cJayf81nmUUEKOjM3VdI0_x085APyL1S4P4m9xNVw9P2z9Pu1ZicBi4Gn2jscY8zZOOSo2TZLcLDWdm4Ar27Vs6OAecaS3yLgY9B0hnKw2UF5lvfkz3TLBr5DVFQ8c6HpSy7uBKmWLNNgNkf3G-szGHlXeF-2ZrGpmN4pxxDRkQYSP6a-vN85jKb6hsBv5J7oqg2_ygXvnBKjsoDayTtiHVVOrlkTQleKahMS4lNV_7sgEJzR_amP0LSLtRuuxpZbXXSFUBQrKmUXlW8LmfkTLBJgNHYI-p5YEzYhgAFx8nNmrAWGinWyoIDPyxzcTv50vWBvla2cdyIajAAE9VuO4ppfcniGrhZrfcXQ2SIZuYrJXjDM60OvysEpHrk4VkMPkK-CFikcMM1Pe1pe01IvJb9taIptKrc94FiuZwOGvsUoWTS_kgYWA0m8dRSnb-JsRgK1ujrx9EhY3JiECxVRY1C6BeMrVF3LLvcxgveKOhaMZBAiQ4BmjadodHNCSK7tK0lvCXDmJheC9PP02-K4MF8af0Rf9j3YAgVxLtB9GfsOP8Sr51ghdYsEyP4_aGkNcLIeijNfGXRLwNXszmB_mbDYqVp-SY19qb21U2INXJ1LCbtcd1wq7b_szubk3oC3YHNsZhmZH_pqaxOSyl2vzfej9FV-_0pYcXvv8r5IZvVzTQ0_iWBLEQP8tHN03YcsZAb10ds504pCrzgeIZbbgiDl7o7jAk6RkGFpAyjPgVFvmnjtBDiZjpa0UVoqf3nZrZzNt4B9_BgVKo0TtP056Nv4pzGyY28UT6xmsqAJ7vMqKY2n5Afd1JcScN1Pt8KAwowD8-3NShV_JJUTi5KP-wJLOYhEIgh5Vyn0yBYFhGyoc5OITUKs6XQD_XO1-9K_8NHyNKTSfAECF-ulPs4UIGwFKmpJEpa_SufPGSV7FrFjdrrurQi8aR4XXxon-cplis599XnqnDjGEB-XCTH4mvSENpFBSDb6DofP5pqYzSGWQkVxZE9w9SRhFvPpgTq8MgKwNzC1-Y-lUSflyaWWmfBfakISRdBbCwwZ1a0JMz9Vs9NWWgxfkdLz5lKkRs_e3iVqXfQI7PcPMear1MDSJnzIjGSJs2dJjXIcy1nfmDoGqCpTZybqZihO93UrZIXtL5b29kFK9UPOcIXH2qbawTN36fb_VUv5aySHT_9GMrcLraIp-n-r8qZy_LwaSefeMclS1OtUuAaaRVPU-UfpBEZHBQv_lOcqP_qX2xC9-slzD-zT8XwoGb8wiPjbDOzv6SFX1pNW9dSxLJsV3h11ffQwh4W6MTI8G45jdn7ru6-07thY9pueNDPz3AEEuykiiNyO7b-zxavHd81SpltRH3Xu86e5VVztcLeLuG8me7h1nh9nQtrN7KdS5RVphG_g6iSeKKmfXmX7KzQArrTyTmph4A5aEv6AweWs8YC3oDDwzl2iKZenO1V5d6IjG5wmA0J-nmFrX7hG7rqzF81FlMNqPzvDTkRJa_5Pem1A3eG05U-3U-RcEecTCemisNURoXWC--NjtvdMLM1-1qOJC2x2kywUkRDyVhfEskW65khwjVmk5S0wNnjjJ-EFDizR1hDrgDYaBcxg4pVOG1GRbEN8eKekOLQFjQ1MyuCa3ZwRoGqj3_AZLoh7Djg0hSYLxKRpOAdUD29VEDlE74D5H27gGTNozjbxuGAEsjqvZJL7x_jKxgYBvBS4mdKnaThxCiSHhfJ0Z-InKSKMX0OtaQzPZyi7XRKNqMzCEbv79JsqN68bPXLxjruBSrC7gLpelh4Yoqm6Z7vSyOhKgfpsdjdlHc2Hhk8KlX80BsyoVmm_7getKEQk2Hd5stz6tbDuAsHItvTG_ZdRfzT3k3VEy5-aPXNKzvlVUSBhGHPkBfsuQzhsAAvvS57fTVySYiAuDLMFi8ZTehMbVfghXr2lX-RNtZb490Vp9pOYuHMG1TDroKM6OmXZkK75oK9l5KholGT-COTQoPP3BBiW69IwH9r6s9_m-2iPeL9m5X-bD7SJ6htNnqev1aYouqCm8eEOkZVwYZL8w-2yQtOvk-SerNiBolA\",cRq: {ru: 'aHR0cHM6Ly93d3cuY29uZ3Jlc3MuZ292L21lbWJlcnM/cT0lN0IlMjJjb25ncmVzcyUyMjolNUIlMjIxMTAlMjIsJTIyMTExJTIyLCUyMjExMiUyMiwlMjIxMTMlMjIsJTIyMTE0JTIyLCUyMjExNSUyMiwlMjIxMTYlMjIsMTE3JTVEJTdEJnBhZ2VTaXplPTI1MCZwYWdlPTQ=',ra: 'cHl0aG9uLXJlcXVlc3RzLzIuMjguMQ==',rm: 'R0VU',d: '9YC+4ggxx2m4YZH9jhcfgGzIsA5WGniqxQZxgLDZuq2EthyS9SPJo+9nWw3bNNwEbktOtq8HYs+7fJP25OMJPfLCWzNAcBEkOGyR8jcC7VsOwUXX6h7rKFXslwhIr1/7aCpaLk3C+MS4gYuyydD09GFuVpno1xEKl65IglVhS66BY7WUdsCfbtczLP0iqaUuvRZ5mwHLay+h17A/uky3wTYa0iuvcM0Bc1EwiyxiPAppBvsk3Pv+Qp+6cOhjF6ptA2Y97TaeUz5rmbm58sHHk7hRJlOf+fXk/9aTPTIKjG65OtaydfXqN9HDSGdp2NtCv7llZBKKH69nC39Nw9fynHb6lgNRXXHl+0E+L91a/JTFgOjcVC2oD+jCqhDESU7OITRjKk0r2gxLYAjXiaZYalz0MXWf1Fwvf9adtDKSNFk28PmualkblRxu8Zg4oh7fVVavCpWAAP+JoPqnLvEbQ7QJW1eS25HzSVZKRPIDKAjL1sAlZXsmoam4Wv/HUmoMmIpcUvV2URy6RyExa2FqP+/DGqqK9FO+MBztv6PsDiTTXlSEib3fCXkS6jkDXi0W4z71uFnwhEoVmcAdVOdK6A==',t: 'MTY5NjM0MTEwMi4wNzIwMDA=',cT: Math.floor(Date.now() / 1000),m: 'F765KzGo8O1i81YDX3hgKLmS3xwbDoS/MFhMD5v5oLM=',i1: 'Y2AeI+MZ8o8hum6iFRrt4w==',i2: 'Yo0vsGVWVDORmNps2D3ajQ==',zh: 'P/37dfGD+KUZFm0qKuE3N/q0gn3BGPttWTswwTYBAD8=',uh: 'SLdVolODg++SO356HusO5I/hbfOpiiOxQXj62i/MUkA=',hh: 'cTbG2zct7/9cr7abEWSg59sInRszec2mTWq3jspVNx4=',}};var cpo = document.createElement('script');cpo.src = '/cdn-cgi/challenge-platform/h/g/orchestrate/chl_page/v1?ray=8105a94feba51224';window._cf_chl_opt.cOgUHash = location.hash === '' && location.href.indexOf('#') !== -1 ? '#' : location.hash;window._cf_chl_opt.cOgUQuery = location.search === '' && location.href.slice(0, location.href.length - window._cf_chl_opt.cOgUHash.length).indexOf('?') !== -1 ? '?' : location.search;if (window.history && window.history.replaceState) {var ogU = location.pathname + window._cf_chl_opt.cOgUQuery + window._cf_chl_opt.cOgUHash;history.replaceState(null, null, \"\\/members?q=%7B%22congress%22:%5B%22110%22,%22111%22,%22112%22,%22113%22,%22114%22,%22115%22,%22116%22,117%5D%7D&pageSize=250&page=4&__cf_chl_rt_tk=AY8CvLqdAk7w8jUR9GzI3EsMutQj0ygNv5FQYQ5FN58-1696341102-0-gaNycGzNDJA\" + window._cf_chl_opt.cOgUHash);cpo.onload = function() {history.replaceState(null, null, ogU);}}document.getElementsByTagName('head')[0].appendChild(cpo);}());</script></body></html>\n"
     ]
    },
    {
     "name": "stderr",
     "output_type": "stream",
     "text": [
      "100%|██████████| 5/5 [00:01<00:00,  3.74it/s]"
     ]
    },
    {
     "name": "stdout",
     "output_type": "stream",
     "text": [
      "<!DOCTYPE html>\n",
      "<html lang=\"en-US\"><head><title>Just a moment...</title><meta content=\"text/html; charset=utf-8\" http-equiv=\"Content-Type\"/><meta content=\"IE=Edge\" http-equiv=\"X-UA-Compatible\"/><meta content=\"noindex,nofollow\" name=\"robots\"/><meta content=\"width=device-width,initial-scale=1\" name=\"viewport\"/><link href=\"/cdn-cgi/styles/challenges.css\" rel=\"stylesheet\"/></head><body class=\"no-js\"><div class=\"main-wrapper\" role=\"main\"><div class=\"main-content\"><noscript><div id=\"challenge-error-title\"><div class=\"h2\"><span class=\"icon-wrapper\"><div class=\"heading-icon warning-icon\"></div></span><span id=\"challenge-error-text\">Enable JavaScript and cookies to continue</span></div></div></noscript></div></div><script>(function(){window._cf_chl_opt={cvId: '2',cZone: \"www.congress.gov\",cType: 'managed',cNounce: '37909',cRay: '8105a9516999189c',cHash: '32575c287c8bce0',cUPMDTk: \"\\/members?q=%7B%22congress%22:%5B%22110%22,%22111%22,%22112%22,%22113%22,%22114%22,%22115%22,%22116%22,117%5D%7D&pageSize=250&page=5&__cf_chl_tk=AY8CvLqdAk7w8jUR9GzI3EsMutQj0ygNv5FQYQ5FN58-1696341102-0-gaNycGzNDJA\",cFPWv: 'g',cTTimeMs: '1000',cMTimeMs: '0',cTplV: 5,cTplB: 'cf',cK: \"visitor-time\",fa: \"\\/members?q=%7B%22congress%22:%5B%22110%22,%22111%22,%22112%22,%22113%22,%22114%22,%22115%22,%22116%22,117%5D%7D&pageSize=250&page=5&__cf_chl_f_tk=AY8CvLqdAk7w8jUR9GzI3EsMutQj0ygNv5FQYQ5FN58-1696341102-0-gaNycGzNDJA\",md: \"qbvSkQgzsVud_se8MUZ5YtRYrrRZul3C9N1M8jaPIx0-1696341102-0-Abm4lNghGpdLtruOZrUL0OjSAfhiEB1ysi54sn7yju3FZ2jCSzNvg3PKO6AH7GRgSsGgbtM-kkp5jvuD6MVzOuDGRlzZRTxXMne4uqOdWWqFKAao6lXbI-QE1LWZnrwrP0E0l93vHLlqXCHAi236g-c-TNCL2hkxniKx2KShLBejGv4QyGX9PbBhz1x0eVKCC7GXhib7fZq6u3RNbNk9BDs_5y8DcLY0JMHAIE09qhh4mKbsAIaRrfS2eV7P7LBot5zNcKStLKIFUh9WtSR3zwICVFjdhF0TPZ2fdvcmqhM3PkgY-vMPiCu_maYUfi1sh7tYwOEV_j9sUKxK1ZLg3cLtn4UAwT-pnxRGlUqYWc-ta3Saj5tC-FgRAtD52RqeZF7JEw0ljm-seO0ctW-URUYv4xy4kQ2MKayMlYTUce6aQrna1cqTbQElXZYh6FAJrX5V5x-Frwc2xdDXNFW2ikeMkWChMDJRx6mWs64vicdC7wyspjchwOj0niRF63QEICEqn0OBMcZEtoLTYbbfn2FEue4X2NtSU5UReFO3BGwCJr6zc7-B2emuZ26BHqubbapV8hDMnlNYknDW3fDC36PKJngTODFVdSYRQGyQKxsnGk47N1AgUmHSWqifRPlPf34_By4TvLlq65x_Ip9wi8C0WBfgstHdokrydv73qoDODpPLsSHBSgNRoYbQlaNSFecfhp3BaTDERRagwBtU0pP5FElFVYMKpISGrbZCGSLOykRshptG0W_TVI7gJrVa0eiQPbs4D9XN1dGSAaZCP-qsfuBCDvlruK7wTGfSUXLiOKIc9Z7mawZJ5CTP4lpoyDHEBhUTcuGucCI8KJ8cMuUgp3v-PhHhM-0gLVcxtHvPvxwZSm5tvded7uM2lmgZBDDvPQdDdA193Ojr52bOEzoiXcxz-r81sgIsGsxCzUffsNiQ4LkGCd3WDwtc6qVs1QHisEbazPsim-3_8xFsicAB50AdATQvpV_lqu-RT2g58PjPiCxrj8j21hA0BpvkJ4o-F0eaNGWxHjDEcHfiqoxVfp2gYCj_b_U9jJeDxvZjYq3NlE5XdbgEhFjuMaKkqXmL1eF1fNa_6RKB6B2qKphrgNq2uVzvLoSalZgpwIlWp0Yy0Hdq0hKTrykbPXk5ZSZ3Mjl8MLQbHYw3ONhcbTAGxL30t2UZiVkTFgoOEN2E889FmFWw4eyOe84dJhRcxhJWHMUn6FGEmxOFqpQybbSjiEIBRHmMcjx1IsBRwFfiWS0beIwsK9YKFecZb8cWEpx5SRUIFeWkILwqG02AFMPCpKzv5yf83Ag40P9_laMfOI8m3Oc0GsJXeCObD2npVZaFwTdroTT0vUHjWqtr_HqY7bcm-YIgYdCoa2uAiy3xRPtBZkGyDb4xkzaK6-wzIREtdCTQrp0fHxrTEERVaNQjYhOQCoBRkAdpP63olyboqkZydEWA9sFKc_HNNEMU35r-qmNlAdtozj3corsuiGN1VoIcmUnY0r91e_Hjh5xqEV_9PGOZ7Bd2oYJDro1JYyNCT0ifOg1o4EGb7egrCBtyv3A1INMlwHxh2W6WcY1C8gpz-B2YHfbpYs4CcZo7dKF4zgA6NtfLzaWG6PjS9Ew8ueBqD8viDJYNRksT-WJlmKYNrVSJX8nuVOh2NdbgPxYJ2g-WEc10G78NKZx-hnghrjves76eA4N6YKV0CVQjLbSSkqpML1_puCpbbzQiogkXrwQ90PJ8aWLUbgn8pZs6Zcb6h6CVTa0dl7aIrHKlqxLQviDL8s6ZxN9MvJzZvgY-ZIO281eeDqGrrgGDzgtunPOkdt4--J637xXEG-f8M-1rpwV7X49ygvudOQtmtDic113BZZ1mReCH1rLOSYCBIcc9TshX4oBUuQqvtZxA2IsOPbjjtmqaXwFGAughLzjBEfRCjghiDaoDxSVEq8_hpQwiaLsMhjxhNyrydowhxO8T3VK8IEzLLCDCdLa9hhneDYeamaZLX7qRR3W7_zkXZNRoYsbferA-JmH0y5plrrs9yNRBk0d7WS9JcemJ6ulruChVcjXlgeUOjGXcMCyG4jmi6pLJbPxgVHMgFvImGD7L1sk8RaX6_qkOqZg-Zr-KTiOBGxCBxPHaPaZW3cfbAs8S_TeRvAZAi3Z4a6bWyrtVhEvD2kq1Ab9znovMUziE34owzVMCaqeJNjsl6DjWdPZCp8WNzlk8GuxARyANreNn3lfnVEEZCda3bzKCEJXg6wYP3USTFqU_eVMmecEzImsGEDicAIkSWmhRYNdyjL6o5VoVHrKlXjnJcnWjLWms5Xaq13N6Yvd71R1GS8ud6kAg4h_V6hxBc8kxe_h17Z9W0npYagskCMfFo8sUE6R5aTjhqQNHntVRMe8sPD4go1fZVNN3Dz9-uD-t47yuUkVWhQ5RDpLIy8ZwgOjjIHaHmKQeAGIHH8VY2zivNcKYizM08_euk8hDHY4QDFN-6XC0q-fkTxWTWoWZm1virvRSccFkrH1JqE3teCj8e5vCoUdkiQdHzVZsFWSahFUrFxA-1tTgjPnemVeu6fKh8FExP8ipD0QQzbMUBYReRbURdd2AV5DlSU-NHTcIHoVRkoxrcfQT6njCX9lp3sZttiWQSYtiGEbnSw9pnW4rVGzXkEpfTdv6KFACt8oqUrSCeAaoCZtQQx1pTc-YT-iEq94u0ryZM-_s2J9c9eiQHmyEs86X4gxKoT6IsC61ZDJMmbv3gfwHM3IORIps968CR4CAMXWgFi_WFSJxRzYLA8AWMlSjxWU2VMuaqrCsgByTnBwmL2gDboIJLlXpLttKfK32tnT2U9J3N3vjNGLsNObz_Gt-ccRnBSwffdVWdISYZ2gmb9y6oW4-C2sBjfb4hcuHGKGRTRSrbaBmJ3m-1AFfWIiG8kGENOhkyXmg-Bt839X_O2QN7-bxn0-aGF0GV9QYx6xtnTFm4tqaPwWajdsBEbZ3XUdG0S-hC7Dye8qUuDfsPtQFG0KEdFuNP9NA-X-6r3wixZ-Pj4DHFq38W-VtT3v_XeqSwe6MF0hC7UuOf8ecrgBn-HqyOgEpaOlf-8VNutBgp66gJgGJgNEX2vbO5qDyg3ImRXXvP3JDs2kkMjdb27SOUzr1_v6kYDEeKCgQq6vhZxzrcNsMhqo4nss\",cRq: {ru: 'aHR0cHM6Ly93d3cuY29uZ3Jlc3MuZ292L21lbWJlcnM/cT0lN0IlMjJjb25ncmVzcyUyMjolNUIlMjIxMTAlMjIsJTIyMTExJTIyLCUyMjExMiUyMiwlMjIxMTMlMjIsJTIyMTE0JTIyLCUyMjExNSUyMiwlMjIxMTYlMjIsMTE3JTVEJTdEJnBhZ2VTaXplPTI1MCZwYWdlPTU=',ra: 'cHl0aG9uLXJlcXVlc3RzLzIuMjguMQ==',rm: 'R0VU',d: 'B0EklrC+R/hJ0ZmXcPEfy5IAHdJQha5Zb/fz2yrH3ae75/l7WscwLDwMmV/Tx/A0QZMIx51GT+m2HQgpfiajxLU1wx/uVEES20/q3oyHMMdEpja9KaFuFkQvNVn3KyhjYkVUoT7lP9KeL1PMKJ20NhnbB8zG4oVj+c/Ic53baQ9C/PhC76ztW8uAwOkK1mfNBMKV/HsHWyItLaRma8mtDYwk8/s9WfCbxtuYTWq3itJ9ziTdOgjBbwAu1+tEwkLn7TuAja/F31r4TY6QVPqerK9dhSLG961zJSsLzhiQP0xglc3BHalzwNivHGQW3d46rLfHkWMg+Abu5kQacSUzQ3Xv8AqZcmsP5Sj7eF2ARjx/gcajIwF3oKBGZTY39rS2P9/OnViI2llL+38Scw3v/R5Rd38kpa2slyE00xka1OrCGRfrE4aYOjfNf4wDg1ZFSJjsasc8l1ZTyEcgUmztNn+VfjIs99dlO+sYjOYzwXLgz9Mx7aemvGGTNSTULmoH45aq9It4zdWz2Zp/fVvUlo/q3ORddyd4D0GjtT44XFy/BQsPrwl9f4as5rN/5iLKkMYnqXXzXwB7slRRqzPEwA==',t: 'MTY5NjM0MTEwMi4zMTQwMDA=',cT: Math.floor(Date.now() / 1000),m: 'inlurcvo61+AL5nW/7XwKSI1AwSxgFjzWMJ6CCDf+4E=',i1: '2Q8QJwRNQUdVZP7JxWYJzA==',i2: 'EfQD47K9q0zFTjE1eecMcg==',zh: 'P/37dfGD+KUZFm0qKuE3N/q0gn3BGPttWTswwTYBAD8=',uh: 'SLdVolODg++SO356HusO5I/hbfOpiiOxQXj62i/MUkA=',hh: 'cTbG2zct7/9cr7abEWSg59sInRszec2mTWq3jspVNx4=',}};var cpo = document.createElement('script');cpo.src = '/cdn-cgi/challenge-platform/h/g/orchestrate/chl_page/v1?ray=8105a9516999189c';window._cf_chl_opt.cOgUHash = location.hash === '' && location.href.indexOf('#') !== -1 ? '#' : location.hash;window._cf_chl_opt.cOgUQuery = location.search === '' && location.href.slice(0, location.href.length - window._cf_chl_opt.cOgUHash.length).indexOf('?') !== -1 ? '?' : location.search;if (window.history && window.history.replaceState) {var ogU = location.pathname + window._cf_chl_opt.cOgUQuery + window._cf_chl_opt.cOgUHash;history.replaceState(null, null, \"\\/members?q=%7B%22congress%22:%5B%22110%22,%22111%22,%22112%22,%22113%22,%22114%22,%22115%22,%22116%22,117%5D%7D&pageSize=250&page=5&__cf_chl_rt_tk=AY8CvLqdAk7w8jUR9GzI3EsMutQj0ygNv5FQYQ5FN58-1696341102-0-gaNycGzNDJA\" + window._cf_chl_opt.cOgUHash);cpo.onload = function() {history.replaceState(null, null, ogU);}}document.getElementsByTagName('head')[0].appendChild(cpo);}());</script></body></html>\n"
     ]
    },
    {
     "name": "stderr",
     "output_type": "stream",
     "text": [
      "\n"
     ]
    }
   ],
   "source": [
    "URL = 'https://www.congress.gov/members?q={\"congress\":[\"110\",\"111\",\"112\",\"113\",\"114\",\"115\",\"116\",117]}&pageSize=250'\n",
    "congress_members = []\n",
    "\n",
    "# Download each congress page\n",
    "with requests.Session() as s:\n",
    "    for page_number in tqdm(range(1, 6)):\n",
    "        r  = s.get(URL, params={\"page\": page_number})\n",
    "        soup = BeautifulSoup(r.text, \"html.parser\")\n",
    "        print(soup)\n",
    "        members = soup.find_all(\"li\", class_=\"compact\")\n"
   ]
  },
  {
   "cell_type": "code",
   "execution_count": 35,
   "id": "7eeb4910",
   "metadata": {
    "ExecuteTime": {
     "end_time": "2023-10-03T13:51:46.232737Z",
     "start_time": "2023-10-03T13:51:46.223771Z"
    }
   },
   "outputs": [
    {
     "data": {
      "text/plain": [
       "[]"
      ]
     },
     "execution_count": 35,
     "metadata": {},
     "output_type": "execute_result"
    }
   ],
   "source": [
    "congress_members"
   ]
  },
  {
   "cell_type": "code",
   "execution_count": 34,
   "id": "1f1c4bd7",
   "metadata": {
    "ExecuteTime": {
     "end_time": "2023-10-03T13:51:45.065487Z",
     "start_time": "2023-10-03T13:51:43.814749Z"
    }
   },
   "outputs": [
    {
     "name": "stderr",
     "output_type": "stream",
     "text": [
      "100%|██████████| 5/5 [00:01<00:00,  4.07it/s]\n"
     ]
    }
   ],
   "source": [
    "URL = 'https://www.congress.gov/members?q={\"congress\":[\"110\",\"111\",\"112\",\"113\",\"114\",\"115\",\"116\",117]}&pageSize=250'\n",
    "congress_members = []\n",
    "\n",
    "# Download each congress page\n",
    "with requests.Session() as s:\n",
    "    for page_number in tqdm(range(1, 6)):\n",
    "        r  = s.get(URL, params={\"page\": page_number})\n",
    "        soup = BeautifulSoup(r.text, \"html.parser\")\n",
    "\n",
    "        members = soup.find_all(\"li\", class_=\"compact\")\n",
    "\n",
    "        for member in members:\n",
    "            # Scrape the information\n",
    "            items = member.find_all(\"span\", class_=\"result-item\")\n",
    "            name = sanitize_name(member.span.a.text)\n",
    "            \n",
    "            for item in items:\n",
    "                if item.strong.text == \"Party:\":\n",
    "                    affiliation = item.span.text\n",
    "\n",
    "            congress_members.append((name, affiliation))"
   ]
  },
  {
   "cell_type": "code",
   "execution_count": null,
   "id": "a712c39e",
   "metadata": {},
   "outputs": [],
   "source": []
  },
  {
   "cell_type": "code",
   "execution_count": null,
   "id": "7330a748",
   "metadata": {},
   "outputs": [],
   "source": []
  }
 ],
 "metadata": {
  "kernelspec": {
   "display_name": "Python 3",
   "language": "python",
   "name": "python3"
  },
  "language_info": {
   "codemirror_mode": {
    "name": "ipython",
    "version": 3
   },
   "file_extension": ".py",
   "mimetype": "text/x-python",
   "name": "python",
   "nbconvert_exporter": "python",
   "pygments_lexer": "ipython3",
   "version": "3.9.13"
  },
  "toc": {
   "base_numbering": 1,
   "nav_menu": {},
   "number_sections": true,
   "sideBar": true,
   "skip_h1_title": true,
   "title_cell": "Table of Contents",
   "title_sidebar": "Contents",
   "toc_cell": false,
   "toc_position": {},
   "toc_section_display": true,
   "toc_window_display": true
  },
  "varInspector": {
   "cols": {
    "lenName": 16,
    "lenType": 16,
    "lenVar": 40
   },
   "kernels_config": {
    "python": {
     "delete_cmd_postfix": "",
     "delete_cmd_prefix": "del ",
     "library": "var_list.py",
     "varRefreshCmd": "print(var_dic_list())"
    },
    "r": {
     "delete_cmd_postfix": ") ",
     "delete_cmd_prefix": "rm(",
     "library": "var_list.r",
     "varRefreshCmd": "cat(var_dic_list()) "
    }
   },
   "types_to_exclude": [
    "module",
    "function",
    "builtin_function_or_method",
    "instance",
    "_Feature"
   ],
   "window_display": false
  }
 },
 "nbformat": 4,
 "nbformat_minor": 5
}
