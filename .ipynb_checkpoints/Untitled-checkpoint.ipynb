{
 "cells": [
  {
   "cell_type": "markdown",
   "id": "e0ef9f2f",
   "metadata": {},
   "source": [
    "# Food101 study"
   ]
  },
  {
   "cell_type": "markdown",
   "id": "a5316678",
   "metadata": {
    "hide_input": true
   },
   "source": [
    "## Imports "
   ]
  },
  {
   "cell_type": "code",
   "execution_count": 91,
   "id": "4540d3ec",
   "metadata": {
    "ExecuteTime": {
     "end_time": "2023-09-25T20:47:16.643206Z",
     "start_time": "2023-09-25T20:47:15.837159Z"
    },
    "code_folding": [],
    "hide_input": false
   },
   "outputs": [],
   "source": [
    "import numpy as np\n",
    "import pandas as pd\n",
    "import matplotlib.pyplot as plt\n",
    "import nltk"
   ]
  },
  {
   "cell_type": "code",
   "execution_count": 2,
   "id": "376ae264",
   "metadata": {
    "ExecuteTime": {
     "end_time": "2023-09-23T14:18:57.621453Z",
     "start_time": "2023-09-23T14:18:56.983300Z"
    }
   },
   "outputs": [],
   "source": [
    "from sklearn.model_selection import train_test_split"
   ]
  },
  {
   "cell_type": "code",
   "execution_count": 3,
   "id": "19ed440b",
   "metadata": {
    "ExecuteTime": {
     "end_time": "2023-09-23T14:19:02.168432Z",
     "start_time": "2023-09-23T14:18:57.624125Z"
    },
    "scrolled": true
   },
   "outputs": [],
   "source": [
    "import tensorflow as tf\n",
    "from tensorflow import keras\n",
    "from tensorflow.keras import layers, losses, optimizers\n",
    "from tensorflow.keras import Sequential\n",
    "\n",
    "import torch"
   ]
  },
  {
   "cell_type": "code",
   "execution_count": 4,
   "id": "3040d1a1",
   "metadata": {
    "ExecuteTime": {
     "end_time": "2023-09-23T14:19:02.666798Z",
     "start_time": "2023-09-23T14:19:02.168432Z"
    }
   },
   "outputs": [],
   "source": [
    "import datasets\n",
    "from datasets import load_dataset"
   ]
  },
  {
   "cell_type": "code",
   "execution_count": 5,
   "id": "c51dfc91",
   "metadata": {
    "ExecuteTime": {
     "end_time": "2023-09-23T14:19:03.060557Z",
     "start_time": "2023-09-23T14:19:02.666798Z"
    }
   },
   "outputs": [],
   "source": [
    "from transformers import AutoFeatureExtractor, AutoTokenizer\n",
    "from transformers import TFAutoModelForImageClassification, TFAutoModelForSequenceClassification"
   ]
  },
  {
   "cell_type": "markdown",
   "id": "e213d6cc",
   "metadata": {},
   "source": [
    "## Second Part"
   ]
  },
  {
   "cell_type": "markdown",
   "id": "280c6765",
   "metadata": {},
   "source": [
    "#### MLP - The Office"
   ]
  },
  {
   "cell_type": "code",
   "execution_count": 6,
   "id": "83adb840",
   "metadata": {
    "ExecuteTime": {
     "end_time": "2023-09-23T14:19:04.312710Z",
     "start_time": "2023-09-23T14:19:03.063551Z"
    }
   },
   "outputs": [],
   "source": [
    "simpsons = pd.read_csv(\"./data/simpsons_script_lines.csv\",\n",
    "                       usecols=[\"raw_character_text\", \"raw_location_text\", \"spoken_words\", \"normalized_text\"],\n",
    "                       dtype={'raw_character_text':'string', 'raw_location_text':'string',\n",
    "                              'spoken_words':'string', 'normalized_text':'string'})\n",
    "simpsons = simpsons.dropna().drop_duplicates().reset_index(drop=True)\n",
    "\n",
    "n_classes = 10\n",
    "main_characters = simpsons['raw_character_text'].value_counts(dropna=False)[:n_classes].index.to_list()\n",
    "simpsons_main = simpsons.query(\"`raw_character_text` in @main_characters\")\n",
    "\n",
    "X = simpsons_main[\"normalized_text\"].to_numpy()\n",
    "y = simpsons_main[\"raw_character_text\"].to_numpy()\n",
    "y_int = np.array([np.where(np.array(main_characters)==char)[0].item() for char in y])"
   ]
  },
  {
   "cell_type": "markdown",
   "id": "882b41bd",
   "metadata": {},
   "source": [
    "Import dataset"
   ]
  },
  {
   "cell_type": "code",
   "execution_count": 87,
   "id": "217ea027",
   "metadata": {
    "ExecuteTime": {
     "end_time": "2023-09-25T19:37:39.140087Z",
     "start_time": "2023-09-25T19:37:39.042197Z"
    }
   },
   "outputs": [
    {
     "name": "stdout",
     "output_type": "stream",
     "text": [
      "54626\n",
      "46716\n"
     ]
    }
   ],
   "source": [
    "TheOffice = pd.read_csv('./data/The-Office-Lines-V4.csv', usecols=['season', 'episode', 'title', 'scene', 'speaker', 'line'])"
   ]
  },
  {
   "cell_type": "code",
   "execution_count": 88,
   "id": "a4c558c3",
   "metadata": {
    "ExecuteTime": {
     "end_time": "2023-09-25T19:38:31.718376Z",
     "start_time": "2023-09-25T19:38:31.700417Z"
    }
   },
   "outputs": [
    {
     "data": {
      "text/html": [
       "<div>\n",
       "<style scoped>\n",
       "    .dataframe tbody tr th:only-of-type {\n",
       "        vertical-align: middle;\n",
       "    }\n",
       "\n",
       "    .dataframe tbody tr th {\n",
       "        vertical-align: top;\n",
       "    }\n",
       "\n",
       "    .dataframe thead th {\n",
       "        text-align: right;\n",
       "    }\n",
       "</style>\n",
       "<table border=\"1\" class=\"dataframe\">\n",
       "  <thead>\n",
       "    <tr style=\"text-align: right;\">\n",
       "      <th></th>\n",
       "      <th>season</th>\n",
       "      <th>episode</th>\n",
       "      <th>title</th>\n",
       "      <th>scene</th>\n",
       "      <th>speaker</th>\n",
       "      <th>line</th>\n",
       "    </tr>\n",
       "  </thead>\n",
       "  <tbody>\n",
       "    <tr>\n",
       "      <th>0</th>\n",
       "      <td>1</td>\n",
       "      <td>1</td>\n",
       "      <td>Pilot</td>\n",
       "      <td>1</td>\n",
       "      <td>Michael</td>\n",
       "      <td>All right Jim. Your quarterlies look very good...</td>\n",
       "    </tr>\n",
       "    <tr>\n",
       "      <th>1</th>\n",
       "      <td>1</td>\n",
       "      <td>1</td>\n",
       "      <td>Pilot</td>\n",
       "      <td>1</td>\n",
       "      <td>Jim</td>\n",
       "      <td>Oh, I told you. I couldn't close it. So...</td>\n",
       "    </tr>\n",
       "    <tr>\n",
       "      <th>2</th>\n",
       "      <td>1</td>\n",
       "      <td>1</td>\n",
       "      <td>Pilot</td>\n",
       "      <td>1</td>\n",
       "      <td>Michael</td>\n",
       "      <td>So you've come to the master for guidance? Is ...</td>\n",
       "    </tr>\n",
       "    <tr>\n",
       "      <th>3</th>\n",
       "      <td>1</td>\n",
       "      <td>1</td>\n",
       "      <td>Pilot</td>\n",
       "      <td>1</td>\n",
       "      <td>Jim</td>\n",
       "      <td>Actually, you called me in here, but yeah.</td>\n",
       "    </tr>\n",
       "    <tr>\n",
       "      <th>4</th>\n",
       "      <td>1</td>\n",
       "      <td>1</td>\n",
       "      <td>Pilot</td>\n",
       "      <td>1</td>\n",
       "      <td>Michael</td>\n",
       "      <td>All right. Well, let me show you how it's done.</td>\n",
       "    </tr>\n",
       "  </tbody>\n",
       "</table>\n",
       "</div>"
      ],
      "text/plain": [
       "   season  episode  title  scene  speaker  \\\n",
       "0       1        1  Pilot      1  Michael   \n",
       "1       1        1  Pilot      1      Jim   \n",
       "2       1        1  Pilot      1  Michael   \n",
       "3       1        1  Pilot      1      Jim   \n",
       "4       1        1  Pilot      1  Michael   \n",
       "\n",
       "                                                line  \n",
       "0  All right Jim. Your quarterlies look very good...  \n",
       "1         Oh, I told you. I couldn't close it. So...  \n",
       "2  So you've come to the master for guidance? Is ...  \n",
       "3         Actually, you called me in here, but yeah.  \n",
       "4    All right. Well, let me show you how it's done.  "
      ]
     },
     "execution_count": 88,
     "metadata": {},
     "output_type": "execute_result"
    }
   ],
   "source": [
    "TheOffice.head(5)"
   ]
  },
  {
   "cell_type": "code",
   "execution_count": 90,
   "id": "31a9db17",
   "metadata": {
    "ExecuteTime": {
     "end_time": "2023-09-25T19:39:08.475503Z",
     "start_time": "2023-09-25T19:39:08.447891Z"
    }
   },
   "outputs": [
    {
     "name": "stdout",
     "output_type": "stream",
     "text": [
      "54626 46716\n"
     ]
    }
   ],
   "source": [
    "TheOffice.speaker.value_counts()[0:20]\n",
    "n_classes = 20\n",
    "main_characters = TheOffice['speaker'].value_counts(dropna=False)[:n_classes].index.to_list()\n",
    "main_characters\n",
    "TheOffice_main = TheOffice.query(\"`speaker` in @main_characters\")\n",
    "print(len(TheOffice), len(TheOffice_main))"
   ]
  },
  {
   "cell_type": "markdown",
   "id": "aa3eeddc",
   "metadata": {},
   "source": [
    "Let's normalize our text"
   ]
  },
  {
   "cell_type": "code",
   "execution_count": 93,
   "id": "135babf5",
   "metadata": {
    "ExecuteTime": {
     "end_time": "2023-09-25T20:49:57.985814Z",
     "start_time": "2023-09-25T20:49:57.975836Z"
    }
   },
   "outputs": [],
   "source": [
    "# Let's use the nltk stopwords available for the English language\n",
    "stopwords = nltk.corpus.stopwords.words(\"english\")\n",
    "#print(stopwords)"
   ]
  },
  {
   "cell_type": "code",
   "execution_count": 94,
   "id": "920da445",
   "metadata": {
    "ExecuteTime": {
     "end_time": "2023-09-25T20:50:05.553790Z",
     "start_time": "2023-09-25T20:50:05.532847Z"
    },
    "scrolled": true
   },
   "outputs": [
    {
     "data": {
      "text/plain": [
       "'!\"#$%&\\'()*+,-./:;<=>?@[\\\\]^_`{|}~'"
      ]
     },
     "execution_count": 94,
     "metadata": {},
     "output_type": "execute_result"
    }
   ],
   "source": [
    "import string\n",
    "string.punctuation"
   ]
  },
  {
   "cell_type": "markdown",
   "id": "060d7892",
   "metadata": {},
   "source": [
    "##### Removing contractions (you're -> you are)"
   ]
  },
  {
   "cell_type": "code",
   "execution_count": null,
   "id": "ea6eb417",
   "metadata": {},
   "outputs": [],
   "source": [
    "import re\n",
    "import string\n",
    "import unidecode\n",
    "from nltk.tokenize import sent_tokenize\n",
    "from nltk.tokenize import word_tokenize\n",
    "from nltk.stem import WordNetLemmatizer\n",
    "from nltk.stem.porter import PorterStemmer\n",
    "from nltk.corpus import stopwords\n",
    "import gensim.downloader as api\n",
    "from pycontractions import Contractions\n",
    "from word2number import w2n"
   ]
  },
  {
   "cell_type": "markdown",
   "id": "fc1d8b47",
   "metadata": {},
   "source": [
    "1st way"
   ]
  },
  {
   "cell_type": "code",
   "execution_count": 1,
   "id": "56f554d2",
   "metadata": {
    "ExecuteTime": {
     "end_time": "2023-09-25T20:57:43.378102Z",
     "start_time": "2023-09-25T20:57:40.591421Z"
    }
   },
   "outputs": [
    {
     "ename": "ModuleNotFoundError",
     "evalue": "No module named 'pycontractions'",
     "output_type": "error",
     "traceback": [
      "\u001b[1;31m---------------------------------------------------------------------------\u001b[0m",
      "\u001b[1;31mModuleNotFoundError\u001b[0m                       Traceback (most recent call last)",
      "\u001b[1;32m~\\AppData\\Local\\Temp\\ipykernel_22188\\142587703.py\u001b[0m in \u001b[0;36m<module>\u001b[1;34m\u001b[0m\n\u001b[0;32m      1\u001b[0m \u001b[1;32mimport\u001b[0m \u001b[0mgensim\u001b[0m\u001b[1;33m.\u001b[0m\u001b[0mdownloader\u001b[0m \u001b[1;32mas\u001b[0m \u001b[0mapi\u001b[0m\u001b[1;33m\u001b[0m\u001b[1;33m\u001b[0m\u001b[0m\n\u001b[1;32m----> 2\u001b[1;33m \u001b[1;32mfrom\u001b[0m \u001b[0mpycontractions\u001b[0m \u001b[1;32mimport\u001b[0m \u001b[0mContractions\u001b[0m\u001b[1;33m\u001b[0m\u001b[1;33m\u001b[0m\u001b[0m\n\u001b[0m",
      "\u001b[1;31mModuleNotFoundError\u001b[0m: No module named 'pycontractions'"
     ]
    }
   ],
   "source": [
    "import gensim.downloader as api\n",
    "from pycontractions import Contractions"
   ]
  },
  {
   "cell_type": "code",
   "execution_count": 97,
   "id": "3aeddc35",
   "metadata": {
    "ExecuteTime": {
     "end_time": "2023-09-25T20:57:08.269001Z",
     "start_time": "2023-09-25T20:56:50.717952Z"
    }
   },
   "outputs": [
    {
     "name": "stdout",
     "output_type": "stream",
     "text": [
      "Collecting pycontractions\n",
      "  Downloading pycontractions-2.0.1-py3-none-any.whl (9.6 kB)\n",
      "Collecting pyemd>=0.4.4\n",
      "  Downloading pyemd-1.0.0-cp39-cp39-win_amd64.whl (148 kB)\n",
      "     -------------------------------------- 148.7/148.7 kB 1.3 MB/s eta 0:00:00\n",
      "Requirement already satisfied: gensim>=2.0 in c:\\users\\rened\\anaconda3\\lib\\site-packages (from pycontractions) (4.1.2)\n",
      "Collecting language-check>=1.0\n",
      "  Downloading language-check-1.1.tar.gz (33 kB)\n",
      "  Preparing metadata (setup.py): started\n",
      "  Preparing metadata (setup.py): finished with status 'done'\n",
      "Requirement already satisfied: scipy>=0.18.1 in c:\\users\\rened\\anaconda3\\lib\\site-packages (from gensim>=2.0->pycontractions) (1.7.3)\n",
      "Requirement already satisfied: numpy>=1.17.0 in c:\\users\\rened\\anaconda3\\lib\\site-packages (from gensim>=2.0->pycontractions) (1.22.0)\n",
      "Requirement already satisfied: smart-open>=1.8.1 in c:\\users\\rened\\anaconda3\\lib\\site-packages (from gensim>=2.0->pycontractions) (5.2.1)\n",
      "Building wheels for collected packages: language-check\n",
      "  Building wheel for language-check (setup.py): started\n",
      "  Building wheel for language-check (setup.py): finished with status 'error'\n",
      "  Running setup.py clean for language-check\n",
      "Failed to build language-check\n",
      "Installing collected packages: language-check, pyemd, pycontractions\n",
      "  Running setup.py install for language-check: started\n",
      "  Running setup.py install for language-check: finished with status 'error'\n",
      "Note: you may need to restart the kernel to use updated packages.\n"
     ]
    },
    {
     "name": "stderr",
     "output_type": "stream",
     "text": [
      "  error: subprocess-exited-with-error\n",
      "  \n",
      "  python setup.py bdist_wheel did not run successfully.\n",
      "  exit code: 1\n",
      "  \n",
      "  [36 lines of output]\n",
      "  Traceback (most recent call last):\n",
      "    File \"<string>\", line 2, in <module>\n",
      "    File \"<pip-setuptools-caller>\", line 34, in <module>\n",
      "    File \"C:\\Users\\rened\\AppData\\Local\\Temp\\pip-install-uoei3lbp\\language-check_2e41c14ad9b04db5b375c0131f6a682f\\setup.py\", line 595, in <module>\n",
      "      sys.exit(main())\n",
      "    File \"C:\\Users\\rened\\AppData\\Local\\Temp\\pip-install-uoei3lbp\\language-check_2e41c14ad9b04db5b375c0131f6a682f\\setup.py\", line 590, in main\n",
      "      run_setup_hooks(config)\n",
      "    File \"C:\\Users\\rened\\AppData\\Local\\Temp\\pip-install-uoei3lbp\\language-check_2e41c14ad9b04db5b375c0131f6a682f\\setup.py\", line 561, in run_setup_hooks\n",
      "      language_tool_hook(config)\n",
      "    File \"C:\\Users\\rened\\AppData\\Local\\Temp\\pip-install-uoei3lbp\\language-check_2e41c14ad9b04db5b375c0131f6a682f\\setup.py\", line 584, in language_tool_hook\n",
      "      download_lt()\n",
      "    File \"C:\\Users\\rened\\AppData\\Local\\Temp\\pip-install-uoei3lbp\\language-check_2e41c14ad9b04db5b375c0131f6a682f\\download_lt.py\", line 128, in download_lt\n",
      "      with closing(urlopen(url)) as u:\n",
      "    File \"C:\\Users\\rened\\Anaconda3\\lib\\urllib\\request.py\", line 214, in urlopen\n",
      "      return opener.open(url, data, timeout)\n",
      "    File \"C:\\Users\\rened\\Anaconda3\\lib\\urllib\\request.py\", line 523, in open\n",
      "      response = meth(req, response)\n",
      "    File \"C:\\Users\\rened\\Anaconda3\\lib\\urllib\\request.py\", line 632, in http_response\n",
      "      response = self.parent.error(\n",
      "    File \"C:\\Users\\rened\\Anaconda3\\lib\\urllib\\request.py\", line 555, in error\n",
      "      result = self._call_chain(*args)\n",
      "    File \"C:\\Users\\rened\\Anaconda3\\lib\\urllib\\request.py\", line 494, in _call_chain\n",
      "      result = func(*args)\n",
      "    File \"C:\\Users\\rened\\Anaconda3\\lib\\urllib\\request.py\", line 747, in http_error_302\n",
      "      return self.parent.open(new, timeout=req.timeout)\n",
      "    File \"C:\\Users\\rened\\Anaconda3\\lib\\urllib\\request.py\", line 523, in open\n",
      "      response = meth(req, response)\n",
      "    File \"C:\\Users\\rened\\Anaconda3\\lib\\urllib\\request.py\", line 632, in http_response\n",
      "      response = self.parent.error(\n",
      "    File \"C:\\Users\\rened\\Anaconda3\\lib\\urllib\\request.py\", line 561, in error\n",
      "      return self._call_chain(*args)\n",
      "    File \"C:\\Users\\rened\\Anaconda3\\lib\\urllib\\request.py\", line 494, in _call_chain\n",
      "      result = func(*args)\n",
      "    File \"C:\\Users\\rened\\Anaconda3\\lib\\urllib\\request.py\", line 641, in http_error_default\n",
      "      raise HTTPError(req.full_url, code, msg, hdrs, fp)\n",
      "  urllib.error.HTTPError: HTTP Error 403: Forbidden\n",
      "  [end of output]\n",
      "  \n",
      "  note: This error originates from a subprocess, and is likely not a problem with pip.\n",
      "  ERROR: Failed building wheel for language-check\n",
      "  error: subprocess-exited-with-error\n",
      "  \n",
      "  Running setup.py install for language-check did not run successfully.\n",
      "  exit code: 1\n",
      "  \n",
      "  [36 lines of output]\n",
      "  Traceback (most recent call last):\n",
      "    File \"<string>\", line 2, in <module>\n",
      "    File \"<pip-setuptools-caller>\", line 34, in <module>\n",
      "    File \"C:\\Users\\rened\\AppData\\Local\\Temp\\pip-install-uoei3lbp\\language-check_2e41c14ad9b04db5b375c0131f6a682f\\setup.py\", line 595, in <module>\n",
      "      sys.exit(main())\n",
      "    File \"C:\\Users\\rened\\AppData\\Local\\Temp\\pip-install-uoei3lbp\\language-check_2e41c14ad9b04db5b375c0131f6a682f\\setup.py\", line 590, in main\n",
      "      run_setup_hooks(config)\n",
      "    File \"C:\\Users\\rened\\AppData\\Local\\Temp\\pip-install-uoei3lbp\\language-check_2e41c14ad9b04db5b375c0131f6a682f\\setup.py\", line 561, in run_setup_hooks\n",
      "      language_tool_hook(config)\n",
      "    File \"C:\\Users\\rened\\AppData\\Local\\Temp\\pip-install-uoei3lbp\\language-check_2e41c14ad9b04db5b375c0131f6a682f\\setup.py\", line 584, in language_tool_hook\n",
      "      download_lt()\n",
      "    File \"C:\\Users\\rened\\AppData\\Local\\Temp\\pip-install-uoei3lbp\\language-check_2e41c14ad9b04db5b375c0131f6a682f\\download_lt.py\", line 128, in download_lt\n",
      "      with closing(urlopen(url)) as u:\n",
      "    File \"C:\\Users\\rened\\Anaconda3\\lib\\urllib\\request.py\", line 214, in urlopen\n",
      "      return opener.open(url, data, timeout)\n",
      "    File \"C:\\Users\\rened\\Anaconda3\\lib\\urllib\\request.py\", line 523, in open\n",
      "      response = meth(req, response)\n",
      "    File \"C:\\Users\\rened\\Anaconda3\\lib\\urllib\\request.py\", line 632, in http_response\n",
      "      response = self.parent.error(\n",
      "    File \"C:\\Users\\rened\\Anaconda3\\lib\\urllib\\request.py\", line 555, in error\n",
      "      result = self._call_chain(*args)\n",
      "    File \"C:\\Users\\rened\\Anaconda3\\lib\\urllib\\request.py\", line 494, in _call_chain\n",
      "      result = func(*args)\n",
      "    File \"C:\\Users\\rened\\Anaconda3\\lib\\urllib\\request.py\", line 747, in http_error_302\n",
      "      return self.parent.open(new, timeout=req.timeout)\n",
      "    File \"C:\\Users\\rened\\Anaconda3\\lib\\urllib\\request.py\", line 523, in open\n",
      "      response = meth(req, response)\n",
      "    File \"C:\\Users\\rened\\Anaconda3\\lib\\urllib\\request.py\", line 632, in http_response\n",
      "      response = self.parent.error(\n",
      "    File \"C:\\Users\\rened\\Anaconda3\\lib\\urllib\\request.py\", line 561, in error\n",
      "      return self._call_chain(*args)\n",
      "    File \"C:\\Users\\rened\\Anaconda3\\lib\\urllib\\request.py\", line 494, in _call_chain\n",
      "      result = func(*args)\n",
      "    File \"C:\\Users\\rened\\Anaconda3\\lib\\urllib\\request.py\", line 641, in http_error_default\n",
      "      raise HTTPError(req.full_url, code, msg, hdrs, fp)\n",
      "  urllib.error.HTTPError: HTTP Error 403: Forbidden\n",
      "  [end of output]\n",
      "  \n",
      "  note: This error originates from a subprocess, and is likely not a problem with pip.\n",
      "error: legacy-install-failure\n",
      "\n",
      "Encountered error while trying to install package.\n",
      "\n",
      "language-check\n",
      "\n",
      "note: This is an issue with the package mentioned above, not pip.\n",
      "hint: See above for output from the failure.\n"
     ]
    }
   ],
   "source": [
    "pip install pycontractions"
   ]
  },
  {
   "cell_type": "markdown",
   "id": "b4219b2d",
   "metadata": {},
   "source": [
    "2nd way (using contextual knowledge)"
   ]
  },
  {
   "cell_type": "code",
   "execution_count": null,
   "id": "8bf1ed30",
   "metadata": {},
   "outputs": [],
   "source": [
    "model = api.load(\"glove-twitter-25\")\n",
    "cont = Contractions(kv_model=model)\n",
    "text = list(cont.expand_texts([test_sentence],precise=True))\n",
    "print(text)"
   ]
  },
  {
   "cell_type": "code",
   "execution_count": null,
   "id": "9a50bdbd",
   "metadata": {},
   "outputs": [],
   "source": []
  },
  {
   "cell_type": "code",
   "execution_count": null,
   "id": "d52e70a1",
   "metadata": {},
   "outputs": [],
   "source": []
  },
  {
   "cell_type": "code",
   "execution_count": null,
   "id": "2fad51ad",
   "metadata": {},
   "outputs": [],
   "source": []
  },
  {
   "cell_type": "code",
   "execution_count": null,
   "id": "77224b12",
   "metadata": {},
   "outputs": [],
   "source": []
  },
  {
   "cell_type": "code",
   "execution_count": null,
   "id": "362cc937",
   "metadata": {},
   "outputs": [],
   "source": []
  },
  {
   "cell_type": "code",
   "execution_count": 7,
   "id": "678588c2",
   "metadata": {
    "ExecuteTime": {
     "end_time": "2023-09-23T14:19:04.340758Z",
     "start_time": "2023-09-23T14:19:04.312710Z"
    }
   },
   "outputs": [],
   "source": [
    "X_train, X_valid, y_train, y_valid = train_test_split(X, y_int, test_size=0.2, random_state=42, shuffle=True)"
   ]
  },
  {
   "cell_type": "code",
   "execution_count": 14,
   "id": "a9e7c0c5",
   "metadata": {
    "ExecuteTime": {
     "end_time": "2023-09-23T14:34:06.828248Z",
     "start_time": "2023-09-23T14:34:06.823225Z"
    }
   },
   "outputs": [],
   "source": [
    "# Vocabulary size and number of words in a sequence.\n",
    "max_vocab = 10000\n",
    "sequence_length = 100"
   ]
  },
  {
   "cell_type": "code",
   "execution_count": 15,
   "id": "0f895dd3",
   "metadata": {
    "ExecuteTime": {
     "end_time": "2023-09-23T14:34:09.787775Z",
     "start_time": "2023-09-23T14:34:07.502772Z"
    }
   },
   "outputs": [],
   "source": [
    "# Use the text vectorization layer to normalize, split, and map strings to\n",
    "# integers. Note that the layer uses the custom standardization defined above.\n",
    "# Set maximum_sequence length as all samples are not of the same length.\n",
    "\n",
    "vectorize_layer = layers.TextVectorization(max_tokens=max_vocab, standardize='lower_and_strip_punctuation',#or custom\n",
    "                                           output_mode='int', output_sequence_length=sequence_length)\n",
    "vectorize_layer.adapt(X_train)"
   ]
  },
  {
   "cell_type": "code",
   "execution_count": null,
   "id": "c7487164",
   "metadata": {
    "ExecuteTime": {
     "end_time": "2023-09-23T14:34:09.874283Z",
     "start_time": "2023-09-23T14:34:09.874283Z"
    }
   },
   "outputs": [],
   "source": [
    "vocab = np.array(vectorize_layer.get_vocabulary())\n",
    "vocab[:20]"
   ]
  },
  {
   "cell_type": "markdown",
   "id": "49537405",
   "metadata": {},
   "source": [
    "Toy MLP on top of the embedding layers, using the `Sequential` class."
   ]
  },
  {
   "cell_type": "code",
   "execution_count": 16,
   "id": "d729484d",
   "metadata": {
    "ExecuteTime": {
     "end_time": "2023-09-23T14:34:10.522497Z",
     "start_time": "2023-09-23T14:34:10.402445Z"
    }
   },
   "outputs": [
    {
     "name": "stdout",
     "output_type": "stream",
     "text": [
      "Model: \"MLP_model\"\n",
      "_________________________________________________________________\n",
      " Layer (type)                Output Shape              Param #   \n",
      "=================================================================\n",
      " text_vectorization_1 (Text  (None, 100)               0         \n",
      " Vectorization)                                                  \n",
      "                                                                 \n",
      " embedding_1 (Embedding)     (None, 100, 50)           500000    \n",
      "                                                                 \n",
      " global_average_pooling1d_1  (None, 50)                0         \n",
      "  (GlobalAveragePooling1D)                                       \n",
      "                                                                 \n",
      " dense_2 (Dense)             (None, 64)                3264      \n",
      "                                                                 \n",
      " dropout_1 (Dropout)         (None, 64)                0         \n",
      "                                                                 \n",
      " dense_3 (Dense)             (None, 10)                650       \n",
      "                                                                 \n",
      "=================================================================\n",
      "Total params: 503914 (1.92 MB)\n",
      "Trainable params: 503914 (1.92 MB)\n",
      "Non-trainable params: 0 (0.00 Byte)\n",
      "_________________________________________________________________\n"
     ]
    }
   ],
   "source": [
    "embedding_dim=50\n",
    "\n",
    "MLP_model = Sequential([\n",
    "    vectorize_layer,\n",
    "    layers.Embedding(input_dim=len(vectorize_layer.get_vocabulary()), output_dim=50,\n",
    "                     embeddings_initializer='uniform'),\n",
    "    layers.GlobalAveragePooling1D(),\n",
    "    layers.Dense(64, activation='relu'),\n",
    "    layers.Dropout(0.2),\n",
    "    layers.Dense(n_classes, activation='softmax')\n",
    "], name=\"MLP_model\")\n",
    "\n",
    "MLP_model.summary()"
   ]
  },
  {
   "cell_type": "code",
   "execution_count": 17,
   "id": "df6898c2",
   "metadata": {
    "ExecuteTime": {
     "end_time": "2023-09-23T14:34:12.410830Z",
     "start_time": "2023-09-23T14:34:12.393838Z"
    }
   },
   "outputs": [],
   "source": [
    "MLP_model.compile(optimizer=optimizers.Adam(),\n",
    "                  loss=losses.SparseCategoricalCrossentropy(from_logits=False),\n",
    "                  metrics=['accuracy'])"
   ]
  },
  {
   "cell_type": "code",
   "execution_count": 18,
   "id": "53207ac2",
   "metadata": {
    "ExecuteTime": {
     "end_time": "2023-09-23T14:35:04.229838Z",
     "start_time": "2023-09-23T14:34:13.612269Z"
    },
    "scrolled": true
   },
   "outputs": [
    {
     "name": "stdout",
     "output_type": "stream",
     "text": [
      "Epoch 1/10\n",
      "483/483 [==============================] - 5s 10ms/step - loss: 1.9021 - accuracy: 0.3508 - val_loss: 1.8457 - val_accuracy: 0.3567\n",
      "Epoch 2/10\n",
      "483/483 [==============================] - 5s 11ms/step - loss: 1.8477 - accuracy: 0.3523 - val_loss: 1.8169 - val_accuracy: 0.3568\n",
      "Epoch 3/10\n",
      "483/483 [==============================] - 5s 10ms/step - loss: 1.7733 - accuracy: 0.3698 - val_loss: 1.7196 - val_accuracy: 0.3962\n",
      "Epoch 4/10\n",
      "483/483 [==============================] - 5s 10ms/step - loss: 1.6676 - accuracy: 0.4119 - val_loss: 1.6676 - val_accuracy: 0.4093\n",
      "Epoch 5/10\n",
      "483/483 [==============================] - 5s 11ms/step - loss: 1.5983 - accuracy: 0.4375 - val_loss: 1.6390 - val_accuracy: 0.4244\n",
      "Epoch 6/10\n",
      "483/483 [==============================] - 5s 10ms/step - loss: 1.5519 - accuracy: 0.4548 - val_loss: 1.6279 - val_accuracy: 0.4288\n",
      "Epoch 7/10\n",
      "483/483 [==============================] - 5s 10ms/step - loss: 1.5152 - accuracy: 0.4697 - val_loss: 1.6250 - val_accuracy: 0.4308\n",
      "Epoch 8/10\n",
      "483/483 [==============================] - 5s 10ms/step - loss: 1.4841 - accuracy: 0.4846 - val_loss: 1.6199 - val_accuracy: 0.4341\n",
      "Epoch 9/10\n",
      "483/483 [==============================] - 5s 10ms/step - loss: 1.4520 - accuracy: 0.4946 - val_loss: 1.6287 - val_accuracy: 0.4364\n",
      "Epoch 10/10\n",
      "483/483 [==============================] - 5s 11ms/step - loss: 1.4245 - accuracy: 0.5047 - val_loss: 1.6535 - val_accuracy: 0.4366\n"
     ]
    }
   ],
   "source": [
    "epochs = 10\n",
    "history_MLP = MLP_model.fit(X_train, y_train, validation_data=(X_valid, y_valid),\n",
    "                            batch_size=128, epochs=epochs)\n",
    "\n",
    "MLP_model.save_weights(\"./checkpoints/MLP_10/MLP_10\") # Save the network's weights\n",
    "#MLP_model.save(\"./checkpoints/MLP_10_model\") #for saving the whole model object"
   ]
  },
  {
   "cell_type": "code",
   "execution_count": 19,
   "id": "64611292",
   "metadata": {
    "ExecuteTime": {
     "end_time": "2023-09-23T14:36:14.807348Z",
     "start_time": "2023-09-23T14:36:13.775674Z"
    }
   },
   "outputs": [
    {
     "name": "stdout",
     "output_type": "stream",
     "text": [
      "483/483 [==============================] - 1s 2ms/step - loss: 1.6535 - accuracy: 0.4366\n",
      "Loss:  1.65350341796875\n",
      "Accuracy:  0.43659690022468567\n"
     ]
    }
   ],
   "source": [
    "loss, accuracy = MLP_model.evaluate(X_valid, y_valid)\n",
    "\n",
    "print(\"Loss: \", loss)\n",
    "print(\"Accuracy: \", accuracy)"
   ]
  },
  {
   "cell_type": "code",
   "execution_count": 22,
   "id": "aa75215c",
   "metadata": {
    "ExecuteTime": {
     "end_time": "2023-09-23T14:36:19.935426Z",
     "start_time": "2023-09-23T14:36:19.928449Z"
    }
   },
   "outputs": [
    {
     "data": {
      "text/plain": [
       "dict_keys(['loss', 'accuracy', 'val_loss', 'val_accuracy'])"
      ]
     },
     "execution_count": 22,
     "metadata": {},
     "output_type": "execute_result"
    }
   ],
   "source": [
    "history_MLP_dict = history_MLP.history\n",
    "history_MLP_dict.keys()"
   ]
  },
  {
   "cell_type": "code",
   "execution_count": 23,
   "id": "61477946",
   "metadata": {
    "ExecuteTime": {
     "end_time": "2023-09-23T14:36:21.089262Z",
     "start_time": "2023-09-23T14:36:20.834906Z"
    },
    "code_folding": [
     0
    ],
    "scrolled": true
   },
   "outputs": [
    {
     "data": {
      "image/png": "[encoded data removed]",
      "text/plain": [
       "<Figure size 1000x400 with 2 Axes>"
      ]
     },
     "metadata": {},
     "output_type": "display_data"
    }
   ],
   "source": [
    "def plot_training(history_dict):\n",
    "    acc = history_dict['accuracy']\n",
    "    val_acc = history_dict['val_accuracy']\n",
    "    loss = history_dict['loss']\n",
    "    val_loss = history_dict['val_loss']\n",
    "    \n",
    "    epochs = range(1, len(loss) + 1)\n",
    "    \n",
    "    plt.figure(figsize=(10, 4))\n",
    "    plt.subplot(1, 2, 1)\n",
    "    plt.plot(epochs, loss, 'b--', label='Training')\n",
    "    plt.plot(epochs, val_loss, 'r-', label='Validation')\n",
    "    plt.xlabel('Epochs')\n",
    "    plt.ylabel('Cross-Entropy Loss')\n",
    "    plt.legend()\n",
    "    \n",
    "    plt.subplot(1, 2, 2)\n",
    "    plt.plot(epochs, acc, 'b--', label='Training')\n",
    "    plt.plot(epochs, val_acc, 'r-', label='Validation')\n",
    "    plt.xlabel('Epochs')\n",
    "    plt.ylabel('Accuracy')\n",
    "    plt.legend(loc='lower right')\n",
    "    \n",
    "    plt.show()\n",
    "\n",
    "plot_training(history_MLP_dict)"
   ]
  },
  {
   "cell_type": "code",
   "execution_count": 41,
   "id": "1be2b277",
   "metadata": {
    "ExecuteTime": {
     "end_time": "2023-09-23T14:41:21.466505Z",
     "start_time": "2023-09-23T14:41:21.316105Z"
    },
    "code_folding": [],
    "scrolled": false
   },
   "outputs": [
    {
     "name": "stdout",
     "output_type": "stream",
     "text": [
      "1/1 [==============================] - 0s 94ms/step\n"
     ]
    },
    {
     "data": {
      "text/plain": [
       "array([[0.18647748, 0.43331364, 0.04746127, 0.02655105, 0.06609406,\n",
       "        0.05707376, 0.03712392, 0.08299996, 0.02388611, 0.03901874],\n",
       "       [0.17851926, 0.05842649, 0.3239461 , 0.3728362 , 0.00722596,\n",
       "        0.00937284, 0.02089357, 0.00704327, 0.01130637, 0.01042986],\n",
       "       [0.5925612 , 0.0647964 , 0.21683946, 0.08135845, 0.00640107,\n",
       "        0.01251706, 0.00363637, 0.00487605, 0.00618971, 0.01082424],\n",
       "       [0.77134466, 0.02782005, 0.08128887, 0.01750544, 0.01626592,\n",
       "        0.04015723, 0.00279084, 0.00945924, 0.01226411, 0.02110355],\n",
       "       [0.31298086, 0.07417452, 0.35542732, 0.19152   , 0.00914695,\n",
       "        0.01336005, 0.01181501, 0.00734113, 0.01091619, 0.01331797],\n",
       "       [0.82369107, 0.04295533, 0.08503318, 0.01911663, 0.00402109,\n",
       "        0.01089702, 0.00097174, 0.00300934, 0.00289708, 0.00740751]],\n",
       "      dtype=float32)"
      ]
     },
     "execution_count": 41,
     "metadata": {},
     "output_type": "execute_result"
    }
   ],
   "source": [
    "examples = [\"Homer, come here!\",\n",
    "            \"Science is amazing.\",\n",
    "            \"Duh\",\n",
    "           'Give me a beer', \"I want to skate\", 'I want a donut']\n",
    "\n",
    "MLP_model.predict(examples)"
   ]
  },
  {
   "cell_type": "code",
   "execution_count": 25,
   "id": "f586cac3",
   "metadata": {
    "ExecuteTime": {
     "end_time": "2023-09-23T14:36:24.498479Z",
     "start_time": "2023-09-23T14:36:24.485506Z"
    }
   },
   "outputs": [],
   "source": [
    "def predict_class(tf_model, data, class_names=main_characters):\n",
    "    \"\"\"Returns the string model predictions (class name of the largest network output activation).\"\"\"\n",
    "    \n",
    "    return np.array(class_names)[tf_model.predict(data).argmax(axis=1)]"
   ]
  },
  {
   "cell_type": "code",
   "execution_count": 42,
   "id": "c439cf84",
   "metadata": {
    "ExecuteTime": {
     "end_time": "2023-09-23T14:41:23.142457Z",
     "start_time": "2023-09-23T14:41:23.003262Z"
    }
   },
   "outputs": [
    {
     "name": "stdout",
     "output_type": "stream",
     "text": [
      "1/1 [==============================] - 0s 81ms/step\n"
     ]
    },
    {
     "data": {
      "text/plain": [
       "array(['Marge Simpson', 'Lisa Simpson', 'Homer Simpson', 'Homer Simpson',\n",
       "       'Bart Simpson', 'Homer Simpson'], dtype='<U19')"
      ]
     },
     "execution_count": 42,
     "metadata": {},
     "output_type": "execute_result"
    }
   ],
   "source": [
    "predict_class(MLP_model, examples)"
   ]
  },
  {
   "cell_type": "code",
   "execution_count": null,
   "id": "fff63e01",
   "metadata": {},
   "outputs": [],
   "source": []
  },
  {
   "cell_type": "code",
   "execution_count": null,
   "id": "bf1d2302",
   "metadata": {},
   "outputs": [],
   "source": []
  },
  {
   "cell_type": "code",
   "execution_count": null,
   "id": "70dd5744",
   "metadata": {},
   "outputs": [],
   "source": []
  },
  {
   "cell_type": "code",
   "execution_count": null,
   "id": "50f0f3e7",
   "metadata": {},
   "outputs": [],
   "source": []
  },
  {
   "cell_type": "code",
   "execution_count": null,
   "id": "93f7eff8",
   "metadata": {},
   "outputs": [],
   "source": []
  },
  {
   "cell_type": "code",
   "execution_count": null,
   "id": "3d291381",
   "metadata": {},
   "outputs": [],
   "source": []
  },
  {
   "cell_type": "code",
   "execution_count": null,
   "id": "67217e58",
   "metadata": {},
   "outputs": [],
   "source": []
  },
  {
   "cell_type": "code",
   "execution_count": null,
   "id": "8256819c",
   "metadata": {},
   "outputs": [],
   "source": []
  },
  {
   "cell_type": "code",
   "execution_count": null,
   "id": "4d2471bc",
   "metadata": {},
   "outputs": [],
   "source": []
  },
  {
   "cell_type": "code",
   "execution_count": null,
   "id": "31b93037",
   "metadata": {},
   "outputs": [],
   "source": []
  },
  {
   "cell_type": "code",
   "execution_count": null,
   "id": "e216df9b",
   "metadata": {},
   "outputs": [],
   "source": []
  },
  {
   "cell_type": "code",
   "execution_count": null,
   "id": "1618ccf0",
   "metadata": {},
   "outputs": [],
   "source": []
  },
  {
   "cell_type": "code",
   "execution_count": null,
   "id": "b45d6edb",
   "metadata": {},
   "outputs": [],
   "source": []
  },
  {
   "cell_type": "code",
   "execution_count": null,
   "id": "07edb0f5",
   "metadata": {},
   "outputs": [],
   "source": []
  },
  {
   "cell_type": "code",
   "execution_count": null,
   "id": "18b8ea33",
   "metadata": {},
   "outputs": [],
   "source": [
    "The-Office-Lines-V4"
   ]
  },
  {
   "cell_type": "code",
   "execution_count": null,
   "id": "69acf31c",
   "metadata": {},
   "outputs": [],
   "source": []
  },
  {
   "cell_type": "code",
   "execution_count": null,
   "id": "7d5a2e59",
   "metadata": {},
   "outputs": [],
   "source": []
  },
  {
   "cell_type": "code",
   "execution_count": 45,
   "id": "a140f95a",
   "metadata": {
    "ExecuteTime": {
     "end_time": "2023-09-23T14:42:56.283842Z",
     "start_time": "2023-09-23T14:42:56.269872Z"
    }
   },
   "outputs": [],
   "source": [
    "x = 3"
   ]
  },
  {
   "cell_type": "code",
   "execution_count": 43,
   "id": "2253a4af",
   "metadata": {
    "ExecuteTime": {
     "end_time": "2023-09-23T14:42:24.278110Z",
     "start_time": "2023-09-23T14:42:24.253163Z"
    }
   },
   "outputs": [
    {
     "data": {
      "text/html": [
       "<div>\n",
       "<style scoped>\n",
       "    .dataframe tbody tr th:only-of-type {\n",
       "        vertical-align: middle;\n",
       "    }\n",
       "\n",
       "    .dataframe tbody tr th {\n",
       "        vertical-align: top;\n",
       "    }\n",
       "\n",
       "    .dataframe thead th {\n",
       "        text-align: right;\n",
       "    }\n",
       "</style>\n",
       "<table border=\"1\" class=\"dataframe\">\n",
       "  <thead>\n",
       "    <tr style=\"text-align: right;\">\n",
       "      <th></th>\n",
       "      <th>raw_character_text</th>\n",
       "      <th>raw_location_text</th>\n",
       "      <th>spoken_words</th>\n",
       "      <th>normalized_text</th>\n",
       "    </tr>\n",
       "  </thead>\n",
       "  <tbody>\n",
       "    <tr>\n",
       "      <th>0</th>\n",
       "      <td>Miss Hoover</td>\n",
       "      <td>Springfield Elementary School</td>\n",
       "      <td>No, actually, it was a little of both. Sometim...</td>\n",
       "      <td>no actually it was a little of both sometimes ...</td>\n",
       "    </tr>\n",
       "    <tr>\n",
       "      <th>1</th>\n",
       "      <td>Lisa Simpson</td>\n",
       "      <td>Springfield Elementary School</td>\n",
       "      <td>Where's Mr. Bergstrom?</td>\n",
       "      <td>wheres mr bergstrom</td>\n",
       "    </tr>\n",
       "    <tr>\n",
       "      <th>2</th>\n",
       "      <td>Miss Hoover</td>\n",
       "      <td>Springfield Elementary School</td>\n",
       "      <td>I don't know. Although I'd sure like to talk t...</td>\n",
       "      <td>i dont know although id sure like to talk to h...</td>\n",
       "    </tr>\n",
       "    <tr>\n",
       "      <th>3</th>\n",
       "      <td>Lisa Simpson</td>\n",
       "      <td>Springfield Elementary School</td>\n",
       "      <td>That life is worth living.</td>\n",
       "      <td>that life is worth living</td>\n",
       "    </tr>\n",
       "    <tr>\n",
       "      <th>4</th>\n",
       "      <td>Edna Krabappel-Flanders</td>\n",
       "      <td>Springfield Elementary School</td>\n",
       "      <td>The polls will be open from now until the end ...</td>\n",
       "      <td>the polls will be open from now until the end ...</td>\n",
       "    </tr>\n",
       "    <tr>\n",
       "      <th>...</th>\n",
       "      <td>...</td>\n",
       "      <td>...</td>\n",
       "      <td>...</td>\n",
       "      <td>...</td>\n",
       "    </tr>\n",
       "    <tr>\n",
       "      <th>129787</th>\n",
       "      <td>Miss Hoover</td>\n",
       "      <td>Springfield Elementary School</td>\n",
       "      <td>I'm back.</td>\n",
       "      <td>im back</td>\n",
       "    </tr>\n",
       "    <tr>\n",
       "      <th>129788</th>\n",
       "      <td>Miss Hoover</td>\n",
       "      <td>Springfield Elementary School</td>\n",
       "      <td>You see, class, my Lyme disease turned out to ...</td>\n",
       "      <td>you see class my lyme disease turned out to be</td>\n",
       "    </tr>\n",
       "    <tr>\n",
       "      <th>129789</th>\n",
       "      <td>Miss Hoover</td>\n",
       "      <td>Springfield Elementary School</td>\n",
       "      <td>Psy-cho-so-ma-tic.</td>\n",
       "      <td>psy-cho-so-ma-tic</td>\n",
       "    </tr>\n",
       "    <tr>\n",
       "      <th>129790</th>\n",
       "      <td>Ralph Wiggum</td>\n",
       "      <td>Springfield Elementary School</td>\n",
       "      <td>Does that mean you were crazy?</td>\n",
       "      <td>does that mean you were crazy</td>\n",
       "    </tr>\n",
       "    <tr>\n",
       "      <th>129791</th>\n",
       "      <td>JANEY</td>\n",
       "      <td>Springfield Elementary School</td>\n",
       "      <td>No, that means she was faking it.</td>\n",
       "      <td>no that means she was faking it</td>\n",
       "    </tr>\n",
       "  </tbody>\n",
       "</table>\n",
       "<p>129792 rows × 4 columns</p>\n",
       "</div>"
      ],
      "text/plain": [
       "             raw_character_text              raw_location_text  \\\n",
       "0                   Miss Hoover  Springfield Elementary School   \n",
       "1                  Lisa Simpson  Springfield Elementary School   \n",
       "2                   Miss Hoover  Springfield Elementary School   \n",
       "3                  Lisa Simpson  Springfield Elementary School   \n",
       "4       Edna Krabappel-Flanders  Springfield Elementary School   \n",
       "...                         ...                            ...   \n",
       "129787              Miss Hoover  Springfield Elementary School   \n",
       "129788              Miss Hoover  Springfield Elementary School   \n",
       "129789              Miss Hoover  Springfield Elementary School   \n",
       "129790             Ralph Wiggum  Springfield Elementary School   \n",
       "129791                    JANEY  Springfield Elementary School   \n",
       "\n",
       "                                             spoken_words  \\\n",
       "0       No, actually, it was a little of both. Sometim...   \n",
       "1                                  Where's Mr. Bergstrom?   \n",
       "2       I don't know. Although I'd sure like to talk t...   \n",
       "3                              That life is worth living.   \n",
       "4       The polls will be open from now until the end ...   \n",
       "...                                                   ...   \n",
       "129787                                          I'm back.   \n",
       "129788  You see, class, my Lyme disease turned out to ...   \n",
       "129789                                 Psy-cho-so-ma-tic.   \n",
       "129790                     Does that mean you were crazy?   \n",
       "129791                  No, that means she was faking it.   \n",
       "\n",
       "                                          normalized_text  \n",
       "0       no actually it was a little of both sometimes ...  \n",
       "1                                     wheres mr bergstrom  \n",
       "2       i dont know although id sure like to talk to h...  \n",
       "3                               that life is worth living  \n",
       "4       the polls will be open from now until the end ...  \n",
       "...                                                   ...  \n",
       "129787                                            im back  \n",
       "129788     you see class my lyme disease turned out to be  \n",
       "129789                                  psy-cho-so-ma-tic  \n",
       "129790                      does that mean you were crazy  \n",
       "129791                    no that means she was faking it  \n",
       "\n",
       "[129792 rows x 4 columns]"
      ]
     },
     "execution_count": 43,
     "metadata": {},
     "output_type": "execute_result"
    }
   ],
   "source": [
    "simpsons"
   ]
  },
  {
   "cell_type": "markdown",
   "id": "739125dd",
   "metadata": {},
   "source": [
    "## Simpsons quotes"
   ]
  },
  {
   "cell_type": "markdown",
   "id": "5755f1aa",
   "metadata": {},
   "source": [
    "**Data import and feature selection**"
   ]
  },
  {
   "cell_type": "code",
   "execution_count": 6,
   "id": "7d5aaf06",
   "metadata": {
    "ExecuteTime": {
     "end_time": "2023-09-23T14:19:04.312710Z",
     "start_time": "2023-09-23T14:19:03.063551Z"
    }
   },
   "outputs": [],
   "source": [
    "simpsons = pd.read_csv(\"./data/simpsons_script_lines.csv\",\n",
    "                       usecols=[\"raw_character_text\", \"raw_location_text\", \"spoken_words\", \"normalized_text\"],\n",
    "                       dtype={'raw_character_text':'string', 'raw_location_text':'string',\n",
    "                              'spoken_words':'string', 'normalized_text':'string'})\n",
    "simpsons = simpsons.dropna().drop_duplicates().reset_index(drop=True)\n",
    "\n",
    "n_classes = 10\n",
    "main_characters = simpsons['raw_character_text'].value_counts(dropna=False)[:n_classes].index.to_list()\n",
    "simpsons_main = simpsons.query(\"`raw_character_text` in @main_characters\")\n",
    "\n",
    "X = simpsons_main[\"normalized_text\"].to_numpy()\n",
    "y = simpsons_main[\"raw_character_text\"].to_numpy()\n",
    "y_int = np.array([np.where(np.array(main_characters)==char)[0].item() for char in y])"
   ]
  },
  {
   "cell_type": "code",
   "execution_count": 7,
   "id": "d5d87908",
   "metadata": {
    "ExecuteTime": {
     "end_time": "2023-09-23T14:19:04.340758Z",
     "start_time": "2023-09-23T14:19:04.312710Z"
    }
   },
   "outputs": [],
   "source": [
    "X_train, X_valid, y_train, y_valid = train_test_split(X, y_int, test_size=0.2, random_state=42, shuffle=True)"
   ]
  },
  {
   "cell_type": "markdown",
   "id": "de428f9b",
   "metadata": {},
   "source": [
    "### MLP network architecture"
   ]
  },
  {
   "cell_type": "code",
   "execution_count": 14,
   "id": "041a95b0",
   "metadata": {
    "ExecuteTime": {
     "end_time": "2023-09-23T14:34:06.828248Z",
     "start_time": "2023-09-23T14:34:06.823225Z"
    }
   },
   "outputs": [],
   "source": [
    "# Vocabulary size and number of words in a sequence.\n",
    "max_vocab = 10000\n",
    "sequence_length = 100"
   ]
  },
  {
   "cell_type": "code",
   "execution_count": 15,
   "id": "887087e4",
   "metadata": {
    "ExecuteTime": {
     "end_time": "2023-09-23T14:34:09.787775Z",
     "start_time": "2023-09-23T14:34:07.502772Z"
    }
   },
   "outputs": [],
   "source": [
    "# Use the text vectorization layer to normalize, split, and map strings to\n",
    "# integers. Note that the layer uses the custom standardization defined above.\n",
    "# Set maximum_sequence length as all samples are not of the same length.\n",
    "\n",
    "vectorize_layer = layers.TextVectorization(max_tokens=max_vocab, standardize='lower_and_strip_punctuation',#or custom\n",
    "                                           output_mode='int', output_sequence_length=sequence_length)\n",
    "vectorize_layer.adapt(X_train)"
   ]
  },
  {
   "cell_type": "code",
   "execution_count": null,
   "id": "3718fb3e",
   "metadata": {
    "ExecuteTime": {
     "end_time": "2023-09-23T14:34:09.874283Z",
     "start_time": "2023-09-23T14:34:09.874283Z"
    }
   },
   "outputs": [],
   "source": [
    "vocab = np.array(vectorize_layer.get_vocabulary())\n",
    "vocab[:20]"
   ]
  },
  {
   "cell_type": "markdown",
   "id": "42cb23ac",
   "metadata": {},
   "source": [
    "Toy MLP on top of the embedding layers, using the `Sequential` class."
   ]
  },
  {
   "cell_type": "code",
   "execution_count": 16,
   "id": "a2264e78",
   "metadata": {
    "ExecuteTime": {
     "end_time": "2023-09-23T14:34:10.522497Z",
     "start_time": "2023-09-23T14:34:10.402445Z"
    }
   },
   "outputs": [
    {
     "name": "stdout",
     "output_type": "stream",
     "text": [
      "Model: \"MLP_model\"\n",
      "_________________________________________________________________\n",
      " Layer (type)                Output Shape              Param #   \n",
      "=================================================================\n",
      " text_vectorization_1 (Text  (None, 100)               0         \n",
      " Vectorization)                                                  \n",
      "                                                                 \n",
      " embedding_1 (Embedding)     (None, 100, 50)           500000    \n",
      "                                                                 \n",
      " global_average_pooling1d_1  (None, 50)                0         \n",
      "  (GlobalAveragePooling1D)                                       \n",
      "                                                                 \n",
      " dense_2 (Dense)             (None, 64)                3264      \n",
      "                                                                 \n",
      " dropout_1 (Dropout)         (None, 64)                0         \n",
      "                                                                 \n",
      " dense_3 (Dense)             (None, 10)                650       \n",
      "                                                                 \n",
      "=================================================================\n",
      "Total params: 503914 (1.92 MB)\n",
      "Trainable params: 503914 (1.92 MB)\n",
      "Non-trainable params: 0 (0.00 Byte)\n",
      "_________________________________________________________________\n"
     ]
    }
   ],
   "source": [
    "embedding_dim=50\n",
    "\n",
    "MLP_model = Sequential([\n",
    "    vectorize_layer,\n",
    "    layers.Embedding(input_dim=len(vectorize_layer.get_vocabulary()), output_dim=50,\n",
    "                     embeddings_initializer='uniform'),\n",
    "    layers.GlobalAveragePooling1D(),\n",
    "    layers.Dense(64, activation='relu'),\n",
    "    layers.Dropout(0.2),\n",
    "    layers.Dense(n_classes, activation='softmax')\n",
    "], name=\"MLP_model\")\n",
    "\n",
    "MLP_model.summary()"
   ]
  },
  {
   "cell_type": "code",
   "execution_count": 17,
   "id": "d59f9b47",
   "metadata": {
    "ExecuteTime": {
     "end_time": "2023-09-23T14:34:12.410830Z",
     "start_time": "2023-09-23T14:34:12.393838Z"
    }
   },
   "outputs": [],
   "source": [
    "MLP_model.compile(optimizer=optimizers.Adam(),\n",
    "                  loss=losses.SparseCategoricalCrossentropy(from_logits=False),\n",
    "                  metrics=['accuracy'])"
   ]
  },
  {
   "cell_type": "code",
   "execution_count": 18,
   "id": "ae2e1843",
   "metadata": {
    "ExecuteTime": {
     "end_time": "2023-09-23T14:35:04.229838Z",
     "start_time": "2023-09-23T14:34:13.612269Z"
    },
    "scrolled": true
   },
   "outputs": [
    {
     "name": "stdout",
     "output_type": "stream",
     "text": [
      "Epoch 1/10\n",
      "483/483 [==============================] - 5s 10ms/step - loss: 1.9021 - accuracy: 0.3508 - val_loss: 1.8457 - val_accuracy: 0.3567\n",
      "Epoch 2/10\n",
      "483/483 [==============================] - 5s 11ms/step - loss: 1.8477 - accuracy: 0.3523 - val_loss: 1.8169 - val_accuracy: 0.3568\n",
      "Epoch 3/10\n",
      "483/483 [==============================] - 5s 10ms/step - loss: 1.7733 - accuracy: 0.3698 - val_loss: 1.7196 - val_accuracy: 0.3962\n",
      "Epoch 4/10\n",
      "483/483 [==============================] - 5s 10ms/step - loss: 1.6676 - accuracy: 0.4119 - val_loss: 1.6676 - val_accuracy: 0.4093\n",
      "Epoch 5/10\n",
      "483/483 [==============================] - 5s 11ms/step - loss: 1.5983 - accuracy: 0.4375 - val_loss: 1.6390 - val_accuracy: 0.4244\n",
      "Epoch 6/10\n",
      "483/483 [==============================] - 5s 10ms/step - loss: 1.5519 - accuracy: 0.4548 - val_loss: 1.6279 - val_accuracy: 0.4288\n",
      "Epoch 7/10\n",
      "483/483 [==============================] - 5s 10ms/step - loss: 1.5152 - accuracy: 0.4697 - val_loss: 1.6250 - val_accuracy: 0.4308\n",
      "Epoch 8/10\n",
      "483/483 [==============================] - 5s 10ms/step - loss: 1.4841 - accuracy: 0.4846 - val_loss: 1.6199 - val_accuracy: 0.4341\n",
      "Epoch 9/10\n",
      "483/483 [==============================] - 5s 10ms/step - loss: 1.4520 - accuracy: 0.4946 - val_loss: 1.6287 - val_accuracy: 0.4364\n",
      "Epoch 10/10\n",
      "483/483 [==============================] - 5s 11ms/step - loss: 1.4245 - accuracy: 0.5047 - val_loss: 1.6535 - val_accuracy: 0.4366\n"
     ]
    }
   ],
   "source": [
    "epochs = 10\n",
    "history_MLP = MLP_model.fit(X_train, y_train, validation_data=(X_valid, y_valid),\n",
    "                            batch_size=128, epochs=epochs)\n",
    "\n",
    "MLP_model.save_weights(\"./checkpoints/MLP_10/MLP_10\") # Save the network's weights\n",
    "#MLP_model.save(\"./checkpoints/MLP_10_model\") #for saving the whole model object"
   ]
  },
  {
   "cell_type": "code",
   "execution_count": 19,
   "id": "2aca272a",
   "metadata": {
    "ExecuteTime": {
     "end_time": "2023-09-23T14:36:14.807348Z",
     "start_time": "2023-09-23T14:36:13.775674Z"
    }
   },
   "outputs": [
    {
     "name": "stdout",
     "output_type": "stream",
     "text": [
      "483/483 [==============================] - 1s 2ms/step - loss: 1.6535 - accuracy: 0.4366\n",
      "Loss:  1.65350341796875\n",
      "Accuracy:  0.43659690022468567\n"
     ]
    }
   ],
   "source": [
    "loss, accuracy = MLP_model.evaluate(X_valid, y_valid)\n",
    "\n",
    "print(\"Loss: \", loss)\n",
    "print(\"Accuracy: \", accuracy)"
   ]
  },
  {
   "cell_type": "code",
   "execution_count": 22,
   "id": "8e29dde0",
   "metadata": {
    "ExecuteTime": {
     "end_time": "2023-09-23T14:36:19.935426Z",
     "start_time": "2023-09-23T14:36:19.928449Z"
    }
   },
   "outputs": [
    {
     "data": {
      "text/plain": [
       "dict_keys(['loss', 'accuracy', 'val_loss', 'val_accuracy'])"
      ]
     },
     "execution_count": 22,
     "metadata": {},
     "output_type": "execute_result"
    }
   ],
   "source": [
    "history_MLP_dict = history_MLP.history\n",
    "history_MLP_dict.keys()"
   ]
  },
  {
   "cell_type": "code",
   "execution_count": 23,
   "id": "4f7f7cf0",
   "metadata": {
    "ExecuteTime": {
     "end_time": "2023-09-23T14:36:21.089262Z",
     "start_time": "2023-09-23T14:36:20.834906Z"
    },
    "code_folding": [
     0
    ],
    "scrolled": true
   },
   "outputs": [
    {
     "data": {
      "image/png": "[encoded data removed]",
      "text/plain": [
       "<Figure size 1000x400 with 2 Axes>"
      ]
     },
     "metadata": {},
     "output_type": "display_data"
    }
   ],
   "source": [
    "def plot_training(history_dict):\n",
    "    acc = history_dict['accuracy']\n",
    "    val_acc = history_dict['val_accuracy']\n",
    "    loss = history_dict['loss']\n",
    "    val_loss = history_dict['val_loss']\n",
    "    \n",
    "    epochs = range(1, len(loss) + 1)\n",
    "    \n",
    "    plt.figure(figsize=(10, 4))\n",
    "    plt.subplot(1, 2, 1)\n",
    "    plt.plot(epochs, loss, 'b--', label='Training')\n",
    "    plt.plot(epochs, val_loss, 'r-', label='Validation')\n",
    "    plt.xlabel('Epochs')\n",
    "    plt.ylabel('Cross-Entropy Loss')\n",
    "    plt.legend()\n",
    "    \n",
    "    plt.subplot(1, 2, 2)\n",
    "    plt.plot(epochs, acc, 'b--', label='Training')\n",
    "    plt.plot(epochs, val_acc, 'r-', label='Validation')\n",
    "    plt.xlabel('Epochs')\n",
    "    plt.ylabel('Accuracy')\n",
    "    plt.legend(loc='lower right')\n",
    "    \n",
    "    plt.show()\n",
    "\n",
    "plot_training(history_MLP_dict)"
   ]
  },
  {
   "cell_type": "code",
   "execution_count": 41,
   "id": "06e341dc",
   "metadata": {
    "ExecuteTime": {
     "end_time": "2023-09-23T14:41:21.466505Z",
     "start_time": "2023-09-23T14:41:21.316105Z"
    },
    "code_folding": [],
    "scrolled": false
   },
   "outputs": [
    {
     "name": "stdout",
     "output_type": "stream",
     "text": [
      "1/1 [==============================] - 0s 94ms/step\n"
     ]
    },
    {
     "data": {
      "text/plain": [
       "array([[0.18647748, 0.43331364, 0.04746127, 0.02655105, 0.06609406,\n",
       "        0.05707376, 0.03712392, 0.08299996, 0.02388611, 0.03901874],\n",
       "       [0.17851926, 0.05842649, 0.3239461 , 0.3728362 , 0.00722596,\n",
       "        0.00937284, 0.02089357, 0.00704327, 0.01130637, 0.01042986],\n",
       "       [0.5925612 , 0.0647964 , 0.21683946, 0.08135845, 0.00640107,\n",
       "        0.01251706, 0.00363637, 0.00487605, 0.00618971, 0.01082424],\n",
       "       [0.77134466, 0.02782005, 0.08128887, 0.01750544, 0.01626592,\n",
       "        0.04015723, 0.00279084, 0.00945924, 0.01226411, 0.02110355],\n",
       "       [0.31298086, 0.07417452, 0.35542732, 0.19152   , 0.00914695,\n",
       "        0.01336005, 0.01181501, 0.00734113, 0.01091619, 0.01331797],\n",
       "       [0.82369107, 0.04295533, 0.08503318, 0.01911663, 0.00402109,\n",
       "        0.01089702, 0.00097174, 0.00300934, 0.00289708, 0.00740751]],\n",
       "      dtype=float32)"
      ]
     },
     "execution_count": 41,
     "metadata": {},
     "output_type": "execute_result"
    }
   ],
   "source": [
    "examples = [\"Homer, come here!\",\n",
    "            \"Science is amazing.\",\n",
    "            \"Duh\",\n",
    "           'Give me a beer', \"I want to skate\", 'I want a donut']\n",
    "\n",
    "MLP_model.predict(examples)"
   ]
  },
  {
   "cell_type": "code",
   "execution_count": 25,
   "id": "386f17eb",
   "metadata": {
    "ExecuteTime": {
     "end_time": "2023-09-23T14:36:24.498479Z",
     "start_time": "2023-09-23T14:36:24.485506Z"
    }
   },
   "outputs": [],
   "source": [
    "def predict_class(tf_model, data, class_names=main_characters):\n",
    "    \"\"\"Returns the string model predictions (class name of the largest network output activation).\"\"\"\n",
    "    \n",
    "    return np.array(class_names)[tf_model.predict(data).argmax(axis=1)]"
   ]
  },
  {
   "cell_type": "code",
   "execution_count": 42,
   "id": "aea13580",
   "metadata": {
    "ExecuteTime": {
     "end_time": "2023-09-23T14:41:23.142457Z",
     "start_time": "2023-09-23T14:41:23.003262Z"
    }
   },
   "outputs": [
    {
     "name": "stdout",
     "output_type": "stream",
     "text": [
      "1/1 [==============================] - 0s 81ms/step\n"
     ]
    },
    {
     "data": {
      "text/plain": [
       "array(['Marge Simpson', 'Lisa Simpson', 'Homer Simpson', 'Homer Simpson',\n",
       "       'Bart Simpson', 'Homer Simpson'], dtype='<U19')"
      ]
     },
     "execution_count": 42,
     "metadata": {},
     "output_type": "execute_result"
    }
   ],
   "source": [
    "predict_class(MLP_model, examples)"
   ]
  },
  {
   "cell_type": "code",
   "execution_count": null,
   "id": "8d50a27f",
   "metadata": {},
   "outputs": [],
   "source": []
  },
  {
   "cell_type": "code",
   "execution_count": 46,
   "id": "86d2a4bd",
   "metadata": {
    "ExecuteTime": {
     "end_time": "2023-09-23T14:57:51.513382Z",
     "start_time": "2023-09-23T14:57:49.290769Z"
    }
   },
   "outputs": [],
   "source": [
    "max_vocab = 10000\n",
    "vectorize_layer = layers.TextVectorization(max_tokens=max_vocab, standardize='lower_and_strip_punctuation',\n",
    "                                           output_mode='int', output_sequence_length=None)\n",
    "vectorize_layer.adapt(X_train)"
   ]
  },
  {
   "cell_type": "code",
   "execution_count": 47,
   "id": "67ea0c67",
   "metadata": {
    "ExecuteTime": {
     "end_time": "2023-09-23T14:57:56.576713Z",
     "start_time": "2023-09-23T14:57:51.513382Z"
    }
   },
   "outputs": [],
   "source": [
    "embedding_dim=50\n",
    "\n",
    "# Using masking with 'mask_zero=True' to handle the variable sequence lengths in subsequent layers.\n",
    "\n",
    "LSTM_model = tf.keras.Sequential([\n",
    "    vectorize_layer,\n",
    "    layers.Embedding(input_dim=len(vectorize_layer.get_vocabulary()), output_dim=embedding_dim,\n",
    "                     embeddings_initializer='uniform', mask_zero=True),\n",
    "    layers.LSTM(64),\n",
    "    layers.Dense(64, activation='relu'),\n",
    "    layers.Dense(n_classes, activation='softmax')\n",
    "], name=\"LSTM_model\")\n",
    "\n",
    "BLSTM_model = tf.keras.Sequential([\n",
    "    vectorize_layer,\n",
    "    layers.Embedding(input_dim=len(vectorize_layer.get_vocabulary()), output_dim=embedding_dim,\n",
    "                     embeddings_initializer='uniform', mask_zero=True),\n",
    "    layers.Bidirectional(layers.LSTM(64), merge_mode='concat'),\n",
    "    layers.Dense(n_classes, activation='softmax')\n",
    "], name=\"BLSTM_model\")\n",
    "\n",
    "BLSTM2_model = tf.keras.Sequential([\n",
    "    vectorize_layer,\n",
    "    layers.Embedding(input_dim=len(vectorize_layer.get_vocabulary()), output_dim=embedding_dim,\n",
    "                     embeddings_initializer='uniform', mask_zero=True),\n",
    "    layers.Bidirectional(layers.LSTM(64,  return_sequences=True), merge_mode='concat'),\n",
    "    layers.Bidirectional(layers.LSTM(32,  return_sequences=False), merge_mode='concat'),\n",
    "    layers.Dense(64, activation='relu'),\n",
    "    layers.Dropout(0.5),\n",
    "    layers.Dense(n_classes, activation='softmax')\n",
    "], name=\"BLSTM2_model\")\n"
   ]
  },
  {
   "cell_type": "code",
   "execution_count": 48,
   "id": "07ec04a5",
   "metadata": {
    "ExecuteTime": {
     "end_time": "2023-09-23T14:57:56.605398Z",
     "start_time": "2023-09-23T14:57:56.576713Z"
    }
   },
   "outputs": [],
   "source": [
    "BLSTM_model.compile(optimizer=optimizers.Adam(learning_rate=1e-4),\n",
    "                    loss=losses.SparseCategoricalCrossentropy(from_logits=False),\n",
    "                    metrics=['accuracy'])"
   ]
  },
  {
   "cell_type": "code",
   "execution_count": 49,
   "id": "3918030d",
   "metadata": {
    "ExecuteTime": {
     "end_time": "2023-09-23T15:04:02.183624Z",
     "start_time": "2023-09-23T14:57:56.609348Z"
    }
   },
   "outputs": [
    {
     "name": "stdout",
     "output_type": "stream",
     "text": [
      "Epoch 1/10\n",
      "483/483 [==============================] - 45s 80ms/step - loss: 2.0459 - accuracy: 0.3466 - val_loss: 1.9127 - val_accuracy: 0.3567\n",
      "Epoch 2/10\n",
      "483/483 [==============================] - 35s 73ms/step - loss: 1.8827 - accuracy: 0.3523 - val_loss: 1.8626 - val_accuracy: 0.3566\n",
      "Epoch 3/10\n",
      "483/483 [==============================] - 35s 73ms/step - loss: 1.8319 - accuracy: 0.3546 - val_loss: 1.8177 - val_accuracy: 0.3621\n",
      "Epoch 4/10\n",
      "483/483 [==============================] - 36s 75ms/step - loss: 1.7691 - accuracy: 0.3755 - val_loss: 1.7625 - val_accuracy: 0.3879\n",
      "Epoch 5/10\n",
      "483/483 [==============================] - 35s 73ms/step - loss: 1.6885 - accuracy: 0.4111 - val_loss: 1.7012 - val_accuracy: 0.4115\n",
      "Epoch 6/10\n",
      "483/483 [==============================] - 36s 74ms/step - loss: 1.6223 - accuracy: 0.4355 - val_loss: 1.6814 - val_accuracy: 0.4135\n",
      "Epoch 7/10\n",
      "483/483 [==============================] - 36s 74ms/step - loss: 1.5764 - accuracy: 0.4526 - val_loss: 1.6593 - val_accuracy: 0.4243\n",
      "Epoch 8/10\n",
      "483/483 [==============================] - 35s 73ms/step - loss: 1.5399 - accuracy: 0.4659 - val_loss: 1.6587 - val_accuracy: 0.4277\n",
      "Epoch 9/10\n",
      "483/483 [==============================] - 36s 73ms/step - loss: 1.5096 - accuracy: 0.4762 - val_loss: 1.6551 - val_accuracy: 0.4278\n",
      "Epoch 10/10\n",
      "483/483 [==============================] - 36s 74ms/step - loss: 1.4833 - accuracy: 0.4857 - val_loss: 1.6577 - val_accuracy: 0.4300\n"
     ]
    }
   ],
   "source": [
    "epochs = 10#100\n",
    "history_lstm = BLSTM_model.fit(X_train, y_train, validation_data=(X_valid, y_valid),\n",
    "                               batch_size=128, epochs=epochs)\n",
    "\n",
    "BLSTM_model.save_weights(\"./checkpoints/BLSTM_10/BLSTM_10\")\n",
    "#BLSTM_model.save(\"./checkpoints/BLSTM_10_model\")"
   ]
  },
  {
   "cell_type": "code",
   "execution_count": 53,
   "id": "61cb4b3d",
   "metadata": {
    "ExecuteTime": {
     "end_time": "2023-09-23T15:08:55.221291Z",
     "start_time": "2023-09-23T15:08:55.204337Z"
    }
   },
   "outputs": [
    {
     "data": {
      "text/plain": [
       "dict_keys(['loss', 'accuracy', 'val_loss', 'val_accuracy'])"
      ]
     },
     "execution_count": 53,
     "metadata": {},
     "output_type": "execute_result"
    }
   ],
   "source": [
    "history_lstm_dict = history_lstm.history\n",
    "history_lstm_dict.keys()"
   ]
  },
  {
   "cell_type": "code",
   "execution_count": 54,
   "id": "7de1a267",
   "metadata": {
    "ExecuteTime": {
     "end_time": "2023-09-23T15:08:58.678946Z",
     "start_time": "2023-09-23T15:08:58.633783Z"
    }
   },
   "outputs": [
    {
     "data": {
      "text/plain": [
       "<tensorflow.python.checkpoint.checkpoint.CheckpointLoadStatus at 0x24dcc522940>"
      ]
     },
     "execution_count": 54,
     "metadata": {},
     "output_type": "execute_result"
    }
   ],
   "source": [
    "BLSTM_model.load_weights(\"./checkpoints/BLSTM_10/BLSTM_10\")\n",
    "#history_lstm_dict = history_lstm.history"
   ]
  },
  {
   "cell_type": "code",
   "execution_count": 55,
   "id": "4dc88a65",
   "metadata": {
    "ExecuteTime": {
     "end_time": "2023-09-23T15:09:03.484940Z",
     "start_time": "2023-09-23T15:08:59.631793Z"
    }
   },
   "outputs": [
    {
     "name": "stdout",
     "output_type": "stream",
     "text": [
      "483/483 [==============================] - 4s 7ms/step - loss: 1.6577 - accuracy: 0.4300\n",
      "Test Loss: 1.6576883792877197\n",
      "Test Accuracy: 0.42998769879341125\n"
     ]
    },
    {
     "data": {
      "image/png": "[encoded data removed]",
      "text/plain": [
       "<Figure size 1000x400 with 2 Axes>"
      ]
     },
     "metadata": {},
     "output_type": "display_data"
    }
   ],
   "source": [
    "test_loss, test_acc = BLSTM_model.evaluate(X_valid, y_valid)\n",
    "\n",
    "print('Test Loss:', test_loss)\n",
    "print('Test Accuracy:', test_acc)\n",
    "\n",
    "plot_training(history_lstm_dict)"
   ]
  },
  {
   "cell_type": "code",
   "execution_count": 57,
   "id": "164fcc7e",
   "metadata": {
    "ExecuteTime": {
     "end_time": "2023-09-23T15:11:21.255831Z",
     "start_time": "2023-09-23T15:11:21.124791Z"
    }
   },
   "outputs": [
    {
     "name": "stdout",
     "output_type": "stream",
     "text": [
      "1/1 [==============================] - 0s 80ms/step\n"
     ]
    },
    {
     "data": {
      "text/plain": [
       "array([[0.13337894, 0.48764655, 0.04149556, 0.03977887, 0.05548545,\n",
       "        0.04696972, 0.0432124 , 0.07826801, 0.03022247, 0.04354202],\n",
       "       [0.21468423, 0.12918802, 0.2335878 , 0.29511794, 0.02586924,\n",
       "        0.02002858, 0.02763701, 0.01663502, 0.01816985, 0.01908232],\n",
       "       [0.42252585, 0.14077646, 0.15514901, 0.13441347, 0.02362119,\n",
       "        0.02903654, 0.02604101, 0.02109459, 0.02082188, 0.0265199 ],\n",
       "       [0.6690109 , 0.06788293, 0.1346937 , 0.05013072, 0.01166718,\n",
       "        0.02229516, 0.00865649, 0.00989323, 0.01045811, 0.0153115 ],\n",
       "       [0.29317096, 0.15490018, 0.23972432, 0.19234435, 0.02224456,\n",
       "        0.02233732, 0.02207019, 0.01736215, 0.01622612, 0.01961983],\n",
       "       [0.7350103 , 0.08939676, 0.115678  , 0.0412947 , 0.00230623,\n",
       "        0.00517481, 0.00225672, 0.00259803, 0.00214006, 0.0041443 ]],\n",
       "      dtype=float32)"
      ]
     },
     "execution_count": 57,
     "metadata": {},
     "output_type": "execute_result"
    }
   ],
   "source": [
    "BLSTM_model.predict(examples)"
   ]
  },
  {
   "cell_type": "code",
   "execution_count": 56,
   "id": "6e9c879e",
   "metadata": {
    "ExecuteTime": {
     "end_time": "2023-09-23T15:10:36.297377Z",
     "start_time": "2023-09-23T15:10:34.082789Z"
    }
   },
   "outputs": [
    {
     "name": "stdout",
     "output_type": "stream",
     "text": [
      "1/1 [==============================] - 2s 2s/step\n",
      "1/1 [==============================] - 0s 110ms/step\n"
     ]
    },
    {
     "data": {
      "text/plain": [
       "array(['Marge Simpson', 'Lisa Simpson', 'Homer Simpson', 'Homer Simpson',\n",
       "       'Homer Simpson', 'Homer Simpson'], dtype='<U19')"
      ]
     },
     "execution_count": 56,
     "metadata": {},
     "output_type": "execute_result"
    }
   ],
   "source": [
    "BLSTM_model.predict(examples)\n",
    "predict_class(BLSTM_model, examples)"
   ]
  },
  {
   "cell_type": "code",
   "execution_count": null,
   "id": "71a7f3e8",
   "metadata": {},
   "outputs": [],
   "source": []
  },
  {
   "cell_type": "code",
   "execution_count": null,
   "id": "3bd97636",
   "metadata": {},
   "outputs": [],
   "source": []
  },
  {
   "cell_type": "code",
   "execution_count": 58,
   "id": "8f0b6c09",
   "metadata": {
    "ExecuteTime": {
     "end_time": "2023-09-25T17:33:28.351704Z",
     "start_time": "2023-09-25T17:33:13.030467Z"
    }
   },
   "outputs": [
    {
     "data": {
      "application/vnd.jupyter.widget-view+json": {
       "model_id": "570d3c7d3e8b470cbd8208b2d99337a2",
       "version_major": 2,
       "version_minor": 0
      },
      "text/plain": [
       "Downloading (…)okenizer_config.json:   0%|          | 0.00/29.0 [00:00<?, ?B/s]"
      ]
     },
     "metadata": {},
     "output_type": "display_data"
    },
    {
     "data": {
      "application/vnd.jupyter.widget-view+json": {
       "model_id": "d71bb718e9e1438abf8c38d106294beb",
       "version_major": 2,
       "version_minor": 0
      },
      "text/plain": [
       "Downloading (…)lve/main/config.json:   0%|          | 0.00/570 [00:00<?, ?B/s]"
      ]
     },
     "metadata": {},
     "output_type": "display_data"
    },
    {
     "data": {
      "application/vnd.jupyter.widget-view+json": {
       "model_id": "3775712644c5401093fc018f4694deaa",
       "version_major": 2,
       "version_minor": 0
      },
      "text/plain": [
       "Downloading (…)solve/main/vocab.txt:   0%|          | 0.00/213k [00:00<?, ?B/s]"
      ]
     },
     "metadata": {},
     "output_type": "display_data"
    },
    {
     "data": {
      "application/vnd.jupyter.widget-view+json": {
       "model_id": "9eb2d4a1af4648099091e065ffa914f3",
       "version_major": 2,
       "version_minor": 0
      },
      "text/plain": [
       "Downloading (…)/main/tokenizer.json:   0%|          | 0.00/436k [00:00<?, ?B/s]"
      ]
     },
     "metadata": {},
     "output_type": "display_data"
    },
    {
     "name": "stderr",
     "output_type": "stream",
     "text": [
      "C:\\Users\\rened\\Anaconda3\\lib\\site-packages\\huggingface_hub\\file_download.py:980: UserWarning: Not enough free disk space to download the file. The expected file size is: 435.76 MB. The target location C:\\Users\\rened\\.cache\\huggingface\\hub only has 79.93 MB free disk space.\n",
      "  warnings.warn(\n",
      "C:\\Users\\rened\\Anaconda3\\lib\\site-packages\\huggingface_hub\\file_download.py:980: UserWarning: Not enough free disk space to download the file. The expected file size is: 435.76 MB. The target location C:\\Users\\rened/.cache\\huggingface\\hub\\models--bert-base-cased\\blobs only has 79.93 MB free disk space.\n",
      "  warnings.warn(\n"
     ]
    },
    {
     "data": {
      "application/vnd.jupyter.widget-view+json": {
       "model_id": "82288fe4ff50413da449b4307c5ba1cb",
       "version_major": 2,
       "version_minor": 0
      },
      "text/plain": [
       "Downloading model.safetensors:   0%|          | 0.00/436M [00:00<?, ?B/s]"
      ]
     },
     "metadata": {},
     "output_type": "display_data"
    },
    {
     "ename": "OSError",
     "evalue": "[Errno 28] No space left on device",
     "output_type": "error",
     "traceback": [
      "\u001b[1;31m---------------------------------------------------------------------------\u001b[0m",
      "\u001b[1;31mOSError\u001b[0m                                   Traceback (most recent call last)",
      "\u001b[1;32m~\\AppData\\Local\\Temp\\ipykernel_12704\\2913701150.py\u001b[0m in \u001b[0;36m<module>\u001b[1;34m\u001b[0m\n\u001b[0;32m      2\u001b[0m \u001b[1;33m\u001b[0m\u001b[0m\n\u001b[0;32m      3\u001b[0m \u001b[0mtokenizer\u001b[0m \u001b[1;33m=\u001b[0m \u001b[0mAutoTokenizer\u001b[0m\u001b[1;33m.\u001b[0m\u001b[0mfrom_pretrained\u001b[0m\u001b[1;33m(\u001b[0m\u001b[0mpretrained_name2\u001b[0m\u001b[1;33m)\u001b[0m\u001b[1;33m\u001b[0m\u001b[1;33m\u001b[0m\u001b[0m\n\u001b[1;32m----> 4\u001b[1;33m model = TFAutoModelForSequenceClassification.from_pretrained(\n\u001b[0m\u001b[0;32m      5\u001b[0m     pretrained_name2, num_labels=n_classes)  #?\n",
      "\u001b[1;32m~\\Anaconda3\\lib\\site-packages\\transformers\\models\\auto\\auto_factory.py\u001b[0m in \u001b[0;36mfrom_pretrained\u001b[1;34m(cls, pretrained_model_name_or_path, *model_args, **kwargs)\u001b[0m\n\u001b[0;32m    561\u001b[0m         \u001b[1;32melif\u001b[0m \u001b[0mtype\u001b[0m\u001b[1;33m(\u001b[0m\u001b[0mconfig\u001b[0m\u001b[1;33m)\u001b[0m \u001b[1;32min\u001b[0m \u001b[0mcls\u001b[0m\u001b[1;33m.\u001b[0m\u001b[0m_model_mapping\u001b[0m\u001b[1;33m.\u001b[0m\u001b[0mkeys\u001b[0m\u001b[1;33m(\u001b[0m\u001b[1;33m)\u001b[0m\u001b[1;33m:\u001b[0m\u001b[1;33m\u001b[0m\u001b[1;33m\u001b[0m\u001b[0m\n\u001b[0;32m    562\u001b[0m             \u001b[0mmodel_class\u001b[0m \u001b[1;33m=\u001b[0m \u001b[0m_get_model_class\u001b[0m\u001b[1;33m(\u001b[0m\u001b[0mconfig\u001b[0m\u001b[1;33m,\u001b[0m \u001b[0mcls\u001b[0m\u001b[1;33m.\u001b[0m\u001b[0m_model_mapping\u001b[0m\u001b[1;33m)\u001b[0m\u001b[1;33m\u001b[0m\u001b[1;33m\u001b[0m\u001b[0m\n\u001b[1;32m--> 563\u001b[1;33m             return model_class.from_pretrained(\n\u001b[0m\u001b[0;32m    564\u001b[0m                 \u001b[0mpretrained_model_name_or_path\u001b[0m\u001b[1;33m,\u001b[0m \u001b[1;33m*\u001b[0m\u001b[0mmodel_args\u001b[0m\u001b[1;33m,\u001b[0m \u001b[0mconfig\u001b[0m\u001b[1;33m=\u001b[0m\u001b[0mconfig\u001b[0m\u001b[1;33m,\u001b[0m \u001b[1;33m**\u001b[0m\u001b[0mhub_kwargs\u001b[0m\u001b[1;33m,\u001b[0m \u001b[1;33m**\u001b[0m\u001b[0mkwargs\u001b[0m\u001b[1;33m\u001b[0m\u001b[1;33m\u001b[0m\u001b[0m\n\u001b[0;32m    565\u001b[0m             )\n",
      "\u001b[1;32m~\\Anaconda3\\lib\\site-packages\\transformers\\modeling_tf_utils.py\u001b[0m in \u001b[0;36mfrom_pretrained\u001b[1;34m(cls, pretrained_model_name_or_path, config, cache_dir, ignore_mismatched_sizes, force_download, local_files_only, token, revision, *model_args, **kwargs)\u001b[0m\n\u001b[0;32m   2775\u001b[0m                         \u001b[1;34m\"_commit_hash\"\u001b[0m\u001b[1;33m:\u001b[0m \u001b[0mcommit_hash\u001b[0m\u001b[1;33m,\u001b[0m\u001b[1;33m\u001b[0m\u001b[1;33m\u001b[0m\u001b[0m\n\u001b[0;32m   2776\u001b[0m                     }\n\u001b[1;32m-> 2777\u001b[1;33m                     \u001b[0mresolved_archive_file\u001b[0m \u001b[1;33m=\u001b[0m \u001b[0mcached_file\u001b[0m\u001b[1;33m(\u001b[0m\u001b[0mpretrained_model_name_or_path\u001b[0m\u001b[1;33m,\u001b[0m \u001b[0mfilename\u001b[0m\u001b[1;33m,\u001b[0m \u001b[1;33m**\u001b[0m\u001b[0mcached_file_kwargs\u001b[0m\u001b[1;33m)\u001b[0m\u001b[1;33m\u001b[0m\u001b[1;33m\u001b[0m\u001b[0m\n\u001b[0m\u001b[0;32m   2778\u001b[0m \u001b[1;33m\u001b[0m\u001b[0m\n\u001b[0;32m   2779\u001b[0m                     \u001b[1;31m# Since we set _raise_exceptions_for_missing_entries=False, we don't get an exception but a None\u001b[0m\u001b[1;33m\u001b[0m\u001b[1;33m\u001b[0m\u001b[0m\n",
      "\u001b[1;32m~\\Anaconda3\\lib\\site-packages\\transformers\\utils\\hub.py\u001b[0m in \u001b[0;36mcached_file\u001b[1;34m(path_or_repo_id, filename, cache_dir, force_download, resume_download, proxies, token, revision, local_files_only, subfolder, repo_type, user_agent, _raise_exceptions_for_missing_entries, _raise_exceptions_for_connection_errors, _commit_hash, **deprecated_kwargs)\u001b[0m\n\u001b[0;32m    427\u001b[0m     \u001b[1;32mtry\u001b[0m\u001b[1;33m:\u001b[0m\u001b[1;33m\u001b[0m\u001b[1;33m\u001b[0m\u001b[0m\n\u001b[0;32m    428\u001b[0m         \u001b[1;31m# Load from URL or cache if already cached\u001b[0m\u001b[1;33m\u001b[0m\u001b[1;33m\u001b[0m\u001b[0m\n\u001b[1;32m--> 429\u001b[1;33m         resolved_file = hf_hub_download(\n\u001b[0m\u001b[0;32m    430\u001b[0m             \u001b[0mpath_or_repo_id\u001b[0m\u001b[1;33m,\u001b[0m\u001b[1;33m\u001b[0m\u001b[1;33m\u001b[0m\u001b[0m\n\u001b[0;32m    431\u001b[0m             \u001b[0mfilename\u001b[0m\u001b[1;33m,\u001b[0m\u001b[1;33m\u001b[0m\u001b[1;33m\u001b[0m\u001b[0m\n",
      "\u001b[1;32m~\\Anaconda3\\lib\\site-packages\\huggingface_hub\\utils\\_validators.py\u001b[0m in \u001b[0;36m_inner_fn\u001b[1;34m(*args, **kwargs)\u001b[0m\n\u001b[0;32m    116\u001b[0m             \u001b[0mkwargs\u001b[0m \u001b[1;33m=\u001b[0m \u001b[0msmoothly_deprecate_use_auth_token\u001b[0m\u001b[1;33m(\u001b[0m\u001b[0mfn_name\u001b[0m\u001b[1;33m=\u001b[0m\u001b[0mfn\u001b[0m\u001b[1;33m.\u001b[0m\u001b[0m__name__\u001b[0m\u001b[1;33m,\u001b[0m \u001b[0mhas_token\u001b[0m\u001b[1;33m=\u001b[0m\u001b[0mhas_token\u001b[0m\u001b[1;33m,\u001b[0m \u001b[0mkwargs\u001b[0m\u001b[1;33m=\u001b[0m\u001b[0mkwargs\u001b[0m\u001b[1;33m)\u001b[0m\u001b[1;33m\u001b[0m\u001b[1;33m\u001b[0m\u001b[0m\n\u001b[0;32m    117\u001b[0m \u001b[1;33m\u001b[0m\u001b[0m\n\u001b[1;32m--> 118\u001b[1;33m         \u001b[1;32mreturn\u001b[0m \u001b[0mfn\u001b[0m\u001b[1;33m(\u001b[0m\u001b[1;33m*\u001b[0m\u001b[0margs\u001b[0m\u001b[1;33m,\u001b[0m \u001b[1;33m**\u001b[0m\u001b[0mkwargs\u001b[0m\u001b[1;33m)\u001b[0m\u001b[1;33m\u001b[0m\u001b[1;33m\u001b[0m\u001b[0m\n\u001b[0m\u001b[0;32m    119\u001b[0m \u001b[1;33m\u001b[0m\u001b[0m\n\u001b[0;32m    120\u001b[0m     \u001b[1;32mreturn\u001b[0m \u001b[0m_inner_fn\u001b[0m  \u001b[1;31m# type: ignore\u001b[0m\u001b[1;33m\u001b[0m\u001b[1;33m\u001b[0m\u001b[0m\n",
      "\u001b[1;32m~\\Anaconda3\\lib\\site-packages\\huggingface_hub\\file_download.py\u001b[0m in \u001b[0;36mhf_hub_download\u001b[1;34m(repo_id, filename, subfolder, repo_type, revision, endpoint, library_name, library_version, cache_dir, local_dir, local_dir_use_symlinks, user_agent, force_download, force_filename, proxies, etag_timeout, resume_download, token, local_files_only, legacy_cache_layout)\u001b[0m\n\u001b[0;32m   1427\u001b[0m                     \u001b[0m_check_disk_space\u001b[0m\u001b[1;33m(\u001b[0m\u001b[0mexpected_size\u001b[0m\u001b[1;33m,\u001b[0m \u001b[0mlocal_dir\u001b[0m\u001b[1;33m)\u001b[0m\u001b[1;33m\u001b[0m\u001b[1;33m\u001b[0m\u001b[0m\n\u001b[0;32m   1428\u001b[0m \u001b[1;33m\u001b[0m\u001b[0m\n\u001b[1;32m-> 1429\u001b[1;33m             http_get(\n\u001b[0m\u001b[0;32m   1430\u001b[0m                 \u001b[0murl_to_download\u001b[0m\u001b[1;33m,\u001b[0m\u001b[1;33m\u001b[0m\u001b[1;33m\u001b[0m\u001b[0m\n\u001b[0;32m   1431\u001b[0m                 \u001b[0mtemp_file\u001b[0m\u001b[1;33m,\u001b[0m\u001b[1;33m\u001b[0m\u001b[1;33m\u001b[0m\u001b[0m\n",
      "\u001b[1;32m~\\Anaconda3\\lib\\site-packages\\huggingface_hub\\file_download.py\u001b[0m in \u001b[0;36mhttp_get\u001b[1;34m(url, temp_file, proxies, resume_size, headers, timeout, max_retries, expected_size)\u001b[0m\n\u001b[0;32m    552\u001b[0m         \u001b[1;32mif\u001b[0m \u001b[0mchunk\u001b[0m\u001b[1;33m:\u001b[0m  \u001b[1;31m# filter out keep-alive new chunks\u001b[0m\u001b[1;33m\u001b[0m\u001b[1;33m\u001b[0m\u001b[0m\n\u001b[0;32m    553\u001b[0m             \u001b[0mprogress\u001b[0m\u001b[1;33m.\u001b[0m\u001b[0mupdate\u001b[0m\u001b[1;33m(\u001b[0m\u001b[0mlen\u001b[0m\u001b[1;33m(\u001b[0m\u001b[0mchunk\u001b[0m\u001b[1;33m)\u001b[0m\u001b[1;33m)\u001b[0m\u001b[1;33m\u001b[0m\u001b[1;33m\u001b[0m\u001b[0m\n\u001b[1;32m--> 554\u001b[1;33m             \u001b[0mtemp_file\u001b[0m\u001b[1;33m.\u001b[0m\u001b[0mwrite\u001b[0m\u001b[1;33m(\u001b[0m\u001b[0mchunk\u001b[0m\u001b[1;33m)\u001b[0m\u001b[1;33m\u001b[0m\u001b[1;33m\u001b[0m\u001b[0m\n\u001b[0m\u001b[0;32m    555\u001b[0m \u001b[1;33m\u001b[0m\u001b[0m\n\u001b[0;32m    556\u001b[0m     \u001b[1;32mif\u001b[0m \u001b[0mexpected_size\u001b[0m \u001b[1;32mis\u001b[0m \u001b[1;32mnot\u001b[0m \u001b[1;32mNone\u001b[0m \u001b[1;32mand\u001b[0m \u001b[0mexpected_size\u001b[0m \u001b[1;33m!=\u001b[0m \u001b[0mtemp_file\u001b[0m\u001b[1;33m.\u001b[0m\u001b[0mtell\u001b[0m\u001b[1;33m(\u001b[0m\u001b[1;33m)\u001b[0m\u001b[1;33m:\u001b[0m\u001b[1;33m\u001b[0m\u001b[1;33m\u001b[0m\u001b[0m\n",
      "\u001b[1;32m~\\Anaconda3\\lib\\tempfile.py\u001b[0m in \u001b[0;36mfunc_wrapper\u001b[1;34m(*args, **kwargs)\u001b[0m\n\u001b[0;32m    476\u001b[0m             \u001b[1;33m@\u001b[0m\u001b[0m_functools\u001b[0m\u001b[1;33m.\u001b[0m\u001b[0mwraps\u001b[0m\u001b[1;33m(\u001b[0m\u001b[0mfunc\u001b[0m\u001b[1;33m)\u001b[0m\u001b[1;33m\u001b[0m\u001b[1;33m\u001b[0m\u001b[0m\n\u001b[0;32m    477\u001b[0m             \u001b[1;32mdef\u001b[0m \u001b[0mfunc_wrapper\u001b[0m\u001b[1;33m(\u001b[0m\u001b[1;33m*\u001b[0m\u001b[0margs\u001b[0m\u001b[1;33m,\u001b[0m \u001b[1;33m**\u001b[0m\u001b[0mkwargs\u001b[0m\u001b[1;33m)\u001b[0m\u001b[1;33m:\u001b[0m\u001b[1;33m\u001b[0m\u001b[1;33m\u001b[0m\u001b[0m\n\u001b[1;32m--> 478\u001b[1;33m                 \u001b[1;32mreturn\u001b[0m \u001b[0mfunc\u001b[0m\u001b[1;33m(\u001b[0m\u001b[1;33m*\u001b[0m\u001b[0margs\u001b[0m\u001b[1;33m,\u001b[0m \u001b[1;33m**\u001b[0m\u001b[0mkwargs\u001b[0m\u001b[1;33m)\u001b[0m\u001b[1;33m\u001b[0m\u001b[1;33m\u001b[0m\u001b[0m\n\u001b[0m\u001b[0;32m    479\u001b[0m             \u001b[1;31m# Avoid closing the file as long as the wrapper is alive,\u001b[0m\u001b[1;33m\u001b[0m\u001b[1;33m\u001b[0m\u001b[0m\n\u001b[0;32m    480\u001b[0m             \u001b[1;31m# see issue #18879.\u001b[0m\u001b[1;33m\u001b[0m\u001b[1;33m\u001b[0m\u001b[0m\n",
      "\u001b[1;31mOSError\u001b[0m: [Errno 28] No space left on device"
     ]
    }
   ],
   "source": [
    "pretrained_name2 = \"bert-base-cased\"  # e.g. \"bert-base-cased\" or \"distilbert-base-uncased\"\n",
    "\n",
    "tokenizer = AutoTokenizer.from_pretrained(pretrained_name2)\n",
    "model = TFAutoModelForSequenceClassification.from_pretrained(\n",
    "    pretrained_name2, num_labels=n_classes)  #?"
   ]
  },
  {
   "cell_type": "code",
   "execution_count": null,
   "id": "49dc6d7f",
   "metadata": {
    "ExecuteTime": {
     "end_time": "2023-09-25T17:33:28.372646Z",
     "start_time": "2023-09-25T17:33:28.372646Z"
    }
   },
   "outputs": [],
   "source": [
    "model.summary()"
   ]
  },
  {
   "cell_type": "code",
   "execution_count": null,
   "id": "b6778657",
   "metadata": {
    "ExecuteTime": {
     "end_time": "2023-09-25T17:33:28.391597Z",
     "start_time": "2023-09-25T17:33:28.391597Z"
    }
   },
   "outputs": [],
   "source": [
    "X_train_tok = dict(tokenizer(X_train.tolist(), padding=True, truncation=True, return_tensors=\"tf\"))\n",
    "X_valid_tok = dict(tokenizer(X_valid.tolist(), padding=True, truncation=True, return_tensors=\"tf\"))"
   ]
  },
  {
   "cell_type": "code",
   "execution_count": null,
   "id": "af4cd4cd",
   "metadata": {
    "ExecuteTime": {
     "end_time": "2023-09-25T17:33:28.416079Z",
     "start_time": "2023-09-25T17:33:28.416079Z"
    }
   },
   "outputs": [],
   "source": [
    "model.compile(optimizer=optimizers.Adam(learning_rate=3e-5),\n",
    "              loss=losses.SparseCategoricalCrossentropy(from_logits=True),\n",
    "              metrics=['accuracy'])"
   ]
  },
  {
   "cell_type": "code",
   "execution_count": null,
   "id": "93599ca2",
   "metadata": {
    "ExecuteTime": {
     "end_time": "2023-09-23T14:15:41.311086Z",
     "start_time": "2023-09-23T14:15:41.311086Z"
    }
   },
   "outputs": [],
   "source": [
    "# The fit is very long without a GPU or a cloud service\n",
    "epochs = 5\n",
    "history_ft = model.fit(X_train_tok, y_train, validation_data=(X_valid_tok, y_valid),\n",
    "                       batch_size=16, epochs=epochs)"
   ]
  },
  {
   "cell_type": "code",
   "execution_count": null,
   "id": "328c18cd",
   "metadata": {},
   "outputs": [],
   "source": []
  },
  {
   "cell_type": "code",
   "execution_count": null,
   "id": "d7573902",
   "metadata": {},
   "outputs": [],
   "source": []
  },
  {
   "cell_type": "code",
   "execution_count": null,
   "id": "dcbbdebb",
   "metadata": {},
   "outputs": [],
   "source": []
  },
  {
   "cell_type": "code",
   "execution_count": null,
   "id": "62f0a105",
   "metadata": {},
   "outputs": [],
   "source": []
  },
  {
   "cell_type": "code",
   "execution_count": null,
   "id": "0b2965b9",
   "metadata": {},
   "outputs": [],
   "source": []
  },
  {
   "cell_type": "code",
   "execution_count": null,
   "id": "70ee67f2",
   "metadata": {},
   "outputs": [],
   "source": []
  },
  {
   "cell_type": "code",
   "execution_count": null,
   "id": "bfaeb33c",
   "metadata": {},
   "outputs": [],
   "source": []
  },
  {
   "cell_type": "code",
   "execution_count": null,
   "id": "eaca3d4d",
   "metadata": {},
   "outputs": [],
   "source": []
  },
  {
   "cell_type": "code",
   "execution_count": null,
   "id": "b17f8bd4",
   "metadata": {},
   "outputs": [],
   "source": []
  },
  {
   "cell_type": "code",
   "execution_count": null,
   "id": "8e9a5f92",
   "metadata": {},
   "outputs": [],
   "source": []
  },
  {
   "cell_type": "code",
   "execution_count": null,
   "id": "74af4fe2",
   "metadata": {},
   "outputs": [],
   "source": []
  },
  {
   "cell_type": "code",
   "execution_count": null,
   "id": "7afbd2f5",
   "metadata": {},
   "outputs": [],
   "source": []
  },
  {
   "cell_type": "code",
   "execution_count": null,
   "id": "84b064c8",
   "metadata": {},
   "outputs": [],
   "source": []
  },
  {
   "cell_type": "code",
   "execution_count": null,
   "id": "0ec54d3c",
   "metadata": {},
   "outputs": [],
   "source": []
  },
  {
   "cell_type": "code",
   "execution_count": null,
   "id": "5923ad8c",
   "metadata": {},
   "outputs": [],
   "source": []
  },
  {
   "cell_type": "code",
   "execution_count": null,
   "id": "751a8ba2",
   "metadata": {},
   "outputs": [],
   "source": []
  },
  {
   "cell_type": "code",
   "execution_count": null,
   "id": "a8ace3f0",
   "metadata": {},
   "outputs": [],
   "source": []
  },
  {
   "cell_type": "code",
   "execution_count": null,
   "id": "60699fc1",
   "metadata": {},
   "outputs": [],
   "source": []
  },
  {
   "cell_type": "code",
   "execution_count": null,
   "id": "af6a12dd",
   "metadata": {},
   "outputs": [],
   "source": []
  },
  {
   "cell_type": "code",
   "execution_count": null,
   "id": "e7c57dbb",
   "metadata": {},
   "outputs": [],
   "source": []
  },
  {
   "cell_type": "code",
   "execution_count": null,
   "id": "a28efde3",
   "metadata": {},
   "outputs": [],
   "source": []
  },
  {
   "cell_type": "code",
   "execution_count": null,
   "id": "f75681ce",
   "metadata": {},
   "outputs": [],
   "source": []
  },
  {
   "cell_type": "code",
   "execution_count": null,
   "id": "1c2d1d72",
   "metadata": {},
   "outputs": [],
   "source": []
  },
  {
   "cell_type": "code",
   "execution_count": null,
   "id": "6eefc30a",
   "metadata": {},
   "outputs": [],
   "source": []
  },
  {
   "cell_type": "code",
   "execution_count": null,
   "id": "658abbb9",
   "metadata": {},
   "outputs": [],
   "source": []
  },
  {
   "cell_type": "code",
   "execution_count": null,
   "id": "7e4f88d6",
   "metadata": {},
   "outputs": [],
   "source": []
  },
  {
   "cell_type": "code",
   "execution_count": null,
   "id": "b27f5a4c",
   "metadata": {},
   "outputs": [],
   "source": []
  },
  {
   "cell_type": "code",
   "execution_count": null,
   "id": "9fc421fc",
   "metadata": {},
   "outputs": [],
   "source": []
  },
  {
   "cell_type": "code",
   "execution_count": null,
   "id": "3300df59",
   "metadata": {},
   "outputs": [],
   "source": []
  },
  {
   "cell_type": "code",
   "execution_count": null,
   "id": "fe7ee5aa",
   "metadata": {},
   "outputs": [],
   "source": []
  },
  {
   "cell_type": "code",
   "execution_count": null,
   "id": "8d4b5146",
   "metadata": {},
   "outputs": [],
   "source": []
  },
  {
   "cell_type": "code",
   "execution_count": null,
   "id": "725d0a8b",
   "metadata": {},
   "outputs": [],
   "source": []
  },
  {
   "cell_type": "code",
   "execution_count": null,
   "id": "f72e636a",
   "metadata": {},
   "outputs": [],
   "source": []
  },
  {
   "cell_type": "code",
   "execution_count": null,
   "id": "605f2d6a",
   "metadata": {},
   "outputs": [],
   "source": []
  },
  {
   "cell_type": "code",
   "execution_count": null,
   "id": "0892fe88",
   "metadata": {},
   "outputs": [],
   "source": []
  },
  {
   "cell_type": "code",
   "execution_count": null,
   "id": "447ad57b",
   "metadata": {},
   "outputs": [],
   "source": []
  },
  {
   "cell_type": "code",
   "execution_count": null,
   "id": "758f2c36",
   "metadata": {},
   "outputs": [],
   "source": []
  },
  {
   "cell_type": "code",
   "execution_count": null,
   "id": "2dd30a55",
   "metadata": {},
   "outputs": [],
   "source": []
  },
  {
   "cell_type": "code",
   "execution_count": null,
   "id": "2fc6be6a",
   "metadata": {},
   "outputs": [],
   "source": []
  },
  {
   "cell_type": "code",
   "execution_count": null,
   "id": "09a5669e",
   "metadata": {},
   "outputs": [],
   "source": []
  },
  {
   "cell_type": "code",
   "execution_count": null,
   "id": "e43db56c",
   "metadata": {},
   "outputs": [],
   "source": []
  },
  {
   "cell_type": "code",
   "execution_count": null,
   "id": "e6f4017c",
   "metadata": {},
   "outputs": [],
   "source": []
  },
  {
   "cell_type": "code",
   "execution_count": null,
   "id": "49cb1263",
   "metadata": {},
   "outputs": [],
   "source": []
  },
  {
   "cell_type": "code",
   "execution_count": null,
   "id": "93dd2707",
   "metadata": {},
   "outputs": [],
   "source": []
  },
  {
   "cell_type": "code",
   "execution_count": null,
   "id": "34c99390",
   "metadata": {},
   "outputs": [],
   "source": []
  },
  {
   "cell_type": "code",
   "execution_count": null,
   "id": "0517d7c8",
   "metadata": {},
   "outputs": [],
   "source": []
  },
  {
   "cell_type": "code",
   "execution_count": null,
   "id": "9cf35c16",
   "metadata": {},
   "outputs": [],
   "source": []
  },
  {
   "cell_type": "code",
   "execution_count": null,
   "id": "3946c9a0",
   "metadata": {},
   "outputs": [],
   "source": []
  },
  {
   "cell_type": "code",
   "execution_count": null,
   "id": "1ce2650e",
   "metadata": {},
   "outputs": [],
   "source": []
  },
  {
   "cell_type": "code",
   "execution_count": null,
   "id": "bc5e224f",
   "metadata": {},
   "outputs": [],
   "source": []
  },
  {
   "cell_type": "code",
   "execution_count": null,
   "id": "5997df99",
   "metadata": {},
   "outputs": [],
   "source": []
  },
  {
   "cell_type": "code",
   "execution_count": null,
   "id": "7df8109b",
   "metadata": {},
   "outputs": [],
   "source": []
  },
  {
   "cell_type": "code",
   "execution_count": null,
   "id": "e60eaf81",
   "metadata": {},
   "outputs": [],
   "source": []
  },
  {
   "cell_type": "code",
   "execution_count": null,
   "id": "543d4b12",
   "metadata": {},
   "outputs": [],
   "source": []
  },
  {
   "cell_type": "code",
   "execution_count": null,
   "id": "548a86e4",
   "metadata": {},
   "outputs": [],
   "source": []
  },
  {
   "cell_type": "code",
   "execution_count": null,
   "id": "6784685e",
   "metadata": {},
   "outputs": [],
   "source": []
  },
  {
   "cell_type": "code",
   "execution_count": null,
   "id": "9b7567c7",
   "metadata": {},
   "outputs": [],
   "source": []
  },
  {
   "cell_type": "code",
   "execution_count": null,
   "id": "3e35f986",
   "metadata": {},
   "outputs": [],
   "source": []
  },
  {
   "cell_type": "code",
   "execution_count": null,
   "id": "59763673",
   "metadata": {},
   "outputs": [],
   "source": []
  },
  {
   "cell_type": "code",
   "execution_count": null,
   "id": "5804b559",
   "metadata": {},
   "outputs": [],
   "source": []
  },
  {
   "cell_type": "code",
   "execution_count": null,
   "id": "4030e74e",
   "metadata": {},
   "outputs": [],
   "source": []
  },
  {
   "cell_type": "code",
   "execution_count": null,
   "id": "68d1c16f",
   "metadata": {},
   "outputs": [],
   "source": []
  },
  {
   "cell_type": "code",
   "execution_count": null,
   "id": "26c472b8",
   "metadata": {},
   "outputs": [],
   "source": []
  },
  {
   "cell_type": "code",
   "execution_count": null,
   "id": "055d07d4",
   "metadata": {},
   "outputs": [],
   "source": []
  },
  {
   "cell_type": "code",
   "execution_count": null,
   "id": "6cc94bad",
   "metadata": {},
   "outputs": [],
   "source": []
  },
  {
   "cell_type": "code",
   "execution_count": null,
   "id": "5685209b",
   "metadata": {},
   "outputs": [],
   "source": []
  },
  {
   "cell_type": "code",
   "execution_count": null,
   "id": "7ad9dc55",
   "metadata": {},
   "outputs": [],
   "source": []
  },
  {
   "cell_type": "code",
   "execution_count": null,
   "id": "c0625195",
   "metadata": {},
   "outputs": [],
   "source": []
  },
  {
   "cell_type": "code",
   "execution_count": null,
   "id": "77bbafa2",
   "metadata": {},
   "outputs": [],
   "source": []
  },
  {
   "cell_type": "code",
   "execution_count": null,
   "id": "127f70c2",
   "metadata": {},
   "outputs": [],
   "source": []
  },
  {
   "cell_type": "code",
   "execution_count": null,
   "id": "3b9c339f",
   "metadata": {},
   "outputs": [],
   "source": []
  },
  {
   "cell_type": "code",
   "execution_count": null,
   "id": "42562016",
   "metadata": {},
   "outputs": [],
   "source": []
  },
  {
   "cell_type": "code",
   "execution_count": null,
   "id": "d1770429",
   "metadata": {},
   "outputs": [],
   "source": []
  },
  {
   "cell_type": "code",
   "execution_count": null,
   "id": "8c3943a4",
   "metadata": {},
   "outputs": [],
   "source": []
  },
  {
   "cell_type": "code",
   "execution_count": null,
   "id": "51f8f286",
   "metadata": {},
   "outputs": [],
   "source": []
  },
  {
   "cell_type": "code",
   "execution_count": null,
   "id": "1e71a0c1",
   "metadata": {},
   "outputs": [],
   "source": []
  },
  {
   "cell_type": "code",
   "execution_count": null,
   "id": "4f09c4fb",
   "metadata": {},
   "outputs": [],
   "source": []
  },
  {
   "cell_type": "code",
   "execution_count": null,
   "id": "e077712b",
   "metadata": {},
   "outputs": [],
   "source": []
  },
  {
   "cell_type": "code",
   "execution_count": null,
   "id": "ba592b0e",
   "metadata": {},
   "outputs": [],
   "source": []
  },
  {
   "cell_type": "code",
   "execution_count": null,
   "id": "df965aa4",
   "metadata": {},
   "outputs": [],
   "source": []
  },
  {
   "cell_type": "code",
   "execution_count": null,
   "id": "c417a449",
   "metadata": {},
   "outputs": [],
   "source": []
  },
  {
   "cell_type": "code",
   "execution_count": null,
   "id": "643173a6",
   "metadata": {},
   "outputs": [],
   "source": []
  },
  {
   "cell_type": "code",
   "execution_count": null,
   "id": "2a272455",
   "metadata": {},
   "outputs": [],
   "source": []
  },
  {
   "cell_type": "code",
   "execution_count": null,
   "id": "8ce9e111",
   "metadata": {},
   "outputs": [],
   "source": []
  },
  {
   "cell_type": "code",
   "execution_count": null,
   "id": "38d256b2",
   "metadata": {},
   "outputs": [],
   "source": []
  },
  {
   "cell_type": "code",
   "execution_count": null,
   "id": "254c1bec",
   "metadata": {},
   "outputs": [],
   "source": []
  },
  {
   "cell_type": "code",
   "execution_count": null,
   "id": "00f1e3c2",
   "metadata": {},
   "outputs": [],
   "source": []
  },
  {
   "cell_type": "code",
   "execution_count": null,
   "id": "5fbeba2a",
   "metadata": {},
   "outputs": [],
   "source": []
  },
  {
   "cell_type": "code",
   "execution_count": null,
   "id": "0897f014",
   "metadata": {},
   "outputs": [],
   "source": []
  },
  {
   "cell_type": "code",
   "execution_count": null,
   "id": "2469f932",
   "metadata": {},
   "outputs": [],
   "source": []
  },
  {
   "cell_type": "code",
   "execution_count": null,
   "id": "378bfbfd",
   "metadata": {},
   "outputs": [],
   "source": []
  },
  {
   "cell_type": "code",
   "execution_count": null,
   "id": "01279197",
   "metadata": {},
   "outputs": [],
   "source": []
  },
  {
   "cell_type": "code",
   "execution_count": null,
   "id": "c1d5d27b",
   "metadata": {},
   "outputs": [],
   "source": []
  },
  {
   "cell_type": "code",
   "execution_count": null,
   "id": "39075742",
   "metadata": {},
   "outputs": [],
   "source": []
  },
  {
   "cell_type": "code",
   "execution_count": null,
   "id": "114212a9",
   "metadata": {},
   "outputs": [],
   "source": []
  },
  {
   "cell_type": "code",
   "execution_count": null,
   "id": "ec8c62d7",
   "metadata": {},
   "outputs": [],
   "source": []
  },
  {
   "cell_type": "code",
   "execution_count": null,
   "id": "0a32a495",
   "metadata": {},
   "outputs": [],
   "source": []
  },
  {
   "cell_type": "code",
   "execution_count": null,
   "id": "2e9b70d4",
   "metadata": {},
   "outputs": [],
   "source": []
  },
  {
   "cell_type": "code",
   "execution_count": null,
   "id": "6bb97a8d",
   "metadata": {},
   "outputs": [],
   "source": []
  },
  {
   "cell_type": "code",
   "execution_count": null,
   "id": "7d798075",
   "metadata": {},
   "outputs": [],
   "source": []
  },
  {
   "cell_type": "code",
   "execution_count": null,
   "id": "7f1a98be",
   "metadata": {},
   "outputs": [],
   "source": []
  },
  {
   "cell_type": "code",
   "execution_count": null,
   "id": "8f349060",
   "metadata": {},
   "outputs": [],
   "source": []
  },
  {
   "cell_type": "code",
   "execution_count": null,
   "id": "c6990d74",
   "metadata": {},
   "outputs": [],
   "source": []
  },
  {
   "cell_type": "code",
   "execution_count": null,
   "id": "3c74ec09",
   "metadata": {},
   "outputs": [],
   "source": []
  },
  {
   "cell_type": "code",
   "execution_count": null,
   "id": "5298398d",
   "metadata": {},
   "outputs": [],
   "source": []
  },
  {
   "cell_type": "code",
   "execution_count": null,
   "id": "8b44b825",
   "metadata": {},
   "outputs": [],
   "source": []
  },
  {
   "cell_type": "code",
   "execution_count": null,
   "id": "ad95abb2",
   "metadata": {},
   "outputs": [],
   "source": []
  },
  {
   "cell_type": "code",
   "execution_count": null,
   "id": "1e4ddab7",
   "metadata": {},
   "outputs": [],
   "source": []
  },
  {
   "cell_type": "code",
   "execution_count": null,
   "id": "6d144470",
   "metadata": {},
   "outputs": [],
   "source": []
  },
  {
   "cell_type": "markdown",
   "id": "93bf0877",
   "metadata": {
    "ExecuteTime": {
     "end_time": "2023-09-23T01:08:45.049179Z",
     "start_time": "2023-09-23T01:08:45.038202Z"
    }
   },
   "source": [
    "# Extra Datasets"
   ]
  },
  {
   "cell_type": "code",
   "execution_count": null,
   "id": "b9b7ff4c",
   "metadata": {
    "ExecuteTime": {
     "end_time": "2023-09-23T14:15:41.314078Z",
     "start_time": "2023-09-23T14:15:41.314078Z"
    },
    "hide_input": false
   },
   "outputs": [],
   "source": [
    "# dataset = load_dataset(\"food101\") # https://huggingface.co/datasets/food101 # 5GB of data\n",
    "dataset = load_dataset('Kaludi/food-category-classification-v2.0') # 24.5min to load"
   ]
  },
  {
   "cell_type": "code",
   "execution_count": null,
   "id": "bacbdb26",
   "metadata": {
    "ExecuteTime": {
     "end_time": "2023-09-23T14:15:41.318066Z",
     "start_time": "2023-09-23T14:15:41.318066Z"
    }
   },
   "outputs": [],
   "source": [
    "dataset['train'][1]['image']"
   ]
  },
  {
   "cell_type": "code",
   "execution_count": null,
   "id": "1d30438a",
   "metadata": {
    "ExecuteTime": {
     "end_time": "2023-09-23T14:15:41.321058Z",
     "start_time": "2023-09-23T14:15:41.321058Z"
    }
   },
   "outputs": [],
   "source": [
    "dataset['train'][1]['label']"
   ]
  },
  {
   "cell_type": "code",
   "execution_count": null,
   "id": "9989e435",
   "metadata": {
    "ExecuteTime": {
     "end_time": "2023-09-23T14:15:41.324059Z",
     "start_time": "2023-09-23T14:15:41.324059Z"
    }
   },
   "outputs": [],
   "source": [
    "dataset"
   ]
  },
  {
   "cell_type": "code",
   "execution_count": null,
   "id": "46fc2944",
   "metadata": {},
   "outputs": [],
   "source": []
  },
  {
   "cell_type": "code",
   "execution_count": null,
   "id": "371e7b24",
   "metadata": {},
   "outputs": [],
   "source": []
  },
  {
   "cell_type": "code",
   "execution_count": null,
   "id": "995ee7be",
   "metadata": {},
   "outputs": [],
   "source": []
  },
  {
   "cell_type": "code",
   "execution_count": null,
   "id": "278ad223",
   "metadata": {},
   "outputs": [],
   "source": []
  }
 ],
 "metadata": {
  "kernelspec": {
   "display_name": "Python 3",
   "language": "python",
   "name": "python3"
  },
  "language_info": {
   "codemirror_mode": {
    "name": "ipython",
    "version": 3
   },
   "file_extension": ".py",
   "mimetype": "text/x-python",
   "name": "python",
   "nbconvert_exporter": "python",
   "pygments_lexer": "ipython3",
   "version": "3.9.13"
  },
  "toc": {
   "base_numbering": 1,
   "nav_menu": {
    "height": "148px",
    "width": "161px"
   },
   "number_sections": true,
   "sideBar": true,
   "skip_h1_title": false,
   "title_cell": "Table of Contents",
   "title_sidebar": "Contents",
   "toc_cell": false,
   "toc_position": {
    "height": "752px",
    "left": "22px",
    "top": "111.125px",
    "width": "235.594px"
   },
   "toc_section_display": true,
   "toc_window_display": true
  },
  "varInspector": {
   "cols": {
    "lenName": 16,
    "lenType": 16,
    "lenVar": 40
   },
   "kernels_config": {
    "python": {
     "delete_cmd_postfix": "",
     "delete_cmd_prefix": "del ",
     "library": "var_list.py",
     "varRefreshCmd": "print(var_dic_list())"
    },
    "r": {
     "delete_cmd_postfix": ") ",
     "delete_cmd_prefix": "rm(",
     "library": "var_list.r",
     "varRefreshCmd": "cat(var_dic_list()) "
    }
   },
   "oldHeight": 218.844,
   "position": {
    "height": "261.844px",
    "left": "553px",
    "right": "20px",
    "top": "273px",
    "width": "800px"
   },
   "types_to_exclude": [
    "module",
    "function",
    "builtin_function_or_method",
    "instance",
    "_Feature"
   ],
   "varInspector_section_display": "block",
   "window_display": false
  }
 },
 "nbformat": 4,
 "nbformat_minor": 5
}
