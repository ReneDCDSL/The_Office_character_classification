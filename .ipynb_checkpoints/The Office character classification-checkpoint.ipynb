{
 "cells": [
  {
   "cell_type": "markdown",
   "id": "5dd6093f",
   "metadata": {
    "ExecuteTime": {
     "end_time": "2023-10-04T10:37:09.629652Z",
     "start_time": "2023-10-04T10:37:09.616662Z"
    }
   },
   "source": [
    "# The Office Character Recognition"
   ]
  },
  {
   "cell_type": "markdown",
   "id": "a5c9b7b7",
   "metadata": {},
   "source": [
    "Here is an attempt at creating a model that tries to recognize the characters from the famous 'The Office' show from their quotes. I am training this model on a dataset containing all the quotes from the show (minus 20% for testing). I then compare various ML and DL models accuracy."
   ]
  },
  {
   "cell_type": "markdown",
   "id": "f18c5463",
   "metadata": {},
   "source": [
    "## Initialization"
   ]
  },
  {
   "cell_type": "markdown",
   "id": "e989224d",
   "metadata": {},
   "source": [
    "### Imports"
   ]
  },
  {
   "cell_type": "code",
   "execution_count": 14,
   "id": "f99f3c33",
   "metadata": {
    "ExecuteTime": {
     "end_time": "2023-10-04T11:03:27.704169Z",
     "start_time": "2023-10-04T11:03:27.605426Z"
    }
   },
   "outputs": [],
   "source": [
    "# Basic tools\n",
    "import re\n",
    "import nltk\n",
    "import string\n",
    "import datasets\n",
    "import numpy as np\n",
    "import pandas as pd\n",
    "import matplotlib.pyplot as plt\n",
    "from datasets import load_dataset\n",
    "pd.options.mode.chained_assignment = None  # default='warn'\n",
    "\n",
    "# Text normalization\n",
    "from pycontractions import Contractions\n",
    "from text_normalizer import TextNormalizer\n",
    "cont = Contractions(api_key=\"glove-twitter-25\")  # 'glove-twitter-100'\n",
    "\n",
    "# Machine Learning\n",
    "### Models\n",
    "from sklearn.naive_bayes import MultinomialNB\n",
    "from sklearn.tree import DecisionTreeClassifier\n",
    "from sklearn.linear_model import LogisticRegression, SGDClassifier\n",
    "from sklearn.ensemble import RandomForestClassifier, ExtraTreesClassifier\n",
    "### Tools\n",
    "from sklearn.pipeline import Pipeline\n",
    "from sklearn.model_selection import train_test_split, cross_val_score\n",
    "from sklearn.metrics import accuracy_score, confusion_matrix, classification_report\n",
    "from sklearn.feature_extraction.text import TfidfTransformer, CountVectorizer, TfidfVectorizer\n",
    "\n",
    "# Deep Learning\n",
    "import torch\n",
    "import tensorflow as tf\n",
    "from tensorflow import keras\n",
    "from tensorflow.keras import Sequential\n",
    "from tensorflow.keras import layers, losses, optimizers\n",
    "\n",
    "# Transformer\n",
    "from transformers import AutoFeatureExtractor, AutoTokenizer\n",
    "from transformers import TFAutoModelForImageClassification, TFAutoModelForSequenceClassification"
   ]
  },
  {
   "cell_type": "markdown",
   "id": "765aff89",
   "metadata": {},
   "source": [
    "### Functions"
   ]
  },
  {
   "cell_type": "markdown",
   "id": "616038e1",
   "metadata": {},
   "source": [
    "These functions will be helpful in formatting class prediction and showing the evolution of accuracy over DL models."
   ]
  },
  {
   "cell_type": "code",
   "execution_count": 3,
   "id": "2a56d8d2",
   "metadata": {
    "ExecuteTime": {
     "end_time": "2023-10-04T10:42:37.397557Z",
     "start_time": "2023-10-04T10:42:37.387620Z"
    },
    "code_folding": [
     0,
     5
    ]
   },
   "outputs": [],
   "source": [
    "def predict_class(tf_model, data, class_names):\n",
    "    \"\"\"Returns the string model predictions (class name of the largest network output activation).\"\"\"\n",
    "    \n",
    "    return np.array(class_names)[tf_model.predict(data).argmax(axis=1)]\n",
    "\n",
    "def plot_training(history_dict):\n",
    "    acc = history_dict['accuracy']\n",
    "    val_acc = history_dict['val_accuracy']\n",
    "    loss = history_dict['loss']\n",
    "    val_loss = history_dict['val_loss']\n",
    "    \n",
    "    epochs = range(1, len(loss) + 1)\n",
    "    \n",
    "    plt.figure(figsize=(10, 4))\n",
    "    plt.subplot(1, 2, 1)\n",
    "    plt.plot(epochs, loss, 'b--', label='Training')\n",
    "    plt.plot(epochs, val_loss, 'r-', label='Validation')\n",
    "    plt.xlabel('Epochs')\n",
    "    plt.ylabel('Cross-Entropy Loss')\n",
    "    plt.legend()\n",
    "    \n",
    "    plt.subplot(1, 2, 2)\n",
    "    plt.plot(epochs, acc, 'b--', label='Training')\n",
    "    plt.plot(epochs, val_acc, 'r-', label='Validation')\n",
    "    plt.xlabel('Epochs')\n",
    "    plt.ylabel('Accuracy')\n",
    "    plt.legend(loc='lower right')\n",
    "    \n",
    "    plt.show()"
   ]
  },
  {
   "cell_type": "markdown",
   "id": "01290c65",
   "metadata": {},
   "source": [
    "### Data Import"
   ]
  },
  {
   "cell_type": "code",
   "execution_count": 4,
   "id": "dea2ba43",
   "metadata": {
    "ExecuteTime": {
     "end_time": "2023-10-04T10:44:18.377674Z",
     "start_time": "2023-10-04T10:44:18.280965Z"
    }
   },
   "outputs": [],
   "source": [
    "TheOffice = pd.read_csv('./data/The-Office-Lines-V4.csv', usecols=['season', 'episode', 'title', 'scene', 'speaker', 'line'])"
   ]
  },
  {
   "cell_type": "markdown",
   "id": "7ebaf0ac",
   "metadata": {},
   "source": [
    "## Data Preprocessing"
   ]
  },
  {
   "cell_type": "markdown",
   "id": "a43eebcd",
   "metadata": {},
   "source": [
    "### Observation"
   ]
  },
  {
   "cell_type": "markdown",
   "id": "cb6d1bbc",
   "metadata": {},
   "source": [
    "Here's the first few lines of the table:"
   ]
  },
  {
   "cell_type": "code",
   "execution_count": 5,
   "id": "8e7b8a4b",
   "metadata": {
    "ExecuteTime": {
     "end_time": "2023-10-04T10:44:27.609830Z",
     "start_time": "2023-10-04T10:44:27.577897Z"
    }
   },
   "outputs": [
    {
     "data": {
      "text/html": [
       "<div>\n",
       "<style scoped>\n",
       "    .dataframe tbody tr th:only-of-type {\n",
       "        vertical-align: middle;\n",
       "    }\n",
       "\n",
       "    .dataframe tbody tr th {\n",
       "        vertical-align: top;\n",
       "    }\n",
       "\n",
       "    .dataframe thead th {\n",
       "        text-align: right;\n",
       "    }\n",
       "</style>\n",
       "<table border=\"1\" class=\"dataframe\">\n",
       "  <thead>\n",
       "    <tr style=\"text-align: right;\">\n",
       "      <th></th>\n",
       "      <th>season</th>\n",
       "      <th>episode</th>\n",
       "      <th>title</th>\n",
       "      <th>scene</th>\n",
       "      <th>speaker</th>\n",
       "      <th>line</th>\n",
       "    </tr>\n",
       "  </thead>\n",
       "  <tbody>\n",
       "    <tr>\n",
       "      <th>0</th>\n",
       "      <td>1</td>\n",
       "      <td>1</td>\n",
       "      <td>Pilot</td>\n",
       "      <td>1</td>\n",
       "      <td>Michael</td>\n",
       "      <td>All right Jim. Your quarterlies look very good...</td>\n",
       "    </tr>\n",
       "    <tr>\n",
       "      <th>1</th>\n",
       "      <td>1</td>\n",
       "      <td>1</td>\n",
       "      <td>Pilot</td>\n",
       "      <td>1</td>\n",
       "      <td>Jim</td>\n",
       "      <td>Oh, I told you. I couldn't close it. So...</td>\n",
       "    </tr>\n",
       "    <tr>\n",
       "      <th>2</th>\n",
       "      <td>1</td>\n",
       "      <td>1</td>\n",
       "      <td>Pilot</td>\n",
       "      <td>1</td>\n",
       "      <td>Michael</td>\n",
       "      <td>So you've come to the master for guidance? Is ...</td>\n",
       "    </tr>\n",
       "    <tr>\n",
       "      <th>3</th>\n",
       "      <td>1</td>\n",
       "      <td>1</td>\n",
       "      <td>Pilot</td>\n",
       "      <td>1</td>\n",
       "      <td>Jim</td>\n",
       "      <td>Actually, you called me in here, but yeah.</td>\n",
       "    </tr>\n",
       "    <tr>\n",
       "      <th>4</th>\n",
       "      <td>1</td>\n",
       "      <td>1</td>\n",
       "      <td>Pilot</td>\n",
       "      <td>1</td>\n",
       "      <td>Michael</td>\n",
       "      <td>All right. Well, let me show you how it's done.</td>\n",
       "    </tr>\n",
       "  </tbody>\n",
       "</table>\n",
       "</div>"
      ],
      "text/plain": [
       "   season  episode  title  scene  speaker  \\\n",
       "0       1        1  Pilot      1  Michael   \n",
       "1       1        1  Pilot      1      Jim   \n",
       "2       1        1  Pilot      1  Michael   \n",
       "3       1        1  Pilot      1      Jim   \n",
       "4       1        1  Pilot      1  Michael   \n",
       "\n",
       "                                                line  \n",
       "0  All right Jim. Your quarterlies look very good...  \n",
       "1         Oh, I told you. I couldn't close it. So...  \n",
       "2  So you've come to the master for guidance? Is ...  \n",
       "3         Actually, you called me in here, but yeah.  \n",
       "4    All right. Well, let me show you how it's done.  "
      ]
     },
     "execution_count": 5,
     "metadata": {},
     "output_type": "execute_result"
    }
   ],
   "source": [
    "TheOffice.head(5)"
   ]
  },
  {
   "cell_type": "markdown",
   "id": "b0118603",
   "metadata": {},
   "source": [
    "The number of quotes from the top 20 talkative characters:"
   ]
  },
  {
   "cell_type": "code",
   "execution_count": 6,
   "id": "3b989450",
   "metadata": {
    "ExecuteTime": {
     "end_time": "2023-10-04T10:45:58.981912Z",
     "start_time": "2023-10-04T10:45:58.965146Z"
    }
   },
   "outputs": [
    {
     "data": {
      "text/plain": [
       "Michael     10773\n",
       "Dwight       6752\n",
       "Jim          6222\n",
       "Pam          4973\n",
       "Andy         3698\n",
       "Kevin        1535\n",
       "Angela       1534\n",
       "Erin         1413\n",
       "Oscar        1336\n",
       "Ryan         1182\n",
       "Darryl       1160\n",
       "Phyllis       962\n",
       "Kelly         822\n",
       "Toby          814\n",
       "Jan           805\n",
       "Stanley       671\n",
       "Meredith      556\n",
       "Holly         555\n",
       "Nellie        527\n",
       "Gabe          426\n",
       "Name: speaker, dtype: int64"
      ]
     },
     "execution_count": 6,
     "metadata": {},
     "output_type": "execute_result"
    }
   ],
   "source": [
    "TheOffice.speaker.value_counts()[0:20]"
   ]
  },
  {
   "cell_type": "code",
   "execution_count": 7,
   "id": "a058011c",
   "metadata": {
    "ExecuteTime": {
     "end_time": "2023-10-04T10:46:33.548358Z",
     "start_time": "2023-10-04T10:46:33.513288Z"
    }
   },
   "outputs": [
    {
     "name": "stdout",
     "output_type": "stream",
     "text": [
      "Main Characters:  ['Michael', 'Dwight', 'Jim', 'Pam', 'Andy', 'Kevin', 'Angela', 'Erin', 'Oscar', 'Ryan']\n",
      "\n",
      "Total quotes:                 54626\n",
      "Quotes from main characters:  39418\n"
     ]
    }
   ],
   "source": [
    "n_classes = 10\n",
    "main_characters = TheOffice['speaker'].value_counts(dropna=False)[:n_classes].index.to_list()\n",
    "print('Main Characters: ', main_characters)\n",
    "TheOffice_main = TheOffice.query(\"`speaker` in @main_characters\")\n",
    "print()\n",
    "print('Total quotes:                ', len(TheOffice))\n",
    "print('Quotes from main characters: ', len(TheOffice_main))"
   ]
  },
  {
   "cell_type": "markdown",
   "id": "b123ff22",
   "metadata": {},
   "source": [
    "### Feature engineering"
   ]
  },
  {
   "cell_type": "markdown",
   "id": "a419ede2",
   "metadata": {},
   "source": [
    "**Removing punctuation and lowering the text**"
   ]
  },
  {
   "cell_type": "code",
   "execution_count": 12,
   "id": "8e89ad8e",
   "metadata": {
    "ExecuteTime": {
     "end_time": "2023-10-04T10:49:57.443317Z",
     "start_time": "2023-10-04T10:49:57.353547Z"
    },
    "scrolled": false
   },
   "outputs": [
    {
     "data": {
      "text/html": [
       "<div>\n",
       "<style scoped>\n",
       "    .dataframe tbody tr th:only-of-type {\n",
       "        vertical-align: middle;\n",
       "    }\n",
       "\n",
       "    .dataframe tbody tr th {\n",
       "        vertical-align: top;\n",
       "    }\n",
       "\n",
       "    .dataframe thead th {\n",
       "        text-align: right;\n",
       "    }\n",
       "</style>\n",
       "<table border=\"1\" class=\"dataframe\">\n",
       "  <thead>\n",
       "    <tr style=\"text-align: right;\">\n",
       "      <th></th>\n",
       "      <th>season</th>\n",
       "      <th>episode</th>\n",
       "      <th>title</th>\n",
       "      <th>scene</th>\n",
       "      <th>speaker</th>\n",
       "      <th>line</th>\n",
       "      <th>norm_line</th>\n",
       "    </tr>\n",
       "  </thead>\n",
       "  <tbody>\n",
       "    <tr>\n",
       "      <th>0</th>\n",
       "      <td>1</td>\n",
       "      <td>1</td>\n",
       "      <td>Pilot</td>\n",
       "      <td>1</td>\n",
       "      <td>Michael</td>\n",
       "      <td>All right Jim. Your quarterlies look very good...</td>\n",
       "      <td>all right jim your quarterlies look very good ...</td>\n",
       "    </tr>\n",
       "    <tr>\n",
       "      <th>1</th>\n",
       "      <td>1</td>\n",
       "      <td>1</td>\n",
       "      <td>Pilot</td>\n",
       "      <td>1</td>\n",
       "      <td>Jim</td>\n",
       "      <td>Oh, I told you. I couldn't close it. So...</td>\n",
       "      <td>oh i told you i couldnt close it so</td>\n",
       "    </tr>\n",
       "    <tr>\n",
       "      <th>2</th>\n",
       "      <td>1</td>\n",
       "      <td>1</td>\n",
       "      <td>Pilot</td>\n",
       "      <td>1</td>\n",
       "      <td>Michael</td>\n",
       "      <td>So you've come to the master for guidance? Is ...</td>\n",
       "      <td>so youve come to the master for guidance is th...</td>\n",
       "    </tr>\n",
       "    <tr>\n",
       "      <th>3</th>\n",
       "      <td>1</td>\n",
       "      <td>1</td>\n",
       "      <td>Pilot</td>\n",
       "      <td>1</td>\n",
       "      <td>Jim</td>\n",
       "      <td>Actually, you called me in here, but yeah.</td>\n",
       "      <td>actually you called me in here but yeah</td>\n",
       "    </tr>\n",
       "    <tr>\n",
       "      <th>4</th>\n",
       "      <td>1</td>\n",
       "      <td>1</td>\n",
       "      <td>Pilot</td>\n",
       "      <td>1</td>\n",
       "      <td>Michael</td>\n",
       "      <td>All right. Well, let me show you how it's done.</td>\n",
       "      <td>all right well let me show you how its done</td>\n",
       "    </tr>\n",
       "    <tr>\n",
       "      <th>...</th>\n",
       "      <td>...</td>\n",
       "      <td>...</td>\n",
       "      <td>...</td>\n",
       "      <td>...</td>\n",
       "      <td>...</td>\n",
       "      <td>...</td>\n",
       "      <td>...</td>\n",
       "    </tr>\n",
       "    <tr>\n",
       "      <th>54616</th>\n",
       "      <td>9</td>\n",
       "      <td>24</td>\n",
       "      <td>Finale</td>\n",
       "      <td>8149</td>\n",
       "      <td>Kevin</td>\n",
       "      <td>No, but maybe the reason...</td>\n",
       "      <td>no but maybe the reason</td>\n",
       "    </tr>\n",
       "    <tr>\n",
       "      <th>54617</th>\n",
       "      <td>9</td>\n",
       "      <td>24</td>\n",
       "      <td>Finale</td>\n",
       "      <td>8149</td>\n",
       "      <td>Oscar</td>\n",
       "      <td>You're not gay.</td>\n",
       "      <td>youre not gay</td>\n",
       "    </tr>\n",
       "    <tr>\n",
       "      <th>54619</th>\n",
       "      <td>9</td>\n",
       "      <td>24</td>\n",
       "      <td>Finale</td>\n",
       "      <td>8151</td>\n",
       "      <td>Erin</td>\n",
       "      <td>How did you do it? How did you capture what it...</td>\n",
       "      <td>how did you do it how did you capture what it ...</td>\n",
       "    </tr>\n",
       "    <tr>\n",
       "      <th>54624</th>\n",
       "      <td>9</td>\n",
       "      <td>24</td>\n",
       "      <td>Finale</td>\n",
       "      <td>8156</td>\n",
       "      <td>Jim</td>\n",
       "      <td>I sold paper at this company for 12 years. My ...</td>\n",
       "      <td>i sold paper at this company for 12 years my j...</td>\n",
       "    </tr>\n",
       "    <tr>\n",
       "      <th>54625</th>\n",
       "      <td>9</td>\n",
       "      <td>24</td>\n",
       "      <td>Finale</td>\n",
       "      <td>8157</td>\n",
       "      <td>Pam</td>\n",
       "      <td>I thought it was weird when you picked us to m...</td>\n",
       "      <td>i thought it was weird when you picked us to m...</td>\n",
       "    </tr>\n",
       "  </tbody>\n",
       "</table>\n",
       "<p>39418 rows × 7 columns</p>\n",
       "</div>"
      ],
      "text/plain": [
       "       season  episode   title  scene  speaker  \\\n",
       "0           1        1   Pilot      1  Michael   \n",
       "1           1        1   Pilot      1      Jim   \n",
       "2           1        1   Pilot      1  Michael   \n",
       "3           1        1   Pilot      1      Jim   \n",
       "4           1        1   Pilot      1  Michael   \n",
       "...       ...      ...     ...    ...      ...   \n",
       "54616       9       24  Finale   8149    Kevin   \n",
       "54617       9       24  Finale   8149    Oscar   \n",
       "54619       9       24  Finale   8151     Erin   \n",
       "54624       9       24  Finale   8156      Jim   \n",
       "54625       9       24  Finale   8157      Pam   \n",
       "\n",
       "                                                    line  \\\n",
       "0      All right Jim. Your quarterlies look very good...   \n",
       "1             Oh, I told you. I couldn't close it. So...   \n",
       "2      So you've come to the master for guidance? Is ...   \n",
       "3             Actually, you called me in here, but yeah.   \n",
       "4        All right. Well, let me show you how it's done.   \n",
       "...                                                  ...   \n",
       "54616                        No, but maybe the reason...   \n",
       "54617                                    You're not gay.   \n",
       "54619  How did you do it? How did you capture what it...   \n",
       "54624  I sold paper at this company for 12 years. My ...   \n",
       "54625  I thought it was weird when you picked us to m...   \n",
       "\n",
       "                                               norm_line  \n",
       "0      all right jim your quarterlies look very good ...  \n",
       "1                    oh i told you i couldnt close it so  \n",
       "2      so youve come to the master for guidance is th...  \n",
       "3                actually you called me in here but yeah  \n",
       "4            all right well let me show you how its done  \n",
       "...                                                  ...  \n",
       "54616                            no but maybe the reason  \n",
       "54617                                      youre not gay  \n",
       "54619  how did you do it how did you capture what it ...  \n",
       "54624  i sold paper at this company for 12 years my j...  \n",
       "54625  i thought it was weird when you picked us to m...  \n",
       "\n",
       "[39418 rows x 7 columns]"
      ]
     },
     "execution_count": 12,
     "metadata": {},
     "output_type": "execute_result"
    }
   ],
   "source": [
    "punctuation_table = str.maketrans('','',string.punctuation)\n",
    "TheOffice_main['norm_line'] = TheOffice_main['line'].apply(lambda x: x.translate(punctuation_table))\n",
    "TheOffice_main['norm_line'] = TheOffice_main['norm_line'].apply(lambda x: x.lower())\n",
    "TheOffice_main"
   ]
  },
  {
   "cell_type": "markdown",
   "id": "0faa5c00",
   "metadata": {},
   "source": [
    "**2nd method of normalization by stemming, lowering and removing punctuation**"
   ]
  },
  {
   "cell_type": "code",
   "execution_count": 13,
   "id": "59566edd",
   "metadata": {
    "ExecuteTime": {
     "end_time": "2023-10-04T11:00:27.315188Z",
     "start_time": "2023-10-04T10:51:38.678490Z"
    }
   },
   "outputs": [
    {
     "data": {
      "text/html": [
       "<div>\n",
       "<style scoped>\n",
       "    .dataframe tbody tr th:only-of-type {\n",
       "        vertical-align: middle;\n",
       "    }\n",
       "\n",
       "    .dataframe tbody tr th {\n",
       "        vertical-align: top;\n",
       "    }\n",
       "\n",
       "    .dataframe thead th {\n",
       "        text-align: right;\n",
       "    }\n",
       "</style>\n",
       "<table border=\"1\" class=\"dataframe\">\n",
       "  <thead>\n",
       "    <tr style=\"text-align: right;\">\n",
       "      <th></th>\n",
       "      <th>season</th>\n",
       "      <th>episode</th>\n",
       "      <th>title</th>\n",
       "      <th>scene</th>\n",
       "      <th>speaker</th>\n",
       "      <th>line</th>\n",
       "      <th>norm_line</th>\n",
       "    </tr>\n",
       "  </thead>\n",
       "  <tbody>\n",
       "    <tr>\n",
       "      <th>0</th>\n",
       "      <td>1</td>\n",
       "      <td>1</td>\n",
       "      <td>Pilot</td>\n",
       "      <td>1</td>\n",
       "      <td>Michael</td>\n",
       "      <td>All right Jim. Your quarterlies look very good...</td>\n",
       "      <td>right jim quarterly look good thing library</td>\n",
       "    </tr>\n",
       "    <tr>\n",
       "      <th>1</th>\n",
       "      <td>1</td>\n",
       "      <td>1</td>\n",
       "      <td>Pilot</td>\n",
       "      <td>1</td>\n",
       "      <td>Jim</td>\n",
       "      <td>Oh, I told you. I couldn't close it. So...</td>\n",
       "      <td>oh told could close</td>\n",
       "    </tr>\n",
       "    <tr>\n",
       "      <th>2</th>\n",
       "      <td>1</td>\n",
       "      <td>1</td>\n",
       "      <td>Pilot</td>\n",
       "      <td>1</td>\n",
       "      <td>Michael</td>\n",
       "      <td>So you've come to the master for guidance? Is ...</td>\n",
       "      <td>come master guidance saying grasshopper</td>\n",
       "    </tr>\n",
       "    <tr>\n",
       "      <th>3</th>\n",
       "      <td>1</td>\n",
       "      <td>1</td>\n",
       "      <td>Pilot</td>\n",
       "      <td>1</td>\n",
       "      <td>Jim</td>\n",
       "      <td>Actually, you called me in here, but yeah.</td>\n",
       "      <td>actually called yeah</td>\n",
       "    </tr>\n",
       "    <tr>\n",
       "      <th>4</th>\n",
       "      <td>1</td>\n",
       "      <td>1</td>\n",
       "      <td>Pilot</td>\n",
       "      <td>1</td>\n",
       "      <td>Michael</td>\n",
       "      <td>All right. Well, let me show you how it's done.</td>\n",
       "      <td>right well let show done</td>\n",
       "    </tr>\n",
       "    <tr>\n",
       "      <th>...</th>\n",
       "      <td>...</td>\n",
       "      <td>...</td>\n",
       "      <td>...</td>\n",
       "      <td>...</td>\n",
       "      <td>...</td>\n",
       "      <td>...</td>\n",
       "      <td>...</td>\n",
       "    </tr>\n",
       "    <tr>\n",
       "      <th>54621</th>\n",
       "      <td>9</td>\n",
       "      <td>24</td>\n",
       "      <td>Finale</td>\n",
       "      <td>8153</td>\n",
       "      <td>Creed</td>\n",
       "      <td>It all seems so very arbitrary. I applied for ...</td>\n",
       "      <td>seems arbitrary applied job company hiring too...</td>\n",
       "    </tr>\n",
       "    <tr>\n",
       "      <th>54622</th>\n",
       "      <td>9</td>\n",
       "      <td>24</td>\n",
       "      <td>Finale</td>\n",
       "      <td>8154</td>\n",
       "      <td>Meredith</td>\n",
       "      <td>I just feel lucky that I got a chance to share...</td>\n",
       "      <td>feel lucky got chance share crummy story anyon...</td>\n",
       "    </tr>\n",
       "    <tr>\n",
       "      <th>54623</th>\n",
       "      <td>9</td>\n",
       "      <td>24</td>\n",
       "      <td>Finale</td>\n",
       "      <td>8155</td>\n",
       "      <td>Phyllis</td>\n",
       "      <td>I'm happy that this was all filmed so I can re...</td>\n",
       "      <td>I happy filmed remember everyone worked paper ...</td>\n",
       "    </tr>\n",
       "    <tr>\n",
       "      <th>54624</th>\n",
       "      <td>9</td>\n",
       "      <td>24</td>\n",
       "      <td>Finale</td>\n",
       "      <td>8156</td>\n",
       "      <td>Jim</td>\n",
       "      <td>I sold paper at this company for 12 years. My ...</td>\n",
       "      <td>sold paper company 12 year job speak client ph...</td>\n",
       "    </tr>\n",
       "    <tr>\n",
       "      <th>54625</th>\n",
       "      <td>9</td>\n",
       "      <td>24</td>\n",
       "      <td>Finale</td>\n",
       "      <td>8157</td>\n",
       "      <td>Pam</td>\n",
       "      <td>I thought it was weird when you picked us to m...</td>\n",
       "      <td>thought weird picked u make documentary alli t...</td>\n",
       "    </tr>\n",
       "  </tbody>\n",
       "</table>\n",
       "<p>54626 rows × 7 columns</p>\n",
       "</div>"
      ],
      "text/plain": [
       "       season  episode   title  scene   speaker  \\\n",
       "0           1        1   Pilot      1   Michael   \n",
       "1           1        1   Pilot      1       Jim   \n",
       "2           1        1   Pilot      1   Michael   \n",
       "3           1        1   Pilot      1       Jim   \n",
       "4           1        1   Pilot      1   Michael   \n",
       "...       ...      ...     ...    ...       ...   \n",
       "54621       9       24  Finale   8153     Creed   \n",
       "54622       9       24  Finale   8154  Meredith   \n",
       "54623       9       24  Finale   8155   Phyllis   \n",
       "54624       9       24  Finale   8156       Jim   \n",
       "54625       9       24  Finale   8157       Pam   \n",
       "\n",
       "                                                    line  \\\n",
       "0      All right Jim. Your quarterlies look very good...   \n",
       "1             Oh, I told you. I couldn't close it. So...   \n",
       "2      So you've come to the master for guidance? Is ...   \n",
       "3             Actually, you called me in here, but yeah.   \n",
       "4        All right. Well, let me show you how it's done.   \n",
       "...                                                  ...   \n",
       "54621  It all seems so very arbitrary. I applied for ...   \n",
       "54622  I just feel lucky that I got a chance to share...   \n",
       "54623  I'm happy that this was all filmed so I can re...   \n",
       "54624  I sold paper at this company for 12 years. My ...   \n",
       "54625  I thought it was weird when you picked us to m...   \n",
       "\n",
       "                                               norm_line  \n",
       "0            right jim quarterly look good thing library  \n",
       "1                                   oh told could close   \n",
       "2                come master guidance saying grasshopper  \n",
       "3                                   actually called yeah  \n",
       "4                               right well let show done  \n",
       "...                                                  ...  \n",
       "54621  seems arbitrary applied job company hiring too...  \n",
       "54622  feel lucky got chance share crummy story anyon...  \n",
       "54623  I happy filmed remember everyone worked paper ...  \n",
       "54624  sold paper company 12 year job speak client ph...  \n",
       "54625  thought weird picked u make documentary alli t...  \n",
       "\n",
       "[54626 rows x 7 columns]"
      ]
     },
     "execution_count": 13,
     "metadata": {},
     "output_type": "execute_result"
    }
   ],
   "source": [
    "TheOffice2 = TheOffice.copy()\n",
    "punctuation_table = str.maketrans('','',string.punctuation)\n",
    "TheOffice2['norm_line'] = TheOffice2['line'].apply(lambda x: TextNormalizer().normalize_text(text=x, cont=cont)) # 9min to run\n",
    "TheOffice2['norm_line'] = [' '.join(i) for i in TheOffice2['norm_line']] # because normalize_text() fill table with lists of strings\n",
    "#TheOffice2['norm_line'] = TheOffice2['line'].apply(lambda x: x.translate(punctuation_table))\n",
    "#TheOffice_main['norm_line'] = TheOffice_main['norm_line'].apply(lambda x: x.lower())\n",
    "TheOffice2"
   ]
  },
  {
   "cell_type": "markdown",
   "id": "33964d29",
   "metadata": {},
   "source": [
    "Now that the quotes are transformed, we can build some ML and DL models to create character classifiers."
   ]
  },
  {
   "cell_type": "markdown",
   "id": "85c0f5b8",
   "metadata": {},
   "source": [
    "## Classification"
   ]
  },
  {
   "cell_type": "markdown",
   "id": "704ffb1d",
   "metadata": {},
   "source": [
    "**Variables of interest**"
   ]
  },
  {
   "cell_type": "code",
   "execution_count": 15,
   "id": "5a50dd75",
   "metadata": {
    "ExecuteTime": {
     "end_time": "2023-10-04T11:03:34.422789Z",
     "start_time": "2023-10-04T11:03:34.211060Z"
    }
   },
   "outputs": [
    {
     "name": "stdout",
     "output_type": "stream",
     "text": [
      "[0 2 0 ... 7 2 3]\n"
     ]
    }
   ],
   "source": [
    "y = TheOffice_main['speaker']\n",
    "y_int = np.array([np.where(np.array(main_characters)==char)[0].item() for char in y])\n",
    "X = TheOffice_main[\"norm_line\"].to_numpy()\n",
    "print(y_int)"
   ]
  },
  {
   "cell_type": "markdown",
   "id": "a9d95707",
   "metadata": {},
   "source": [
    "**Splitting the dataset**"
   ]
  },
  {
   "cell_type": "code",
   "execution_count": 16,
   "id": "59558989",
   "metadata": {
    "ExecuteTime": {
     "end_time": "2023-10-04T11:03:35.219417Z",
     "start_time": "2023-10-04T11:03:35.198103Z"
    }
   },
   "outputs": [],
   "source": [
    "X_train, X_valid, y_train, y_valid = train_test_split(X, y_int, test_size=0.2, random_state=42, shuffle=True)"
   ]
  },
  {
   "cell_type": "markdown",
   "id": "6486a046",
   "metadata": {},
   "source": [
    "### Logistic Regression"
   ]
  },
  {
   "cell_type": "code",
   "execution_count": 17,
   "id": "32a48be7",
   "metadata": {
    "ExecuteTime": {
     "end_time": "2023-10-04T11:12:47.440840Z",
     "start_time": "2023-10-04T11:03:36.105321Z"
    }
   },
   "outputs": [
    {
     "name": "stdout",
     "output_type": "stream",
     "text": [
      "accuracy 0.2595129375951294\n",
      "              precision    recall  f1-score   support\n",
      "\n",
      "     Michael       0.35      0.44      0.39      2123\n",
      "      Dwight       0.29      0.26      0.28      1324\n",
      "         Jim       0.24      0.27      0.26      1274\n",
      "         Pam       0.20      0.20      0.20       971\n",
      "        Andy       0.19      0.14      0.16       757\n",
      "       Kevin       0.12      0.10      0.11       309\n",
      "      Angela       0.11      0.09      0.10       289\n",
      "        Erin       0.12      0.09      0.10       301\n",
      "       Oscar       0.12      0.09      0.10       274\n",
      "        Ryan       0.10      0.06      0.08       262\n",
      "\n",
      "    accuracy                           0.26      7884\n",
      "   macro avg       0.18      0.17      0.18      7884\n",
      "weighted avg       0.25      0.26      0.25      7884\n",
      "\n"
     ]
    },
    {
     "name": "stderr",
     "output_type": "stream",
     "text": [
      "C:\\Users\\rened\\Anaconda3\\lib\\site-packages\\sklearn\\linear_model\\_logistic.py:814: ConvergenceWarning: lbfgs failed to converge (status=1):\n",
      "STOP: TOTAL NO. of ITERATIONS REACHED LIMIT.\n",
      "\n",
      "Increase the number of iterations (max_iter) or scale the data as shown in:\n",
      "    https://scikit-learn.org/stable/modules/preprocessing.html\n",
      "Please also refer to the documentation for alternative solver options:\n",
      "    https://scikit-learn.org/stable/modules/linear_model.html#logistic-regression\n",
      "  n_iter_i = _check_optimize_result(\n"
     ]
    }
   ],
   "source": [
    "# 9min\n",
    "logreg = Pipeline([('vect', CountVectorizer()),\n",
    "                   ('tfidf', TfidfTransformer()),\n",
    "                   ('clf', LogisticRegression(n_jobs=1, C=1e6, max_iter=10000)),\n",
    "                  ])\n",
    "\n",
    "logreg.fit(X_train, y_train)\n",
    "\n",
    "y_pred_log = logreg.predict(X_valid)\n",
    "\n",
    "print('accuracy %s' % accuracy_score(y_pred_log, y_valid))\n",
    "print(classification_report(y_valid, y_pred_log,target_names=main_characters))"
   ]
  },
  {
   "cell_type": "markdown",
   "id": "dd886ac5",
   "metadata": {},
   "source": [
    "### Naive Bayes Classifier"
   ]
  },
  {
   "cell_type": "code",
   "execution_count": 20,
   "id": "f909d24c",
   "metadata": {
    "ExecuteTime": {
     "end_time": "2023-10-04T12:12:24.106979Z",
     "start_time": "2023-10-04T12:12:23.643947Z"
    }
   },
   "outputs": [
    {
     "name": "stdout",
     "output_type": "stream",
     "text": [
      "accuracy 0.2918569254185693\n",
      "              precision    recall  f1-score   support\n",
      "\n",
      "     Michael       0.28      0.98      0.44      2123\n",
      "      Dwight       0.45      0.11      0.17      1324\n",
      "         Jim       0.32      0.05      0.08      1274\n",
      "         Pam       0.41      0.02      0.03       971\n",
      "        Andy       0.69      0.01      0.03       757\n",
      "       Kevin       0.00      0.00      0.00       309\n",
      "      Angela       0.00      0.00      0.00       289\n",
      "        Erin       0.00      0.00      0.00       301\n",
      "       Oscar       0.00      0.00      0.00       274\n",
      "        Ryan       0.00      0.00      0.00       262\n",
      "\n",
      "    accuracy                           0.29      7884\n",
      "   macro avg       0.22      0.12      0.08      7884\n",
      "weighted avg       0.32      0.29      0.17      7884\n",
      "\n"
     ]
    },
    {
     "name": "stderr",
     "output_type": "stream",
     "text": [
      "C:\\Users\\rened\\Anaconda3\\lib\\site-packages\\sklearn\\metrics\\_classification.py:1318: UndefinedMetricWarning: Precision and F-score are ill-defined and being set to 0.0 in labels with no predicted samples. Use `zero_division` parameter to control this behavior.\n",
      "  _warn_prf(average, modifier, msg_start, len(result))\n",
      "C:\\Users\\rened\\Anaconda3\\lib\\site-packages\\sklearn\\metrics\\_classification.py:1318: UndefinedMetricWarning: Precision and F-score are ill-defined and being set to 0.0 in labels with no predicted samples. Use `zero_division` parameter to control this behavior.\n",
      "  _warn_prf(average, modifier, msg_start, len(result))\n",
      "C:\\Users\\rened\\Anaconda3\\lib\\site-packages\\sklearn\\metrics\\_classification.py:1318: UndefinedMetricWarning: Precision and F-score are ill-defined and being set to 0.0 in labels with no predicted samples. Use `zero_division` parameter to control this behavior.\n",
      "  _warn_prf(average, modifier, msg_start, len(result))\n"
     ]
    }
   ],
   "source": [
    "nb = Pipeline([('vect', CountVectorizer()),\n",
    "               ('tfidf', TfidfTransformer()),\n",
    "               ('clf', MultinomialNB()),\n",
    "              ])\n",
    "\n",
    "nb.fit(X_train, y_train)\n",
    "\n",
    "y_pred_nb = nb.predict(X_valid)\n",
    "\n",
    "print('accuracy %s' % accuracy_score(y_pred_nb, y_valid))\n",
    "print(classification_report(y_valid, y_pred_nb,target_names=main_characters))"
   ]
  },
  {
   "cell_type": "markdown",
   "id": "c9262526",
   "metadata": {},
   "source": [
    "### Support Vector Machine (SVM)"
   ]
  },
  {
   "cell_type": "code",
   "execution_count": 27,
   "id": "cbe33ee9",
   "metadata": {
    "ExecuteTime": {
     "end_time": "2023-10-04T12:18:42.766478Z",
     "start_time": "2023-10-04T12:18:42.189430Z"
    }
   },
   "outputs": [
    {
     "name": "stdout",
     "output_type": "stream",
     "text": [
      "accuracy 0.29921359715880264\n",
      "              precision    recall  f1-score   support\n",
      "\n",
      "     Michael       0.37      0.60      0.46      2123\n",
      "      Dwight       0.31      0.32      0.32      1324\n",
      "         Jim       0.28      0.16      0.21      1274\n",
      "         Pam       0.23      0.21      0.22       971\n",
      "        Andy       0.22      0.19      0.20       757\n",
      "       Kevin       0.13      0.07      0.09       309\n",
      "      Angela       0.12      0.09      0.10       289\n",
      "        Erin       0.19      0.09      0.12       301\n",
      "       Oscar       0.10      0.04      0.06       274\n",
      "        Ryan       0.08      0.05      0.06       262\n",
      "\n",
      "    accuracy                           0.30      7884\n",
      "   macro avg       0.20      0.18      0.18      7884\n",
      "weighted avg       0.27      0.30      0.27      7884\n",
      "\n"
     ]
    }
   ],
   "source": [
    "svm = Pipeline([('vect', CountVectorizer()),\n",
    "                ('tfidf', TfidfTransformer()),\n",
    "                ('clf', SGDClassifier(loss='hinge', penalty='l2',alpha=1e-3, random_state=42, max_iter=5, tol=None)),\n",
    "               ])  # hinge loss == linear SVM\n",
    "svm.fit(X_train, y_train)\n",
    "\n",
    "y_pred_svm = svm.predict(X_valid)\n",
    "\n",
    "print('accuracy %s' % accuracy_score(y_pred_svm, y_valid))\n",
    "print(classification_report(y_valid, y_pred_svm,target_names=main_characters))"
   ]
  },
  {
   "cell_type": "markdown",
   "id": "6ddee92a",
   "metadata": {},
   "source": [
    "### Decision Tree Classifier"
   ]
  },
  {
   "cell_type": "code",
   "execution_count": 30,
   "id": "e3abc66b",
   "metadata": {
    "ExecuteTime": {
     "end_time": "2023-10-04T12:19:12.256784Z",
     "start_time": "2023-10-04T12:19:02.341732Z"
    }
   },
   "outputs": [
    {
     "name": "stdout",
     "output_type": "stream",
     "text": [
      "accuracy 0.22970573313039067\n",
      "              precision    recall  f1-score   support\n",
      "\n",
      "     Michael       0.31      0.42      0.36      2123\n",
      "      Dwight       0.23      0.26      0.24      1324\n",
      "         Jim       0.22      0.22      0.22      1274\n",
      "         Pam       0.18      0.15      0.17       971\n",
      "        Andy       0.13      0.10      0.11       757\n",
      "       Kevin       0.07      0.04      0.05       309\n",
      "      Angela       0.12      0.08      0.09       289\n",
      "        Erin       0.09      0.05      0.06       301\n",
      "       Oscar       0.09      0.05      0.06       274\n",
      "        Ryan       0.06      0.03      0.04       262\n",
      "\n",
      "    accuracy                           0.23      7884\n",
      "   macro avg       0.15      0.14      0.14      7884\n",
      "weighted avg       0.21      0.23      0.22      7884\n",
      "\n"
     ]
    }
   ],
   "source": [
    "Tree = Pipeline([('vect', CountVectorizer()),\n",
    "                 ('tfidf', TfidfTransformer()),\n",
    "                 ('clf', DecisionTreeClassifier(max_depth=None, min_samples_split=2, random_state=0)),\n",
    "                ])\n",
    "\n",
    "Tree.fit(X_train, y_train)\n",
    "\n",
    "y_pred_Tree = Tree.predict(X_valid)\n",
    "\n",
    "print('accuracy %s' % accuracy_score(y_pred_tree, y_valid))\n",
    "print(classification_report(y_valid, y_pred_tree,target_names=main_characters))"
   ]
  },
  {
   "cell_type": "markdown",
   "id": "cd668609",
   "metadata": {},
   "source": [
    "### Random Forest"
   ]
  },
  {
   "cell_type": "code",
   "execution_count": 23,
   "id": "59973459",
   "metadata": {
    "ExecuteTime": {
     "end_time": "2023-10-04T12:13:20.381400Z",
     "start_time": "2023-10-04T12:13:09.448762Z"
    }
   },
   "outputs": [
    {
     "name": "stdout",
     "output_type": "stream",
     "text": [
      "accuracy 0.2766362252663623\n",
      "              precision    recall  f1-score   support\n",
      "\n",
      "     Michael       0.32      0.62      0.42      2123\n",
      "      Dwight       0.25      0.28      0.26      1324\n",
      "         Jim       0.24      0.19      0.21      1274\n",
      "         Pam       0.22      0.15      0.18       971\n",
      "        Andy       0.18      0.06      0.09       757\n",
      "       Kevin       0.17      0.04      0.07       309\n",
      "      Angela       0.12      0.04      0.06       289\n",
      "        Erin       0.19      0.04      0.06       301\n",
      "       Oscar       0.12      0.03      0.05       274\n",
      "        Ryan       0.18      0.02      0.04       262\n",
      "\n",
      "    accuracy                           0.28      7884\n",
      "   macro avg       0.20      0.15      0.14      7884\n",
      "weighted avg       0.24      0.28      0.23      7884\n",
      "\n"
     ]
    }
   ],
   "source": [
    "RanFo = Pipeline([('vect', CountVectorizer()),\n",
    "                  ('tfidf', TfidfTransformer()),\n",
    "                  ('clf', RandomForestClassifier(n_estimators=10)),\n",
    "                 ])\n",
    "\n",
    "RanFo.fit(X_train, y_train)\n",
    "\n",
    "y_pred_RanFo = RanFo.predict(X_valid)\n",
    "\n",
    "print('accuracy %s' % accuracy_score(y_pred_RanFo, y_valid))\n",
    "print(classification_report(y_valid, y_pred_RanFo,target_names=main_characters))"
   ]
  },
  {
   "cell_type": "markdown",
   "id": "44c15999",
   "metadata": {},
   "source": [
    "### Extremely Randomized Trees"
   ]
  },
  {
   "cell_type": "code",
   "execution_count": 24,
   "id": "a25820f9",
   "metadata": {
    "ExecuteTime": {
     "end_time": "2023-10-04T12:13:36.066369Z",
     "start_time": "2023-10-04T12:13:20.566735Z"
    }
   },
   "outputs": [
    {
     "name": "stdout",
     "output_type": "stream",
     "text": [
      "accuracy 0.27638254693049213\n",
      "              precision    recall  f1-score   support\n",
      "\n",
      "     Michael       0.32      0.65      0.43      2123\n",
      "      Dwight       0.25      0.25      0.25      1324\n",
      "         Jim       0.24      0.19      0.22      1274\n",
      "         Pam       0.19      0.12      0.15       971\n",
      "        Andy       0.20      0.07      0.10       757\n",
      "       Kevin       0.17      0.05      0.07       309\n",
      "      Angela       0.17      0.04      0.07       289\n",
      "        Erin       0.15      0.03      0.05       301\n",
      "       Oscar       0.12      0.03      0.04       274\n",
      "        Ryan       0.13      0.02      0.03       262\n",
      "\n",
      "    accuracy                           0.28      7884\n",
      "   macro avg       0.20      0.14      0.14      7884\n",
      "weighted avg       0.24      0.28      0.23      7884\n",
      "\n"
     ]
    }
   ],
   "source": [
    "ExtraTree = Pipeline([('vect', CountVectorizer()),\n",
    "                      ('tfidf', TfidfTransformer()),\n",
    "                      ('clf', ExtraTreesClassifier(n_estimators=10, max_depth=None, min_samples_split=2, random_state=0)),\n",
    "                     ])\n",
    "\n",
    "ExtraTree.fit(X_train, y_train)\n",
    "\n",
    "y_pred_ET = ExtraTree.predict(X_valid)\n",
    "\n",
    "print('accuracy %s' % accuracy_score(y_pred_ET, y_valid))\n",
    "print(classification_report(y_valid, y_pred_ET,target_names=main_characters))"
   ]
  },
  {
   "cell_type": "code",
   "execution_count": 55,
   "id": "52a7e980",
   "metadata": {
    "ExecuteTime": {
     "end_time": "2023-10-04T12:43:54.196547Z",
     "start_time": "2023-10-04T12:43:54.177110Z"
    }
   },
   "outputs": [
    {
     "data": {
      "text/html": [
       "<div>\n",
       "<style scoped>\n",
       "    .dataframe tbody tr th:only-of-type {\n",
       "        vertical-align: middle;\n",
       "    }\n",
       "\n",
       "    .dataframe tbody tr th {\n",
       "        vertical-align: top;\n",
       "    }\n",
       "\n",
       "    .dataframe thead th {\n",
       "        text-align: right;\n",
       "    }\n",
       "</style>\n",
       "<table border=\"1\" class=\"dataframe\">\n",
       "  <thead>\n",
       "    <tr style=\"text-align: right;\">\n",
       "      <th></th>\n",
       "      <th>Logistic Regression</th>\n",
       "      <th>Naive Bayes</th>\n",
       "      <th>SVM</th>\n",
       "      <th>Decision Tree</th>\n",
       "      <th>Random Forest</th>\n",
       "      <th>Extremely Randomzed Trees</th>\n",
       "    </tr>\n",
       "  </thead>\n",
       "  <tbody>\n",
       "    <tr>\n",
       "      <th>Accuracy:</th>\n",
       "      <td>0.26</td>\n",
       "      <td>0.292</td>\n",
       "      <td>0.299</td>\n",
       "      <td>0.23</td>\n",
       "      <td>0.277</td>\n",
       "      <td>0.276</td>\n",
       "    </tr>\n",
       "  </tbody>\n",
       "</table>\n",
       "</div>"
      ],
      "text/plain": [
       "            Logistic Regression  Naive Bayes    SVM  Decision Tree  \\\n",
       "Accuracy:                  0.26        0.292  0.299           0.23   \n",
       "\n",
       "            Random Forest  Extremely Randomzed Trees  \n",
       "Accuracy:           0.277                      0.276  "
      ]
     },
     "execution_count": 55,
     "metadata": {},
     "output_type": "execute_result"
    }
   ],
   "source": [
    "data = np.array([[accuracy_score(y_pred_log,y_valid),accuracy_score(y_pred_nb,y_valid),accuracy_score(y_pred_svm,y_valid),accuracy_score(y_pred_Tree,y_valid),accuracy_score(y_pred_RanFo,y_valid),accuracy_score(y_pred_ET,y_valid)]]).round(3)\n",
    "column_names = ['Logistic Regression','Naive Bayes','SVM','Decision Tree','Random Forest','Extremely Randomzed Trees']\n",
    "pd.DataFrame(data, index=['Accuracy: '], columns=column_names)"
   ]
  },
  {
   "cell_type": "markdown",
   "id": "173ba023",
   "metadata": {},
   "source": [
    "Without tuning any parameters, we obtained the best accuracy using SVM and Naive Bayes classifiers."
   ]
  },
  {
   "cell_type": "markdown",
   "id": "1f6e1368",
   "metadata": {},
   "source": [
    "### Classic MLP Model"
   ]
  },
  {
   "cell_type": "code",
   "execution_count": 58,
   "id": "da6000a6",
   "metadata": {
    "ExecuteTime": {
     "end_time": "2023-10-04T12:45:09.229994Z",
     "start_time": "2023-10-04T12:45:08.120815Z"
    },
    "code_folding": []
   },
   "outputs": [],
   "source": [
    "# Vocabulary size and number of words in a sequence.\n",
    "max_vocab = 10000\n",
    "sequence_length = 100 # 1084 max length of sentence in corpus TheOffice_main\n",
    "\n",
    "# Use the text vectorization layer to normalize, split, and map strings to\n",
    "# integers. Note that the layer uses the custom standardization defined above.\n",
    "# Set maximum_sequence length as all samples are not of the same length.\n",
    "\n",
    "vectorize_layer = layers.TextVectorization(max_tokens=max_vocab, standardize='lower_and_strip_punctuation',#or custom\n",
    "                                           output_mode='int', output_sequence_length=sequence_length)\n",
    "vectorize_layer.adapt(X_train)"
   ]
  },
  {
   "cell_type": "markdown",
   "id": "fd2667ad",
   "metadata": {},
   "source": [
    "Toy MLP on top of the embedding layers"
   ]
  },
  {
   "cell_type": "code",
   "execution_count": 59,
   "id": "7d6b7a1e",
   "metadata": {
    "ExecuteTime": {
     "end_time": "2023-10-04T12:45:10.312660Z",
     "start_time": "2023-10-04T12:45:10.189829Z"
    }
   },
   "outputs": [],
   "source": [
    "embedding_dim=50\n",
    "\n",
    "MLP_model = Sequential([\n",
    "    vectorize_layer,\n",
    "    layers.Embedding(input_dim=len(vectorize_layer.get_vocabulary()), output_dim=50,\n",
    "                     embeddings_initializer='uniform'),\n",
    "    layers.GlobalAveragePooling1D(),\n",
    "    layers.Dense(64, activation='relu'),\n",
    "    layers.Dropout(0.2),\n",
    "    layers.Dense(n_classes, activation='softmax')\n",
    "], name=\"MLP_model\")\n",
    "\n",
    "#MLP_model.summary()\n",
    "\n",
    "MLP_model.compile(optimizer=optimizers.Adam(),\n",
    "                  loss=losses.SparseCategoricalCrossentropy(from_logits=False),\n",
    "                  metrics=['accuracy'])"
   ]
  },
  {
   "cell_type": "code",
   "execution_count": 60,
   "id": "0e2d8832",
   "metadata": {
    "ExecuteTime": {
     "end_time": "2023-10-04T12:45:59.018463Z",
     "start_time": "2023-10-04T12:45:11.022685Z"
    },
    "scrolled": true
   },
   "outputs": [
    {
     "name": "stdout",
     "output_type": "stream",
     "text": [
      "Epoch 1/20\n",
      "247/247 [==============================] - 3s 10ms/step - loss: 2.0617 - accuracy: 0.2724 - val_loss: 2.0262 - val_accuracy: 0.2693\n",
      "Epoch 2/20\n",
      "247/247 [==============================] - 2s 10ms/step - loss: 2.0083 - accuracy: 0.2742 - val_loss: 2.0154 - val_accuracy: 0.2693\n",
      "Epoch 3/20\n",
      "247/247 [==============================] - 2s 9ms/step - loss: 1.9923 - accuracy: 0.2746 - val_loss: 2.0024 - val_accuracy: 0.2694\n",
      "Epoch 4/20\n",
      "247/247 [==============================] - 2s 9ms/step - loss: 1.9709 - accuracy: 0.2801 - val_loss: 1.9850 - val_accuracy: 0.2780\n",
      "Epoch 5/20\n",
      "247/247 [==============================] - 2s 9ms/step - loss: 1.9414 - accuracy: 0.2980 - val_loss: 1.9673 - val_accuracy: 0.2894\n",
      "Epoch 6/20\n",
      "247/247 [==============================] - 2s 9ms/step - loss: 1.9078 - accuracy: 0.3169 - val_loss: 1.9563 - val_accuracy: 0.2955\n",
      "Epoch 7/20\n",
      "247/247 [==============================] - 2s 9ms/step - loss: 1.8723 - accuracy: 0.3369 - val_loss: 1.9357 - val_accuracy: 0.3094\n",
      "Epoch 8/20\n",
      "247/247 [==============================] - 2s 9ms/step - loss: 1.8324 - accuracy: 0.3526 - val_loss: 1.9282 - val_accuracy: 0.3132\n",
      "Epoch 9/20\n",
      "247/247 [==============================] - 2s 10ms/step - loss: 1.7921 - accuracy: 0.3749 - val_loss: 1.9253 - val_accuracy: 0.3152\n",
      "Epoch 10/20\n",
      "247/247 [==============================] - 2s 9ms/step - loss: 1.7518 - accuracy: 0.3884 - val_loss: 1.9251 - val_accuracy: 0.3161\n",
      "Epoch 11/20\n",
      "247/247 [==============================] - 2s 9ms/step - loss: 1.7167 - accuracy: 0.4016 - val_loss: 1.9360 - val_accuracy: 0.3167\n",
      "Epoch 12/20\n",
      "247/247 [==============================] - 2s 9ms/step - loss: 1.6846 - accuracy: 0.4140 - val_loss: 1.9344 - val_accuracy: 0.3194\n",
      "Epoch 13/20\n",
      "247/247 [==============================] - 2s 9ms/step - loss: 1.6530 - accuracy: 0.4276 - val_loss: 1.9460 - val_accuracy: 0.3257\n",
      "Epoch 14/20\n",
      "247/247 [==============================] - 2s 9ms/step - loss: 1.6236 - accuracy: 0.4386 - val_loss: 1.9630 - val_accuracy: 0.3217\n",
      "Epoch 15/20\n",
      "247/247 [==============================] - 2s 10ms/step - loss: 1.5973 - accuracy: 0.4487 - val_loss: 1.9750 - val_accuracy: 0.3141\n",
      "Epoch 16/20\n",
      "247/247 [==============================] - 2s 10ms/step - loss: 1.5708 - accuracy: 0.4562 - val_loss: 1.9956 - val_accuracy: 0.3258\n",
      "Epoch 17/20\n",
      "247/247 [==============================] - 2s 10ms/step - loss: 1.5492 - accuracy: 0.4646 - val_loss: 1.9995 - val_accuracy: 0.3234\n",
      "Epoch 18/20\n",
      "247/247 [==============================] - 2s 9ms/step - loss: 1.5270 - accuracy: 0.4719 - val_loss: 2.0382 - val_accuracy: 0.3231\n",
      "Epoch 19/20\n",
      "247/247 [==============================] - 2s 9ms/step - loss: 1.5051 - accuracy: 0.4785 - val_loss: 2.0247 - val_accuracy: 0.3181\n",
      "Epoch 20/20\n",
      "247/247 [==============================] - 2s 9ms/step - loss: 1.4870 - accuracy: 0.4852 - val_loss: 2.0573 - val_accuracy: 0.3195\n",
      "247/247 [==============================] - 1s 2ms/step - loss: 2.0573 - accuracy: 0.3195\n",
      "Loss:  2.0573484897613525\n",
      "Accuracy:  0.3195078670978546\n"
     ]
    }
   ],
   "source": [
    "epochs = 20 #1min with 20epochs 128batch\n",
    "history_MLP = MLP_model.fit(X_train, y_train, validation_data=(X_valid, y_valid),\n",
    "                            batch_size=128, epochs=epochs)\n",
    "\n",
    "MLP_model.save_weights(\"./checkpoints/MLP_10/MLP_10_TheOffice10\") # Save the network's weights\n",
    "#MLP_model.save(\"./checkpoints/MLP_10_model\") #for saving the whole model object\n",
    "\n",
    "loss_MLP, accuracy_MLP = MLP_model.evaluate(X_valid, y_valid)\n",
    "\n",
    "print(\"Loss: \", loss_MLP)\n",
    "print(\"Accuracy: \", accuracy_MLP)"
   ]
  },
  {
   "cell_type": "code",
   "execution_count": 61,
   "id": "eea9f390",
   "metadata": {
    "ExecuteTime": {
     "end_time": "2023-10-04T12:46:02.971494Z",
     "start_time": "2023-10-04T12:46:02.344008Z"
    }
   },
   "outputs": [
    {
     "data": {
      "image/png": "[encoded data removed]",
      "text/plain": [
       "<Figure size 1000x400 with 2 Axes>"
      ]
     },
     "metadata": {},
     "output_type": "display_data"
    }
   ],
   "source": [
    "history_MLP_dict = history_MLP.history\n",
    "history_MLP_dict.keys()\n",
    "\n",
    "plot_training(history_MLP_dict)"
   ]
  },
  {
   "cell_type": "code",
   "execution_count": 102,
   "id": "f861cda4",
   "metadata": {
    "ExecuteTime": {
     "end_time": "2023-10-04T13:14:21.318277Z",
     "start_time": "2023-10-04T13:14:21.008080Z"
    }
   },
   "outputs": [
    {
     "name": "stdout",
     "output_type": "stream",
     "text": [
      "1/1 [==============================] - 0s 34ms/step\n",
      "1/1 [==============================] - 0s 29ms/step\n",
      "['Michael' 'Michael' 'Michael' 'Jim' 'Dwight' 'Michael' 'Dwight' 'Dwight'\n",
      " 'Dwight' 'Dwight' 'Dwight' 'Michael' 'Michael' 'Dwight' 'Dwight' 'Dwight'\n",
      " 'Dwight' 'Dwight' 'Dwight']\n",
      "1/1 [==============================] - 0s 23ms/step\n",
      "1/1 [==============================] - 0s 46ms/step\n"
     ]
    },
    {
     "data": {
      "text/plain": [
       "0.63"
      ]
     },
     "execution_count": 102,
     "metadata": {},
     "output_type": "execute_result"
    }
   ],
   "source": [
    "char = 'Dwight' # ['Michael', 'Dwight', 'Jim', 'Pam', 'Andy', 'Kevin', 'Angela', 'Erin', 'Oscar', 'Ryan']\n",
    "examples = list(TheOffice[TheOffice['speaker'] == char]['line'][1:20]) \n",
    "\n",
    "MLP_model.predict(examples)\n",
    "print(predict_class(MLP_model, examples, main_characters))\n",
    "nb_correct_pred = sum(predict_class(MLP_model, examples, main_characters) == char)/len(predict_class(BLSTM_model, examples, main_characters)\n",
    ")\n",
    "perc_correct_pred = np.array(nb_correct_pred).round(2)\n",
    "perc_correct_pred"
   ]
  },
  {
   "cell_type": "markdown",
   "id": "3940a122",
   "metadata": {},
   "source": [
    "### BiDirectionnal Long-Short Term Memory (BLSTM)"
   ]
  },
  {
   "cell_type": "code",
   "execution_count": 64,
   "id": "796fe2d2",
   "metadata": {
    "ExecuteTime": {
     "end_time": "2023-10-04T12:47:54.619355Z",
     "start_time": "2023-10-04T12:47:53.397682Z"
    }
   },
   "outputs": [],
   "source": [
    "max_vocab = 10000\n",
    "vectorize_layer = layers.TextVectorization(max_tokens=max_vocab, standardize='lower_and_strip_punctuation',\n",
    "                                           output_mode='int', output_sequence_length=None)\n",
    "vectorize_layer.adapt(X_train)"
   ]
  },
  {
   "cell_type": "code",
   "execution_count": 65,
   "id": "e6d983e3",
   "metadata": {
    "ExecuteTime": {
     "end_time": "2023-10-04T12:47:59.954008Z",
     "start_time": "2023-10-04T12:47:55.096874Z"
    }
   },
   "outputs": [],
   "source": [
    "embedding_dim=50\n",
    "\n",
    "# Using masking with 'mask_zero=True' to handle the variable sequence lengths in subsequent layers.\n",
    "\n",
    "LSTM_model = tf.keras.Sequential([\n",
    "    vectorize_layer,\n",
    "    layers.Embedding(input_dim=len(vectorize_layer.get_vocabulary()), output_dim=embedding_dim,\n",
    "                     embeddings_initializer='uniform', mask_zero=True),\n",
    "    layers.LSTM(64),\n",
    "    layers.Dense(64, activation='relu'),\n",
    "    layers.Dense(n_classes, activation='softmax')\n",
    "], name=\"LSTM_model\")\n",
    "\n",
    "BLSTM_model = tf.keras.Sequential([\n",
    "    vectorize_layer,\n",
    "    layers.Embedding(input_dim=len(vectorize_layer.get_vocabulary()), output_dim=embedding_dim,\n",
    "                     embeddings_initializer='uniform', mask_zero=True),\n",
    "    layers.Bidirectional(layers.LSTM(64), merge_mode='concat'),\n",
    "    layers.Dense(n_classes, activation='softmax')\n",
    "], name=\"BLSTM_model\")\n",
    "\n",
    "BLSTM2_model = tf.keras.Sequential([\n",
    "    vectorize_layer,\n",
    "    layers.Embedding(input_dim=len(vectorize_layer.get_vocabulary()), output_dim=embedding_dim,\n",
    "                     embeddings_initializer='uniform', mask_zero=True),\n",
    "    layers.Bidirectional(layers.LSTM(64,  return_sequences=True), merge_mode='concat'),\n",
    "    layers.Bidirectional(layers.LSTM(32,  return_sequences=False), merge_mode='concat'),\n",
    "    layers.Dense(64, activation='relu'),\n",
    "    layers.Dropout(0.5),\n",
    "    layers.Dense(n_classes, activation='softmax')\n",
    "], name=\"BLSTM2_model\")\n",
    "\n",
    "BLSTM_model.compile(optimizer=optimizers.Adam(learning_rate=1e-4),\n",
    "                    loss=losses.SparseCategoricalCrossentropy(from_logits=False),\n",
    "                    metrics=['accuracy'])"
   ]
  },
  {
   "cell_type": "code",
   "execution_count": 66,
   "id": "fc294fa8",
   "metadata": {
    "ExecuteTime": {
     "end_time": "2023-10-04T12:56:07.607200Z",
     "start_time": "2023-10-04T12:48:02.590385Z"
    }
   },
   "outputs": [
    {
     "name": "stdout",
     "output_type": "stream",
     "text": [
      "Epoch 1/10\n",
      "247/247 [==============================] - 43s 150ms/step - loss: 2.1834 - accuracy: 0.2614 - val_loss: 2.0967 - val_accuracy: 0.2693\n",
      "Epoch 2/10\n",
      "247/247 [==============================] - 46s 186ms/step - loss: 2.0538 - accuracy: 0.2744 - val_loss: 2.0567 - val_accuracy: 0.2693\n",
      "Epoch 3/10\n",
      "247/247 [==============================] - 47s 192ms/step - loss: 2.0223 - accuracy: 0.2743 - val_loss: 2.0360 - val_accuracy: 0.2698\n",
      "Epoch 4/10\n",
      "247/247 [==============================] - 48s 196ms/step - loss: 1.9973 - accuracy: 0.2753 - val_loss: 2.0184 - val_accuracy: 0.2713\n",
      "Epoch 5/10\n",
      "247/247 [==============================] - 50s 202ms/step - loss: 1.9753 - accuracy: 0.2756 - val_loss: 2.0119 - val_accuracy: 0.2712\n",
      "Epoch 6/10\n",
      "247/247 [==============================] - 49s 199ms/step - loss: 1.9563 - accuracy: 0.2791 - val_loss: 2.0003 - val_accuracy: 0.2723\n",
      "Epoch 7/10\n",
      "247/247 [==============================] - 49s 198ms/step - loss: 1.9356 - accuracy: 0.2919 - val_loss: 1.9893 - val_accuracy: 0.2806\n",
      "Epoch 8/10\n",
      "247/247 [==============================] - 50s 204ms/step - loss: 1.9106 - accuracy: 0.3073 - val_loss: 1.9796 - val_accuracy: 0.2883\n",
      "Epoch 9/10\n",
      "247/247 [==============================] - 52s 211ms/step - loss: 1.8815 - accuracy: 0.3219 - val_loss: 1.9744 - val_accuracy: 0.2936\n",
      "Epoch 10/10\n",
      "247/247 [==============================] - 50s 203ms/step - loss: 1.8537 - accuracy: 0.3341 - val_loss: 1.9700 - val_accuracy: 0.2901\n"
     ]
    }
   ],
   "source": [
    "epochs = 10 #100\n",
    "history_lstm = BLSTM_model.fit(X_train, y_train, validation_data=(X_valid, y_valid),\n",
    "                               batch_size=128, epochs=epochs)\n",
    "\n",
    "BLSTM_model.save_weights(\"./checkpoints/BLSTM_10/BLSTM_10\")\n",
    "#BLSTM_model.save(\"./checkpoints/BLSTM_10_model\")\n",
    "#BLSTM_model.load_weights(\"./checkpoints/BLSTM_10/BLSTM_10\")"
   ]
  },
  {
   "cell_type": "code",
   "execution_count": 67,
   "id": "6867061b",
   "metadata": {
    "ExecuteTime": {
     "end_time": "2023-10-04T12:56:40.725266Z",
     "start_time": "2023-10-04T12:56:37.721389Z"
    }
   },
   "outputs": [
    {
     "name": "stdout",
     "output_type": "stream",
     "text": [
      "247/247 [==============================] - 3s 11ms/step - loss: 1.9700 - accuracy: 0.2901\n",
      "Test Loss: 1.97004234790802\n",
      "Test Accuracy: 0.2900811731815338\n"
     ]
    },
    {
     "data": {
      "image/png": "[encoded data removed]",
      "text/plain": [
       "<Figure size 1000x400 with 2 Axes>"
      ]
     },
     "metadata": {},
     "output_type": "display_data"
    }
   ],
   "source": [
    "history_lstm_dict = history_lstm.history\n",
    "\n",
    "test_loss_BLSTM, test_acc_BLSTM = BLSTM_model.evaluate(X_valid, y_valid)\n",
    "\n",
    "print('Test Loss:', test_loss_BLSTM)\n",
    "print('Test Accuracy:', test_acc_BLSTM)\n",
    "\n",
    "plot_training(history_lstm_dict)"
   ]
  },
  {
   "cell_type": "code",
   "execution_count": 94,
   "id": "00f6b6a0",
   "metadata": {
    "ExecuteTime": {
     "end_time": "2023-10-04T13:13:25.928532Z",
     "start_time": "2023-10-04T13:13:25.605887Z"
    }
   },
   "outputs": [
    {
     "name": "stdout",
     "output_type": "stream",
     "text": [
      "1/1 [==============================] - 0s 46ms/step\n",
      "1/1 [==============================] - 0s 29ms/step\n",
      "['Michael' 'Michael' 'Michael' 'Dwight' 'Dwight' 'Michael' 'Dwight'\n",
      " 'Michael' 'Michael' 'Michael' 'Michael' 'Michael' 'Michael' 'Michael'\n",
      " 'Dwight' 'Michael' 'Michael' 'Dwight' 'Dwight']\n",
      "1/1 [==============================] - 0s 51ms/step\n",
      "1/1 [==============================] - 0s 26ms/step\n"
     ]
    },
    {
     "data": {
      "text/plain": [
       "0.32"
      ]
     },
     "execution_count": 94,
     "metadata": {},
     "output_type": "execute_result"
    }
   ],
   "source": [
    "char = 'Dwight'\n",
    "examples = list(TheOffice[TheOffice['speaker'] == char]['line'][1:20]) # ['Michael', 'Dwight', 'Jim', 'Pam', 'Andy', 'Kevin', 'Angela', 'Erin', 'Oscar', 'Ryan']\n",
    "\n",
    "BLSTM_model.predict(examples)\n",
    "print(predict_class(BLSTM_model, examples, main_characters))\n",
    "nb_correct_pred = sum(predict_class(BLSTM_model, examples, main_characters) == char)/len(predict_class(BLSTM_model, examples, main_characters)\n",
    ")\n",
    "perc_correct_pred = np.array(nb_correct_pred).round(2)\n",
    "perc_correct_pred"
   ]
  },
  {
   "cell_type": "markdown",
   "id": "3eb54a88",
   "metadata": {},
   "source": [
    "## Conclusion"
   ]
  },
  {
   "cell_type": "markdown",
   "id": "e951ea45",
   "metadata": {},
   "source": [
    "In this post, I have applied various ML and DL techniques to obtain some initial results on this quote classification task. The overall accuracy of each models fall in the **[0.27-0.33]** range. On one side, these look like bad results as the accuracy is fairly low. But on the other side, these results showcase a better guess than going purely random on 20 classes, or applying all the classes to the most common speaker (Michael). \n",
    "These results also represent just a first step in classifying the quotes. Indeed, much hyperparameter tuning and text preprocessing optimization can be done. The overall classifying accuracy should be able to increase.\n",
    "\n",
    "The next paths I will investigate are among the following ones:\n",
    "- Finetune the best models\n",
    "- Add scene context\n",
    "- Reduce the size of the set of main characters \n",
    "- check other embeddings \n",
    "- look for other DL methods more suited for such tasks"
   ]
  },
  {
   "cell_type": "code",
   "execution_count": null,
   "id": "0409b23f",
   "metadata": {},
   "outputs": [],
   "source": []
  },
  {
   "cell_type": "code",
   "execution_count": null,
   "id": "681852da",
   "metadata": {},
   "outputs": [],
   "source": []
  },
  {
   "cell_type": "code",
   "execution_count": null,
   "id": "04ed5062",
   "metadata": {},
   "outputs": [],
   "source": []
  },
  {
   "cell_type": "code",
   "execution_count": null,
   "id": "d85b6005",
   "metadata": {},
   "outputs": [],
   "source": []
  },
  {
   "cell_type": "code",
   "execution_count": null,
   "id": "80cbc58c",
   "metadata": {},
   "outputs": [],
   "source": []
  },
  {
   "cell_type": "code",
   "execution_count": null,
   "id": "1c70a276",
   "metadata": {},
   "outputs": [],
   "source": []
  },
  {
   "cell_type": "code",
   "execution_count": null,
   "id": "fc350196",
   "metadata": {},
   "outputs": [],
   "source": []
  },
  {
   "cell_type": "code",
   "execution_count": null,
   "id": "333e9f54",
   "metadata": {},
   "outputs": [],
   "source": []
  },
  {
   "cell_type": "code",
   "execution_count": null,
   "id": "99a15f92",
   "metadata": {},
   "outputs": [],
   "source": []
  },
  {
   "cell_type": "code",
   "execution_count": null,
   "id": "ddcaeefe",
   "metadata": {},
   "outputs": [],
   "source": []
  },
  {
   "cell_type": "code",
   "execution_count": null,
   "id": "107b14f0",
   "metadata": {},
   "outputs": [],
   "source": []
  },
  {
   "cell_type": "code",
   "execution_count": null,
   "id": "87547d9d",
   "metadata": {},
   "outputs": [],
   "source": []
  },
  {
   "cell_type": "code",
   "execution_count": null,
   "id": "380a9689",
   "metadata": {},
   "outputs": [],
   "source": []
  },
  {
   "cell_type": "code",
   "execution_count": null,
   "id": "be096868",
   "metadata": {},
   "outputs": [],
   "source": []
  },
  {
   "cell_type": "code",
   "execution_count": null,
   "id": "4d1f7934",
   "metadata": {},
   "outputs": [],
   "source": []
  },
  {
   "cell_type": "code",
   "execution_count": null,
   "id": "441642d5",
   "metadata": {},
   "outputs": [],
   "source": []
  },
  {
   "cell_type": "code",
   "execution_count": null,
   "id": "78456550",
   "metadata": {},
   "outputs": [],
   "source": []
  },
  {
   "cell_type": "code",
   "execution_count": null,
   "id": "14d64b86",
   "metadata": {},
   "outputs": [],
   "source": []
  },
  {
   "cell_type": "code",
   "execution_count": null,
   "id": "d997b217",
   "metadata": {},
   "outputs": [],
   "source": []
  }
 ],
 "metadata": {
  "kernelspec": {
   "display_name": "Python 3",
   "language": "python",
   "name": "python3"
  },
  "language_info": {
   "codemirror_mode": {
    "name": "ipython",
    "version": 3
   },
   "file_extension": ".py",
   "mimetype": "text/x-python",
   "name": "python",
   "nbconvert_exporter": "python",
   "pygments_lexer": "ipython3",
   "version": "3.9.13"
  },
  "toc": {
   "base_numbering": 1,
   "nav_menu": {},
   "number_sections": true,
   "sideBar": true,
   "skip_h1_title": true,
   "title_cell": "Table of Contents",
   "title_sidebar": "Contents",
   "toc_cell": false,
   "toc_position": {},
   "toc_section_display": true,
   "toc_window_display": true
  },
  "varInspector": {
   "cols": {
    "lenName": 16,
    "lenType": 16,
    "lenVar": 40
   },
   "kernels_config": {
    "python": {
     "delete_cmd_postfix": "",
     "delete_cmd_prefix": "del ",
     "library": "var_list.py",
     "varRefreshCmd": "print(var_dic_list())"
    },
    "r": {
     "delete_cmd_postfix": ") ",
     "delete_cmd_prefix": "rm(",
     "library": "var_list.r",
     "varRefreshCmd": "cat(var_dic_list()) "
    }
   },
   "types_to_exclude": [
    "module",
    "function",
    "builtin_function_or_method",
    "instance",
    "_Feature"
   ],
   "window_display": false
  }
 },
 "nbformat": 4,
 "nbformat_minor": 5
}
