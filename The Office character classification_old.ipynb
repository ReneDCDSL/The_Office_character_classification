{
 "cells": [
  {
   "cell_type": "markdown",
   "id": "cf87f078",
   "metadata": {},
   "source": [
    "# The Office Character Recognition"
   ]
  },
  {
   "cell_type": "markdown",
   "id": "a5316678",
   "metadata": {
    "hide_input": true
   },
   "source": [
    "## Imports "
   ]
  },
  {
   "cell_type": "markdown",
   "id": "9144c1dc",
   "metadata": {},
   "source": [
    "#####  Classics"
   ]
  },
  {
   "cell_type": "code",
   "execution_count": 1,
   "id": "4540d3ec",
   "metadata": {
    "ExecuteTime": {
     "end_time": "2023-10-04T10:48:56.300165Z",
     "start_time": "2023-10-04T10:48:54.426795Z"
    },
    "code_folding": [],
    "hide_input": false
   },
   "outputs": [],
   "source": [
    "import numpy as np\n",
    "import pandas as pd\n",
    "pd.options.mode.chained_assignment = None  # default='warn'\n",
    "# for the warning message: A value is trying to be set on a copy of a slice from a DataFrame. Try using .loc[row_indexer,col_indexer] = value instead'\n",
    "import matplotlib.pyplot as plt\n",
    "import nltk"
   ]
  },
  {
   "cell_type": "markdown",
   "id": "72b3905e",
   "metadata": {},
   "source": [
    "##### Tools"
   ]
  },
  {
   "cell_type": "code",
   "execution_count": 1,
   "id": "3040d1a1",
   "metadata": {
    "ExecuteTime": {
     "end_time": "2023-09-26T23:15:03.223087Z",
     "start_time": "2023-09-26T23:15:00.348343Z"
    }
   },
   "outputs": [],
   "source": [
    "import datasets\n",
    "from datasets import load_dataset\n",
    "import string\n",
    "import re"
   ]
  },
  {
   "cell_type": "markdown",
   "id": "45da7a4b",
   "metadata": {},
   "source": [
    "##### Text Normalization tools"
   ]
  },
  {
   "cell_type": "code",
   "execution_count": 2,
   "id": "592e6559",
   "metadata": {
    "ExecuteTime": {
     "end_time": "2023-09-26T23:15:07.398299Z",
     "start_time": "2023-09-26T23:15:03.241365Z"
    }
   },
   "outputs": [],
   "source": [
    "from text_normalizer import TextNormalizer\n",
    "from pycontractions import Contractions\n",
    "cont = Contractions(api_key=\"glove-twitter-25\")  # 'glove-twitter-100'"
   ]
  },
  {
   "cell_type": "markdown",
   "id": "7d58744f",
   "metadata": {},
   "source": [
    "#####  Sklearn pack, for ML manipulation"
   ]
  },
  {
   "cell_type": "code",
   "execution_count": 3,
   "id": "376ae264",
   "metadata": {
    "ExecuteTime": {
     "end_time": "2023-09-26T23:15:07.427168Z",
     "start_time": "2023-09-26T23:15:07.411192Z"
    }
   },
   "outputs": [],
   "source": [
    "from sklearn.model_selection import train_test_split\n",
    "from sklearn.ensemble import RandomForestClassifier, ExtraTreesClassifier\n",
    "from sklearn.tree import DecisionTreeClassifier"
   ]
  },
  {
   "cell_type": "markdown",
   "id": "3a79f893",
   "metadata": {},
   "source": [
    "#####  Deep Learning "
   ]
  },
  {
   "cell_type": "code",
   "execution_count": 4,
   "id": "19ed440b",
   "metadata": {
    "ExecuteTime": {
     "end_time": "2023-09-26T23:15:19.101225Z",
     "start_time": "2023-09-26T23:15:07.445123Z"
    },
    "scrolled": true
   },
   "outputs": [],
   "source": [
    "import tensorflow as tf\n",
    "from tensorflow import keras\n",
    "from tensorflow.keras import layers, losses, optimizers\n",
    "from tensorflow.keras import Sequential\n",
    "\n",
    "import torch"
   ]
  },
  {
   "cell_type": "markdown",
   "id": "7f37b429",
   "metadata": {},
   "source": [
    "##### Transformer packages"
   ]
  },
  {
   "cell_type": "code",
   "execution_count": 5,
   "id": "c51dfc91",
   "metadata": {
    "ExecuteTime": {
     "end_time": "2023-09-26T23:15:19.743449Z",
     "start_time": "2023-09-26T23:15:19.115245Z"
    }
   },
   "outputs": [],
   "source": [
    "from transformers import AutoFeatureExtractor, AutoTokenizer\n",
    "from transformers import TFAutoModelForImageClassification, TFAutoModelForSequenceClassification"
   ]
  },
  {
   "cell_type": "markdown",
   "id": "d9576e37",
   "metadata": {},
   "source": [
    "##### Functions"
   ]
  },
  {
   "cell_type": "code",
   "execution_count": 67,
   "id": "fc202094",
   "metadata": {
    "ExecuteTime": {
     "end_time": "2023-09-27T00:19:33.236941Z",
     "start_time": "2023-09-27T00:19:33.218960Z"
    },
    "code_folding": [
     0,
     5
    ]
   },
   "outputs": [],
   "source": [
    "def predict_class(tf_model, data, class_names):\n",
    "    \"\"\"Returns the string model predictions (class name of the largest network output activation).\"\"\"\n",
    "    \n",
    "    return np.array(class_names)[tf_model.predict(data).argmax(axis=1)]\n",
    "\n",
    "def plot_training(history_dict):\n",
    "    acc = history_dict['accuracy']\n",
    "    val_acc = history_dict['val_accuracy']\n",
    "    loss = history_dict['loss']\n",
    "    val_loss = history_dict['val_loss']\n",
    "    \n",
    "    epochs = range(1, len(loss) + 1)\n",
    "    \n",
    "    plt.figure(figsize=(10, 4))\n",
    "    plt.subplot(1, 2, 1)\n",
    "    plt.plot(epochs, loss, 'b--', label='Training')\n",
    "    plt.plot(epochs, val_loss, 'r-', label='Validation')\n",
    "    plt.xlabel('Epochs')\n",
    "    plt.ylabel('Cross-Entropy Loss')\n",
    "    plt.legend()\n",
    "    \n",
    "    plt.subplot(1, 2, 2)\n",
    "    plt.plot(epochs, acc, 'b--', label='Training')\n",
    "    plt.plot(epochs, val_acc, 'r-', label='Validation')\n",
    "    plt.xlabel('Epochs')\n",
    "    plt.ylabel('Accuracy')\n",
    "    plt.legend(loc='lower right')\n",
    "    \n",
    "    plt.show()"
   ]
  },
  {
   "cell_type": "markdown",
   "id": "a22115dc",
   "metadata": {},
   "source": [
    "## Data Preprocessing"
   ]
  },
  {
   "cell_type": "markdown",
   "id": "bfeecb0a",
   "metadata": {},
   "source": [
    "Load data"
   ]
  },
  {
   "cell_type": "code",
   "execution_count": 9,
   "id": "217ea027",
   "metadata": {
    "ExecuteTime": {
     "end_time": "2023-09-26T23:15:36.464725Z",
     "start_time": "2023-09-26T23:15:36.363815Z"
    }
   },
   "outputs": [],
   "source": [
    "TheOffice = pd.read_csv('./data/The-Office-Lines-V4.csv', usecols=['season', 'episode', 'title', 'scene', 'speaker', 'line'])"
   ]
  },
  {
   "cell_type": "code",
   "execution_count": 10,
   "id": "a4c558c3",
   "metadata": {
    "ExecuteTime": {
     "end_time": "2023-09-26T23:15:37.102108Z",
     "start_time": "2023-09-26T23:15:37.059829Z"
    }
   },
   "outputs": [
    {
     "data": {
      "text/html": [
       "<div>\n",
       "<style scoped>\n",
       "    .dataframe tbody tr th:only-of-type {\n",
       "        vertical-align: middle;\n",
       "    }\n",
       "\n",
       "    .dataframe tbody tr th {\n",
       "        vertical-align: top;\n",
       "    }\n",
       "\n",
       "    .dataframe thead th {\n",
       "        text-align: right;\n",
       "    }\n",
       "</style>\n",
       "<table border=\"1\" class=\"dataframe\">\n",
       "  <thead>\n",
       "    <tr style=\"text-align: right;\">\n",
       "      <th></th>\n",
       "      <th>season</th>\n",
       "      <th>episode</th>\n",
       "      <th>title</th>\n",
       "      <th>scene</th>\n",
       "      <th>speaker</th>\n",
       "      <th>line</th>\n",
       "    </tr>\n",
       "  </thead>\n",
       "  <tbody>\n",
       "    <tr>\n",
       "      <th>0</th>\n",
       "      <td>1</td>\n",
       "      <td>1</td>\n",
       "      <td>Pilot</td>\n",
       "      <td>1</td>\n",
       "      <td>Michael</td>\n",
       "      <td>All right Jim. Your quarterlies look very good...</td>\n",
       "    </tr>\n",
       "    <tr>\n",
       "      <th>1</th>\n",
       "      <td>1</td>\n",
       "      <td>1</td>\n",
       "      <td>Pilot</td>\n",
       "      <td>1</td>\n",
       "      <td>Jim</td>\n",
       "      <td>Oh, I told you. I couldn't close it. So...</td>\n",
       "    </tr>\n",
       "    <tr>\n",
       "      <th>2</th>\n",
       "      <td>1</td>\n",
       "      <td>1</td>\n",
       "      <td>Pilot</td>\n",
       "      <td>1</td>\n",
       "      <td>Michael</td>\n",
       "      <td>So you've come to the master for guidance? Is ...</td>\n",
       "    </tr>\n",
       "    <tr>\n",
       "      <th>3</th>\n",
       "      <td>1</td>\n",
       "      <td>1</td>\n",
       "      <td>Pilot</td>\n",
       "      <td>1</td>\n",
       "      <td>Jim</td>\n",
       "      <td>Actually, you called me in here, but yeah.</td>\n",
       "    </tr>\n",
       "    <tr>\n",
       "      <th>4</th>\n",
       "      <td>1</td>\n",
       "      <td>1</td>\n",
       "      <td>Pilot</td>\n",
       "      <td>1</td>\n",
       "      <td>Michael</td>\n",
       "      <td>All right. Well, let me show you how it's done.</td>\n",
       "    </tr>\n",
       "  </tbody>\n",
       "</table>\n",
       "</div>"
      ],
      "text/plain": [
       "   season  episode  title  scene  speaker  \\\n",
       "0       1        1  Pilot      1  Michael   \n",
       "1       1        1  Pilot      1      Jim   \n",
       "2       1        1  Pilot      1  Michael   \n",
       "3       1        1  Pilot      1      Jim   \n",
       "4       1        1  Pilot      1  Michael   \n",
       "\n",
       "                                                line  \n",
       "0  All right Jim. Your quarterlies look very good...  \n",
       "1         Oh, I told you. I couldn't close it. So...  \n",
       "2  So you've come to the master for guidance? Is ...  \n",
       "3         Actually, you called me in here, but yeah.  \n",
       "4    All right. Well, let me show you how it's done.  "
      ]
     },
     "execution_count": 10,
     "metadata": {},
     "output_type": "execute_result"
    }
   ],
   "source": [
    "TheOffice.head(5)"
   ]
  },
  {
   "cell_type": "code",
   "execution_count": 11,
   "id": "a1112476",
   "metadata": {
    "ExecuteTime": {
     "end_time": "2023-09-26T23:15:37.641936Z",
     "start_time": "2023-09-26T23:15:37.626495Z"
    },
    "scrolled": true
   },
   "outputs": [
    {
     "data": {
      "text/plain": [
       "Michael     10773\n",
       "Dwight       6752\n",
       "Jim          6222\n",
       "Pam          4973\n",
       "Andy         3698\n",
       "Kevin        1535\n",
       "Angela       1534\n",
       "Erin         1413\n",
       "Oscar        1336\n",
       "Ryan         1182\n",
       "Darryl       1160\n",
       "Phyllis       962\n",
       "Kelly         822\n",
       "Toby          814\n",
       "Jan           805\n",
       "Stanley       671\n",
       "Meredith      556\n",
       "Holly         555\n",
       "Nellie        527\n",
       "Gabe          426\n",
       "Name: speaker, dtype: int64"
      ]
     },
     "execution_count": 11,
     "metadata": {},
     "output_type": "execute_result"
    }
   ],
   "source": [
    "TheOffice.speaker.value_counts()[0:20]"
   ]
  },
  {
   "cell_type": "code",
   "execution_count": 12,
   "id": "31a9db17",
   "metadata": {
    "ExecuteTime": {
     "end_time": "2023-09-26T23:15:38.332104Z",
     "start_time": "2023-09-26T23:15:38.313575Z"
    }
   },
   "outputs": [
    {
     "name": "stdout",
     "output_type": "stream",
     "text": [
      "Main Characters:  ['Michael', 'Dwight', 'Jim', 'Pam', 'Andy', 'Kevin', 'Angela', 'Erin', 'Oscar', 'Ryan']\n",
      "\n",
      "Total quotes:                 54626\n",
      "Quotes from main characters:  39418\n"
     ]
    }
   ],
   "source": [
    "n_classes = 10\n",
    "main_characters = TheOffice['speaker'].value_counts(dropna=False)[:n_classes].index.to_list()\n",
    "print('Main Characters: ', main_characters)\n",
    "TheOffice_main = TheOffice.query(\"`speaker` in @main_characters\")\n",
    "print()\n",
    "print('Total quotes:                ', len(TheOffice))\n",
    "print('Quotes from main characters: ', len(TheOffice_main))"
   ]
  },
  {
   "cell_type": "markdown",
   "id": "e4a8bade",
   "metadata": {},
   "source": [
    "#### Text - removing punctuations and lowering"
   ]
  },
  {
   "cell_type": "code",
   "execution_count": 13,
   "id": "6f4e1b5c",
   "metadata": {
    "ExecuteTime": {
     "end_time": "2023-09-26T23:15:39.834474Z",
     "start_time": "2023-09-26T23:15:39.820389Z"
    },
    "scrolled": true
   },
   "outputs": [
    {
     "data": {
      "text/html": [
       "<div>\n",
       "<style scoped>\n",
       "    .dataframe tbody tr th:only-of-type {\n",
       "        vertical-align: middle;\n",
       "    }\n",
       "\n",
       "    .dataframe tbody tr th {\n",
       "        vertical-align: top;\n",
       "    }\n",
       "\n",
       "    .dataframe thead th {\n",
       "        text-align: right;\n",
       "    }\n",
       "</style>\n",
       "<table border=\"1\" class=\"dataframe\">\n",
       "  <thead>\n",
       "    <tr style=\"text-align: right;\">\n",
       "      <th></th>\n",
       "      <th>season</th>\n",
       "      <th>episode</th>\n",
       "      <th>title</th>\n",
       "      <th>scene</th>\n",
       "      <th>speaker</th>\n",
       "      <th>line</th>\n",
       "    </tr>\n",
       "  </thead>\n",
       "  <tbody>\n",
       "    <tr>\n",
       "      <th>0</th>\n",
       "      <td>1</td>\n",
       "      <td>1</td>\n",
       "      <td>Pilot</td>\n",
       "      <td>1</td>\n",
       "      <td>Michael</td>\n",
       "      <td>All right Jim. Your quarterlies look very good...</td>\n",
       "    </tr>\n",
       "    <tr>\n",
       "      <th>1</th>\n",
       "      <td>1</td>\n",
       "      <td>1</td>\n",
       "      <td>Pilot</td>\n",
       "      <td>1</td>\n",
       "      <td>Jim</td>\n",
       "      <td>Oh, I told you. I couldn't close it. So...</td>\n",
       "    </tr>\n",
       "    <tr>\n",
       "      <th>2</th>\n",
       "      <td>1</td>\n",
       "      <td>1</td>\n",
       "      <td>Pilot</td>\n",
       "      <td>1</td>\n",
       "      <td>Michael</td>\n",
       "      <td>So you've come to the master for guidance? Is ...</td>\n",
       "    </tr>\n",
       "    <tr>\n",
       "      <th>3</th>\n",
       "      <td>1</td>\n",
       "      <td>1</td>\n",
       "      <td>Pilot</td>\n",
       "      <td>1</td>\n",
       "      <td>Jim</td>\n",
       "      <td>Actually, you called me in here, but yeah.</td>\n",
       "    </tr>\n",
       "    <tr>\n",
       "      <th>4</th>\n",
       "      <td>1</td>\n",
       "      <td>1</td>\n",
       "      <td>Pilot</td>\n",
       "      <td>1</td>\n",
       "      <td>Michael</td>\n",
       "      <td>All right. Well, let me show you how it's done.</td>\n",
       "    </tr>\n",
       "    <tr>\n",
       "      <th>...</th>\n",
       "      <td>...</td>\n",
       "      <td>...</td>\n",
       "      <td>...</td>\n",
       "      <td>...</td>\n",
       "      <td>...</td>\n",
       "      <td>...</td>\n",
       "    </tr>\n",
       "    <tr>\n",
       "      <th>54616</th>\n",
       "      <td>9</td>\n",
       "      <td>24</td>\n",
       "      <td>Finale</td>\n",
       "      <td>8149</td>\n",
       "      <td>Kevin</td>\n",
       "      <td>No, but maybe the reason...</td>\n",
       "    </tr>\n",
       "    <tr>\n",
       "      <th>54617</th>\n",
       "      <td>9</td>\n",
       "      <td>24</td>\n",
       "      <td>Finale</td>\n",
       "      <td>8149</td>\n",
       "      <td>Oscar</td>\n",
       "      <td>You're not gay.</td>\n",
       "    </tr>\n",
       "    <tr>\n",
       "      <th>54619</th>\n",
       "      <td>9</td>\n",
       "      <td>24</td>\n",
       "      <td>Finale</td>\n",
       "      <td>8151</td>\n",
       "      <td>Erin</td>\n",
       "      <td>How did you do it? How did you capture what it...</td>\n",
       "    </tr>\n",
       "    <tr>\n",
       "      <th>54624</th>\n",
       "      <td>9</td>\n",
       "      <td>24</td>\n",
       "      <td>Finale</td>\n",
       "      <td>8156</td>\n",
       "      <td>Jim</td>\n",
       "      <td>I sold paper at this company for 12 years. My ...</td>\n",
       "    </tr>\n",
       "    <tr>\n",
       "      <th>54625</th>\n",
       "      <td>9</td>\n",
       "      <td>24</td>\n",
       "      <td>Finale</td>\n",
       "      <td>8157</td>\n",
       "      <td>Pam</td>\n",
       "      <td>I thought it was weird when you picked us to m...</td>\n",
       "    </tr>\n",
       "  </tbody>\n",
       "</table>\n",
       "<p>39418 rows × 6 columns</p>\n",
       "</div>"
      ],
      "text/plain": [
       "       season  episode   title  scene  speaker  \\\n",
       "0           1        1   Pilot      1  Michael   \n",
       "1           1        1   Pilot      1      Jim   \n",
       "2           1        1   Pilot      1  Michael   \n",
       "3           1        1   Pilot      1      Jim   \n",
       "4           1        1   Pilot      1  Michael   \n",
       "...       ...      ...     ...    ...      ...   \n",
       "54616       9       24  Finale   8149    Kevin   \n",
       "54617       9       24  Finale   8149    Oscar   \n",
       "54619       9       24  Finale   8151     Erin   \n",
       "54624       9       24  Finale   8156      Jim   \n",
       "54625       9       24  Finale   8157      Pam   \n",
       "\n",
       "                                                    line  \n",
       "0      All right Jim. Your quarterlies look very good...  \n",
       "1             Oh, I told you. I couldn't close it. So...  \n",
       "2      So you've come to the master for guidance? Is ...  \n",
       "3             Actually, you called me in here, but yeah.  \n",
       "4        All right. Well, let me show you how it's done.  \n",
       "...                                                  ...  \n",
       "54616                        No, but maybe the reason...  \n",
       "54617                                    You're not gay.  \n",
       "54619  How did you do it? How did you capture what it...  \n",
       "54624  I sold paper at this company for 12 years. My ...  \n",
       "54625  I thought it was weird when you picked us to m...  \n",
       "\n",
       "[39418 rows x 6 columns]"
      ]
     },
     "execution_count": 13,
     "metadata": {},
     "output_type": "execute_result"
    }
   ],
   "source": [
    "TheOffice_main"
   ]
  },
  {
   "cell_type": "markdown",
   "id": "a9f836de",
   "metadata": {},
   "source": [
    "###### Lowering and removing punctuation on quotes"
   ]
  },
  {
   "cell_type": "code",
   "execution_count": 2,
   "id": "d1d97bf3",
   "metadata": {
    "ExecuteTime": {
     "end_time": "2023-10-04T10:48:58.145622Z",
     "start_time": "2023-10-04T10:48:57.561345Z"
    }
   },
   "outputs": [
    {
     "ename": "NameError",
     "evalue": "name 'string' is not defined",
     "output_type": "error",
     "traceback": [
      "\u001b[1;31m---------------------------------------------------------------------------\u001b[0m",
      "\u001b[1;31mNameError\u001b[0m                                 Traceback (most recent call last)",
      "\u001b[1;32m~\\AppData\\Local\\Temp\\ipykernel_7432\\2653322857.py\u001b[0m in \u001b[0;36m<module>\u001b[1;34m\u001b[0m\n\u001b[1;32m----> 1\u001b[1;33m \u001b[0mpunctuation_table\u001b[0m \u001b[1;33m=\u001b[0m \u001b[0mstr\u001b[0m\u001b[1;33m.\u001b[0m\u001b[0mmaketrans\u001b[0m\u001b[1;33m(\u001b[0m\u001b[1;34m''\u001b[0m\u001b[1;33m,\u001b[0m\u001b[1;34m''\u001b[0m\u001b[1;33m,\u001b[0m\u001b[0mstring\u001b[0m\u001b[1;33m.\u001b[0m\u001b[0mpunctuation\u001b[0m\u001b[1;33m)\u001b[0m\u001b[1;33m\u001b[0m\u001b[1;33m\u001b[0m\u001b[0m\n\u001b[0m\u001b[0;32m      2\u001b[0m \u001b[0mTheOffice_main\u001b[0m\u001b[1;33m[\u001b[0m\u001b[1;34m'norm_line'\u001b[0m\u001b[1;33m]\u001b[0m \u001b[1;33m=\u001b[0m \u001b[0mTheOffice_main\u001b[0m\u001b[1;33m[\u001b[0m\u001b[1;34m'line'\u001b[0m\u001b[1;33m]\u001b[0m\u001b[1;33m.\u001b[0m\u001b[0mapply\u001b[0m\u001b[1;33m(\u001b[0m\u001b[1;32mlambda\u001b[0m \u001b[0mx\u001b[0m\u001b[1;33m:\u001b[0m \u001b[0mx\u001b[0m\u001b[1;33m.\u001b[0m\u001b[0mtranslate\u001b[0m\u001b[1;33m(\u001b[0m\u001b[0mpunctuation_table\u001b[0m\u001b[1;33m)\u001b[0m\u001b[1;33m)\u001b[0m\u001b[1;33m\u001b[0m\u001b[1;33m\u001b[0m\u001b[0m\n\u001b[0;32m      3\u001b[0m \u001b[0mTheOffice_main\u001b[0m\u001b[1;33m[\u001b[0m\u001b[1;34m'norm_line'\u001b[0m\u001b[1;33m]\u001b[0m \u001b[1;33m=\u001b[0m \u001b[0mTheOffice_main\u001b[0m\u001b[1;33m[\u001b[0m\u001b[1;34m'norm_line'\u001b[0m\u001b[1;33m]\u001b[0m\u001b[1;33m.\u001b[0m\u001b[0mapply\u001b[0m\u001b[1;33m(\u001b[0m\u001b[1;32mlambda\u001b[0m \u001b[0mx\u001b[0m\u001b[1;33m:\u001b[0m \u001b[0mx\u001b[0m\u001b[1;33m.\u001b[0m\u001b[0mlower\u001b[0m\u001b[1;33m(\u001b[0m\u001b[1;33m)\u001b[0m\u001b[1;33m)\u001b[0m\u001b[1;33m\u001b[0m\u001b[1;33m\u001b[0m\u001b[0m\n\u001b[0;32m      4\u001b[0m \u001b[0mTheOffice_main\u001b[0m\u001b[1;33m\u001b[0m\u001b[1;33m\u001b[0m\u001b[0m\n",
      "\u001b[1;31mNameError\u001b[0m: name 'string' is not defined"
     ]
    }
   ],
   "source": [
    "punctuation_table = str.maketrans('','',string.punctuation)\n",
    "TheOffice_main['norm_line'] = TheOffice_main['line'].apply(lambda x: x.translate(punctuation_table))\n",
    "TheOffice_main['norm_line'] = TheOffice_main['norm_line'].apply(lambda x: x.lower())\n",
    "TheOffice_main"
   ]
  },
  {
   "cell_type": "code",
   "execution_count": 104,
   "id": "f36ad6a7",
   "metadata": {
    "ExecuteTime": {
     "end_time": "2023-09-26T22:05:29.052407Z",
     "start_time": "2023-09-26T21:55:15.368765Z"
    }
   },
   "outputs": [
    {
     "data": {
      "text/html": [
       "<div>\n",
       "<style scoped>\n",
       "    .dataframe tbody tr th:only-of-type {\n",
       "        vertical-align: middle;\n",
       "    }\n",
       "\n",
       "    .dataframe tbody tr th {\n",
       "        vertical-align: top;\n",
       "    }\n",
       "\n",
       "    .dataframe thead th {\n",
       "        text-align: right;\n",
       "    }\n",
       "</style>\n",
       "<table border=\"1\" class=\"dataframe\">\n",
       "  <thead>\n",
       "    <tr style=\"text-align: right;\">\n",
       "      <th></th>\n",
       "      <th>season</th>\n",
       "      <th>episode</th>\n",
       "      <th>title</th>\n",
       "      <th>scene</th>\n",
       "      <th>speaker</th>\n",
       "      <th>line</th>\n",
       "      <th>norm_line</th>\n",
       "    </tr>\n",
       "  </thead>\n",
       "  <tbody>\n",
       "    <tr>\n",
       "      <th>0</th>\n",
       "      <td>1</td>\n",
       "      <td>1</td>\n",
       "      <td>Pilot</td>\n",
       "      <td>1</td>\n",
       "      <td>Michael</td>\n",
       "      <td>All right Jim. Your quarterlies look very good...</td>\n",
       "      <td>[right jim, quarterly look good, thing library]</td>\n",
       "    </tr>\n",
       "    <tr>\n",
       "      <th>1</th>\n",
       "      <td>1</td>\n",
       "      <td>1</td>\n",
       "      <td>Pilot</td>\n",
       "      <td>1</td>\n",
       "      <td>Jim</td>\n",
       "      <td>Oh, I told you. I couldn't close it. So...</td>\n",
       "      <td>[oh told, could close, ]</td>\n",
       "    </tr>\n",
       "    <tr>\n",
       "      <th>2</th>\n",
       "      <td>1</td>\n",
       "      <td>1</td>\n",
       "      <td>Pilot</td>\n",
       "      <td>1</td>\n",
       "      <td>Michael</td>\n",
       "      <td>So you've come to the master for guidance? Is ...</td>\n",
       "      <td>[come master guidance, saying grasshopper]</td>\n",
       "    </tr>\n",
       "    <tr>\n",
       "      <th>3</th>\n",
       "      <td>1</td>\n",
       "      <td>1</td>\n",
       "      <td>Pilot</td>\n",
       "      <td>1</td>\n",
       "      <td>Jim</td>\n",
       "      <td>Actually, you called me in here, but yeah.</td>\n",
       "      <td>[actually called yeah]</td>\n",
       "    </tr>\n",
       "    <tr>\n",
       "      <th>4</th>\n",
       "      <td>1</td>\n",
       "      <td>1</td>\n",
       "      <td>Pilot</td>\n",
       "      <td>1</td>\n",
       "      <td>Michael</td>\n",
       "      <td>All right. Well, let me show you how it's done.</td>\n",
       "      <td>[right, well let show done]</td>\n",
       "    </tr>\n",
       "    <tr>\n",
       "      <th>...</th>\n",
       "      <td>...</td>\n",
       "      <td>...</td>\n",
       "      <td>...</td>\n",
       "      <td>...</td>\n",
       "      <td>...</td>\n",
       "      <td>...</td>\n",
       "      <td>...</td>\n",
       "    </tr>\n",
       "    <tr>\n",
       "      <th>54621</th>\n",
       "      <td>9</td>\n",
       "      <td>24</td>\n",
       "      <td>Finale</td>\n",
       "      <td>8153</td>\n",
       "      <td>Creed</td>\n",
       "      <td>It all seems so very arbitrary. I applied for ...</td>\n",
       "      <td>[seems arbitrary, applied job company hiring, ...</td>\n",
       "    </tr>\n",
       "    <tr>\n",
       "      <th>54622</th>\n",
       "      <td>9</td>\n",
       "      <td>24</td>\n",
       "      <td>Finale</td>\n",
       "      <td>8154</td>\n",
       "      <td>Meredith</td>\n",
       "      <td>I just feel lucky that I got a chance to share...</td>\n",
       "      <td>[feel lucky got chance share crummy story anyo...</td>\n",
       "    </tr>\n",
       "    <tr>\n",
       "      <th>54623</th>\n",
       "      <td>9</td>\n",
       "      <td>24</td>\n",
       "      <td>Finale</td>\n",
       "      <td>8155</td>\n",
       "      <td>Phyllis</td>\n",
       "      <td>I'm happy that this was all filmed so I can re...</td>\n",
       "      <td>[I happy filmed remember everyone, worked pape...</td>\n",
       "    </tr>\n",
       "    <tr>\n",
       "      <th>54624</th>\n",
       "      <td>9</td>\n",
       "      <td>24</td>\n",
       "      <td>Finale</td>\n",
       "      <td>8156</td>\n",
       "      <td>Jim</td>\n",
       "      <td>I sold paper at this company for 12 years. My ...</td>\n",
       "      <td>[sold paper company 12 year, job speak client ...</td>\n",
       "    </tr>\n",
       "    <tr>\n",
       "      <th>54625</th>\n",
       "      <td>9</td>\n",
       "      <td>24</td>\n",
       "      <td>Finale</td>\n",
       "      <td>8157</td>\n",
       "      <td>Pam</td>\n",
       "      <td>I thought it was weird when you picked us to m...</td>\n",
       "      <td>[thought weird picked u make documentary, alli...</td>\n",
       "    </tr>\n",
       "  </tbody>\n",
       "</table>\n",
       "<p>54626 rows × 7 columns</p>\n",
       "</div>"
      ],
      "text/plain": [
       "       season  episode   title  scene   speaker  \\\n",
       "0           1        1   Pilot      1   Michael   \n",
       "1           1        1   Pilot      1       Jim   \n",
       "2           1        1   Pilot      1   Michael   \n",
       "3           1        1   Pilot      1       Jim   \n",
       "4           1        1   Pilot      1   Michael   \n",
       "...       ...      ...     ...    ...       ...   \n",
       "54621       9       24  Finale   8153     Creed   \n",
       "54622       9       24  Finale   8154  Meredith   \n",
       "54623       9       24  Finale   8155   Phyllis   \n",
       "54624       9       24  Finale   8156       Jim   \n",
       "54625       9       24  Finale   8157       Pam   \n",
       "\n",
       "                                                    line  \\\n",
       "0      All right Jim. Your quarterlies look very good...   \n",
       "1             Oh, I told you. I couldn't close it. So...   \n",
       "2      So you've come to the master for guidance? Is ...   \n",
       "3             Actually, you called me in here, but yeah.   \n",
       "4        All right. Well, let me show you how it's done.   \n",
       "...                                                  ...   \n",
       "54621  It all seems so very arbitrary. I applied for ...   \n",
       "54622  I just feel lucky that I got a chance to share...   \n",
       "54623  I'm happy that this was all filmed so I can re...   \n",
       "54624  I sold paper at this company for 12 years. My ...   \n",
       "54625  I thought it was weird when you picked us to m...   \n",
       "\n",
       "                                               norm_line  \n",
       "0        [right jim, quarterly look good, thing library]  \n",
       "1                               [oh told, could close, ]  \n",
       "2             [come master guidance, saying grasshopper]  \n",
       "3                                 [actually called yeah]  \n",
       "4                            [right, well let show done]  \n",
       "...                                                  ...  \n",
       "54621  [seems arbitrary, applied job company hiring, ...  \n",
       "54622  [feel lucky got chance share crummy story anyo...  \n",
       "54623  [I happy filmed remember everyone, worked pape...  \n",
       "54624  [sold paper company 12 year, job speak client ...  \n",
       "54625  [thought weird picked u make documentary, alli...  \n",
       "\n",
       "[54626 rows x 7 columns]"
      ]
     },
     "execution_count": 104,
     "metadata": {},
     "output_type": "execute_result"
    }
   ],
   "source": [
    "TheOffice2 = TheOffice.copy()\n",
    "punctuation_table = str.maketrans('','',string.punctuation)\n",
    "TheOffice2['norm_line'] = TheOffice2['line'].apply(lambda x: TextNormalizer().normalize_text(text=x, cont=cont)) # 10min to run\n",
    "TheOffice2['norm_line'] = [' '.join(i) for i in TheOffice2['norm_line']] # because normalize_text() fill table with lists of strings\n",
    "#TheOffice2['norm_line'] = TheOffice2['line'].apply(lambda x: x.translate(punctuation_table))\n",
    "#TheOffice_main['norm_line'] = TheOffice_main['norm_line'].apply(lambda x: x.lower())\n",
    "TheOffice2"
   ]
  },
  {
   "cell_type": "code",
   "execution_count": null,
   "id": "80ef16c1",
   "metadata": {},
   "outputs": [],
   "source": []
  },
  {
   "cell_type": "code",
   "execution_count": null,
   "id": "ac090dca",
   "metadata": {},
   "outputs": [],
   "source": []
  },
  {
   "cell_type": "code",
   "execution_count": null,
   "id": "849aaeaa",
   "metadata": {},
   "outputs": [],
   "source": []
  },
  {
   "cell_type": "markdown",
   "id": "fba9ba26",
   "metadata": {},
   "source": [
    "## Classification"
   ]
  },
  {
   "cell_type": "markdown",
   "id": "613651bf",
   "metadata": {},
   "source": [
    "###### Variables of interest"
   ]
  },
  {
   "cell_type": "code",
   "execution_count": 18,
   "id": "a94d50b3",
   "metadata": {
    "ExecuteTime": {
     "end_time": "2023-09-26T23:16:14.556850Z",
     "start_time": "2023-09-26T23:16:14.350048Z"
    }
   },
   "outputs": [
    {
     "name": "stdout",
     "output_type": "stream",
     "text": [
      "[0 2 0 ... 7 2 3]\n"
     ]
    }
   ],
   "source": [
    "y = TheOffice_main['speaker']\n",
    "y_int = np.array([np.where(np.array(main_characters)==char)[0].item() for char in y])\n",
    "X = TheOffice_main[\"norm_line\"].to_numpy()\n",
    "print(y_int)\n"
   ]
  },
  {
   "cell_type": "code",
   "execution_count": 19,
   "id": "678588c2",
   "metadata": {
    "ExecuteTime": {
     "end_time": "2023-09-26T23:16:15.565176Z",
     "start_time": "2023-09-26T23:16:15.550272Z"
    }
   },
   "outputs": [],
   "source": [
    "X_train, X_valid, y_train, y_valid = train_test_split(X, y_int, test_size=0.2, random_state=42, shuffle=True)"
   ]
  },
  {
   "cell_type": "markdown",
   "id": "9038315b",
   "metadata": {},
   "source": [
    "### Logistic regression"
   ]
  },
  {
   "cell_type": "code",
   "execution_count": 33,
   "id": "48cdc583",
   "metadata": {
    "ExecuteTime": {
     "end_time": "2023-09-26T23:35:28.324427Z",
     "start_time": "2023-09-26T23:26:14.666206Z"
    }
   },
   "outputs": [
    {
     "name": "stdout",
     "output_type": "stream",
     "text": [
      "accuracy 0.2595129375951294\n",
      "              precision    recall  f1-score   support\n",
      "\n",
      "     Michael       0.35      0.44      0.39      2123\n",
      "      Dwight       0.29      0.26      0.28      1324\n",
      "         Jim       0.24      0.27      0.26      1274\n",
      "         Pam       0.20      0.20      0.20       971\n",
      "        Andy       0.19      0.14      0.16       757\n",
      "       Kevin       0.12      0.10      0.11       309\n",
      "      Angela       0.11      0.09      0.10       289\n",
      "        Erin       0.12      0.09      0.10       301\n",
      "       Oscar       0.12      0.09      0.10       274\n",
      "        Ryan       0.10      0.06      0.08       262\n",
      "\n",
      "    accuracy                           0.26      7884\n",
      "   macro avg       0.18      0.17      0.18      7884\n",
      "weighted avg       0.25      0.26      0.25      7884\n",
      "\n"
     ]
    },
    {
     "name": "stderr",
     "output_type": "stream",
     "text": [
      "C:\\Users\\rened\\Anaconda3\\lib\\site-packages\\sklearn\\linear_model\\_logistic.py:814: ConvergenceWarning: lbfgs failed to converge (status=1):\n",
      "STOP: TOTAL NO. of ITERATIONS REACHED LIMIT.\n",
      "\n",
      "Increase the number of iterations (max_iter) or scale the data as shown in:\n",
      "    https://scikit-learn.org/stable/modules/preprocessing.html\n",
      "Please also refer to the documentation for alternative solver options:\n",
      "    https://scikit-learn.org/stable/modules/linear_model.html#logistic-regression\n",
      "  n_iter_i = _check_optimize_result(\n"
     ]
    }
   ],
   "source": [
    "from sklearn.linear_model import LogisticRegression\n",
    "\n",
    "logreg = Pipeline([('vect', CountVectorizer()),\n",
    "                ('tfidf', TfidfTransformer()),\n",
    "                ('clf', LogisticRegression(n_jobs=1, C=1e6, max_iter=10000)),\n",
    "               ])\n",
    "\n",
    "logreg.fit(X_train, y_train)\n",
    "\n",
    "y_pred = logreg.predict(X_valid)\n",
    "\n",
    "print('accuracy %s' % accuracy_score(y_pred, y_valid))\n",
    "print(classification_report(y_valid, y_pred,target_names=main_characters))"
   ]
  },
  {
   "cell_type": "markdown",
   "id": "44c811fb",
   "metadata": {},
   "source": [
    "### Naive Bayes Classifier"
   ]
  },
  {
   "cell_type": "code",
   "execution_count": 15,
   "id": "34ef195f",
   "metadata": {
    "ExecuteTime": {
     "end_time": "2023-09-26T23:15:45.912368Z",
     "start_time": "2023-09-26T23:15:45.885353Z"
    }
   },
   "outputs": [],
   "source": [
    "from sklearn.naive_bayes import MultinomialNB\n",
    "from sklearn.pipeline import Pipeline\n",
    "from sklearn.feature_extraction.text import TfidfTransformer\n",
    "from sklearn.feature_extraction.text import CountVectorizer, TfidfVectorizer\n",
    "from sklearn.metrics import accuracy_score, confusion_matrix\n",
    "from sklearn.metrics import classification_report\n"
   ]
  },
  {
   "cell_type": "code",
   "execution_count": 22,
   "id": "91447ec5",
   "metadata": {
    "ExecuteTime": {
     "end_time": "2023-09-26T23:16:37.793047Z",
     "start_time": "2023-09-26T23:16:37.670865Z"
    },
    "scrolled": false
   },
   "outputs": [
    {
     "name": "stdout",
     "output_type": "stream",
     "text": [
      "accuracy 0.2918569254185693\n",
      "              precision    recall  f1-score   support\n",
      "\n",
      "     Michael       0.28      0.98      0.44      2123\n",
      "      Dwight       0.45      0.11      0.17      1324\n",
      "         Jim       0.32      0.05      0.08      1274\n",
      "         Pam       0.41      0.02      0.03       971\n",
      "        Andy       0.69      0.01      0.03       757\n",
      "       Kevin       0.00      0.00      0.00       309\n",
      "      Angela       0.00      0.00      0.00       289\n",
      "        Erin       0.00      0.00      0.00       301\n",
      "       Oscar       0.00      0.00      0.00       274\n",
      "        Ryan       0.00      0.00      0.00       262\n",
      "\n",
      "    accuracy                           0.29      7884\n",
      "   macro avg       0.22      0.12      0.08      7884\n",
      "weighted avg       0.32      0.29      0.17      7884\n",
      "\n",
      "Wall time: 104 ms\n"
     ]
    },
    {
     "name": "stderr",
     "output_type": "stream",
     "text": [
      "C:\\Users\\rened\\Anaconda3\\lib\\site-packages\\sklearn\\metrics\\_classification.py:1318: UndefinedMetricWarning: Precision and F-score are ill-defined and being set to 0.0 in labels with no predicted samples. Use `zero_division` parameter to control this behavior.\n",
      "  _warn_prf(average, modifier, msg_start, len(result))\n",
      "C:\\Users\\rened\\Anaconda3\\lib\\site-packages\\sklearn\\metrics\\_classification.py:1318: UndefinedMetricWarning: Precision and F-score are ill-defined and being set to 0.0 in labels with no predicted samples. Use `zero_division` parameter to control this behavior.\n",
      "  _warn_prf(average, modifier, msg_start, len(result))\n",
      "C:\\Users\\rened\\Anaconda3\\lib\\site-packages\\sklearn\\metrics\\_classification.py:1318: UndefinedMetricWarning: Precision and F-score are ill-defined and being set to 0.0 in labels with no predicted samples. Use `zero_division` parameter to control this behavior.\n",
      "  _warn_prf(average, modifier, msg_start, len(result))\n"
     ]
    }
   ],
   "source": [
    "nb = Pipeline([('vect', CountVectorizer()),\n",
    "               ('tfidf', TfidfTransformer()),\n",
    "               ('clf', MultinomialNB()),\n",
    "              ])\n",
    "\n",
    "nb.fit(X_train, y_train)\n",
    "\n",
    "y_pred = nb.predict(X_valid)\n",
    "\n",
    "print('accuracy %s' % accuracy_score(y_pred, y_valid))\n",
    "print(classification_report(y_valid, y_pred,target_names=main_characters))"
   ]
  },
  {
   "cell_type": "markdown",
   "id": "f500b240",
   "metadata": {},
   "source": [
    "### SVM"
   ]
  },
  {
   "cell_type": "code",
   "execution_count": 27,
   "id": "4632e40b",
   "metadata": {
    "ExecuteTime": {
     "end_time": "2023-09-26T23:20:36.815084Z",
     "start_time": "2023-09-26T23:20:36.250924Z"
    }
   },
   "outputs": [
    {
     "name": "stdout",
     "output_type": "stream",
     "text": [
      "accuracy 0.29921359715880264\n",
      "              precision    recall  f1-score   support\n",
      "\n",
      "     Michael       0.37      0.60      0.46      2123\n",
      "      Dwight       0.31      0.32      0.32      1324\n",
      "         Jim       0.28      0.16      0.21      1274\n",
      "         Pam       0.23      0.21      0.22       971\n",
      "        Andy       0.22      0.19      0.20       757\n",
      "       Kevin       0.13      0.07      0.09       309\n",
      "      Angela       0.12      0.09      0.10       289\n",
      "        Erin       0.19      0.09      0.12       301\n",
      "       Oscar       0.10      0.04      0.06       274\n",
      "        Ryan       0.08      0.05      0.06       262\n",
      "\n",
      "    accuracy                           0.30      7884\n",
      "   macro avg       0.20      0.18      0.18      7884\n",
      "weighted avg       0.27      0.30      0.27      7884\n",
      "\n"
     ]
    }
   ],
   "source": [
    "from sklearn.linear_model import SGDClassifier\n",
    "\n",
    "sgd = Pipeline([('vect', CountVectorizer()),\n",
    "                ('tfidf', TfidfTransformer()),\n",
    "                ('clf', SGDClassifier(loss='hinge', penalty='l2',alpha=1e-3, random_state=42, max_iter=5, tol=None)),\n",
    "               ])\n",
    "sgd.fit(X_train, y_train)\n",
    "\n",
    "y_pred = sgd.predict(X_valid)\n",
    "\n",
    "print('accuracy %s' % accuracy_score(y_pred, y_valid))\n",
    "print(classification_report(y_valid, y_pred,target_names=main_characters))"
   ]
  },
  {
   "cell_type": "markdown",
   "id": "5ce26c6a",
   "metadata": {},
   "source": [
    "### Decision Tree Classifier"
   ]
  },
  {
   "cell_type": "code",
   "execution_count": 57,
   "id": "64890b9b",
   "metadata": {
    "ExecuteTime": {
     "end_time": "2023-09-26T23:47:29.551214Z",
     "start_time": "2023-09-26T23:47:19.644110Z"
    }
   },
   "outputs": [
    {
     "name": "stdout",
     "output_type": "stream",
     "text": [
      "accuracy 0.22970573313039067\n",
      "              precision    recall  f1-score   support\n",
      "\n",
      "     Michael       0.31      0.42      0.36      2123\n",
      "      Dwight       0.23      0.26      0.24      1324\n",
      "         Jim       0.22      0.22      0.22      1274\n",
      "         Pam       0.18      0.15      0.17       971\n",
      "        Andy       0.13      0.10      0.11       757\n",
      "       Kevin       0.07      0.04      0.05       309\n",
      "      Angela       0.12      0.08      0.09       289\n",
      "        Erin       0.09      0.05      0.06       301\n",
      "       Oscar       0.09      0.05      0.06       274\n",
      "        Ryan       0.06      0.03      0.04       262\n",
      "\n",
      "    accuracy                           0.23      7884\n",
      "   macro avg       0.15      0.14      0.14      7884\n",
      "weighted avg       0.21      0.23      0.22      7884\n",
      "\n"
     ]
    }
   ],
   "source": [
    "from sklearn.model_selection import cross_val_score\n",
    "\n",
    "\n",
    "Tree = Pipeline([('vect', CountVectorizer()),\n",
    "                ('tfidf', TfidfTransformer()),\n",
    "                ('clf', DecisionTreeClassifier(max_depth=None, min_samples_split=2, random_state=0)),\n",
    "               ])\n",
    "\n",
    "Tree.fit(X_train, y_train)\n",
    "\n",
    "y_pred = Tree.predict(X_valid)\n",
    "\n",
    "print('accuracy %s' % accuracy_score(y_pred, y_valid))\n",
    "print(classification_report(y_valid, y_pred,target_names=main_characters))"
   ]
  },
  {
   "cell_type": "markdown",
   "id": "edbc95b7",
   "metadata": {},
   "source": [
    "### Random Forest"
   ]
  },
  {
   "cell_type": "code",
   "execution_count": 56,
   "id": "2df97b63",
   "metadata": {
    "ExecuteTime": {
     "end_time": "2023-09-26T23:44:15.676809Z",
     "start_time": "2023-09-26T23:44:03.370001Z"
    }
   },
   "outputs": [
    {
     "name": "stdout",
     "output_type": "stream",
     "text": [
      "accuracy 0.2614155251141553\n",
      "              precision    recall  f1-score   support\n",
      "\n",
      "     Michael       0.31      0.61      0.41      2123\n",
      "      Dwight       0.23      0.24      0.23      1324\n",
      "         Jim       0.24      0.19      0.21      1274\n",
      "         Pam       0.18      0.13      0.15       971\n",
      "        Andy       0.17      0.06      0.08       757\n",
      "       Kevin       0.13      0.03      0.05       309\n",
      "      Angela       0.11      0.03      0.05       289\n",
      "        Erin       0.16      0.03      0.05       301\n",
      "       Oscar       0.05      0.01      0.02       274\n",
      "        Ryan       0.18      0.02      0.04       262\n",
      "\n",
      "    accuracy                           0.26      7884\n",
      "   macro avg       0.18      0.14      0.13      7884\n",
      "weighted avg       0.22      0.26      0.22      7884\n",
      "\n"
     ]
    }
   ],
   "source": [
    "from sklearn.ensemble import RandomForestClassifier\n",
    "\n",
    "RanFo = Pipeline([('vect', CountVectorizer()),\n",
    "                ('tfidf', TfidfTransformer()),\n",
    "                ('clf', RandomForestClassifier(n_estimators=10)),\n",
    "               ])\n",
    "\n",
    "RanFo.fit(X_train, y_train)\n",
    "\n",
    "y_pred = RanFo.predict(X_valid)\n",
    "\n",
    "print('accuracy %s' % accuracy_score(y_pred, y_valid))\n",
    "print(classification_report(y_valid, y_pred,target_names=main_characters))"
   ]
  },
  {
   "cell_type": "markdown",
   "id": "45991c72",
   "metadata": {},
   "source": [
    "### Extremely Randomized Trees"
   ]
  },
  {
   "cell_type": "code",
   "execution_count": 61,
   "id": "e36ac264",
   "metadata": {
    "ExecuteTime": {
     "end_time": "2023-09-26T23:49:37.070970Z",
     "start_time": "2023-09-26T23:49:21.180396Z"
    }
   },
   "outputs": [
    {
     "name": "stdout",
     "output_type": "stream",
     "text": [
      "accuracy 0.27638254693049213\n",
      "              precision    recall  f1-score   support\n",
      "\n",
      "     Michael       0.32      0.65      0.43      2123\n",
      "      Dwight       0.25      0.25      0.25      1324\n",
      "         Jim       0.24      0.19      0.22      1274\n",
      "         Pam       0.19      0.12      0.15       971\n",
      "        Andy       0.20      0.07      0.10       757\n",
      "       Kevin       0.17      0.05      0.07       309\n",
      "      Angela       0.17      0.04      0.07       289\n",
      "        Erin       0.15      0.03      0.05       301\n",
      "       Oscar       0.12      0.03      0.04       274\n",
      "        Ryan       0.13      0.02      0.03       262\n",
      "\n",
      "    accuracy                           0.28      7884\n",
      "   macro avg       0.20      0.14      0.14      7884\n",
      "weighted avg       0.24      0.28      0.23      7884\n",
      "\n"
     ]
    }
   ],
   "source": [
    "ExtraTree = Pipeline([('vect', CountVectorizer()),\n",
    "                ('tfidf', TfidfTransformer()),\n",
    "                ('clf', ExtraTreesClassifier(n_estimators=10, max_depth=None, min_samples_split=2, random_state=0)),\n",
    "               ])\n",
    "\n",
    "ExtraTree.fit(X_train, y_train)\n",
    "\n",
    "y_pred = ExtraTree.predict(X_valid)\n",
    "\n",
    "print('accuracy %s' % accuracy_score(y_pred, y_valid))\n",
    "print(classification_report(y_valid, y_pred,target_names=main_characters))"
   ]
  },
  {
   "cell_type": "markdown",
   "id": "37f10c1e",
   "metadata": {},
   "source": [
    "### Classic MLP Model"
   ]
  },
  {
   "cell_type": "code",
   "execution_count": 28,
   "id": "0f895dd3",
   "metadata": {
    "ExecuteTime": {
     "end_time": "2023-09-26T20:56:59.146872Z",
     "start_time": "2023-09-26T20:56:57.996057Z"
    }
   },
   "outputs": [],
   "source": [
    "# Vocabulary size and number of words in a sequence.\n",
    "max_vocab = 10000\n",
    "sequence_length = 100 # 1084 max length of sentence in corpus TheOffice_main\n",
    "\n",
    "# Use the text vectorization layer to normalize, split, and map strings to\n",
    "# integers. Note that the layer uses the custom standardization defined above.\n",
    "# Set maximum_sequence length as all samples are not of the same length.\n",
    "\n",
    "vectorize_layer = layers.TextVectorization(max_tokens=max_vocab, standardize='lower_and_strip_punctuation',#or custom\n",
    "                                           output_mode='int', output_sequence_length=sequence_length)\n",
    "vectorize_layer.adapt(X_train)"
   ]
  },
  {
   "cell_type": "markdown",
   "id": "49537405",
   "metadata": {},
   "source": [
    "Toy MLP on top of the embedding layers, using the `Sequential` class."
   ]
  },
  {
   "cell_type": "code",
   "execution_count": 31,
   "id": "d729484d",
   "metadata": {
    "ExecuteTime": {
     "end_time": "2023-09-26T20:57:13.343093Z",
     "start_time": "2023-09-26T20:57:13.253865Z"
    },
    "scrolled": true
   },
   "outputs": [],
   "source": [
    "embedding_dim=50\n",
    "\n",
    "MLP_model = Sequential([\n",
    "    vectorize_layer,\n",
    "    layers.Embedding(input_dim=len(vectorize_layer.get_vocabulary()), output_dim=50,\n",
    "                     embeddings_initializer='uniform'),\n",
    "    layers.GlobalAveragePooling1D(),\n",
    "    layers.Dense(64, activation='relu'),\n",
    "    layers.Dropout(0.2),\n",
    "    layers.Dense(n_classes, activation='softmax')\n",
    "], name=\"MLP_model\")\n",
    "\n",
    "#MLP_model.summary()\n",
    "\n",
    "MLP_model.compile(optimizer=optimizers.Adam(),\n",
    "                  loss=losses.SparseCategoricalCrossentropy(from_logits=False),\n",
    "                  metrics=['accuracy'])"
   ]
  },
  {
   "cell_type": "code",
   "execution_count": 33,
   "id": "53207ac2",
   "metadata": {
    "ExecuteTime": {
     "end_time": "2023-09-26T20:58:26.199828Z",
     "start_time": "2023-09-26T20:57:37.872653Z"
    },
    "scrolled": true
   },
   "outputs": [
    {
     "name": "stdout",
     "output_type": "stream",
     "text": [
      "Epoch 1/20\n",
      "247/247 [==============================] - 3s 11ms/step - loss: 2.0687 - accuracy: 0.2682 - val_loss: 2.0266 - val_accuracy: 0.2693\n",
      "Epoch 2/20\n",
      "247/247 [==============================] - 2s 10ms/step - loss: 2.0101 - accuracy: 0.2740 - val_loss: 2.0159 - val_accuracy: 0.2693\n",
      "Epoch 3/20\n",
      "247/247 [==============================] - 2s 9ms/step - loss: 1.9924 - accuracy: 0.2744 - val_loss: 2.0045 - val_accuracy: 0.2694\n",
      "Epoch 4/20\n",
      "247/247 [==============================] - 2s 9ms/step - loss: 1.9746 - accuracy: 0.2783 - val_loss: 1.9931 - val_accuracy: 0.2778\n",
      "Epoch 5/20\n",
      "247/247 [==============================] - 2s 9ms/step - loss: 1.9504 - accuracy: 0.2876 - val_loss: 1.9841 - val_accuracy: 0.2768\n",
      "Epoch 6/20\n",
      "247/247 [==============================] - 2s 9ms/step - loss: 1.9221 - accuracy: 0.3091 - val_loss: 1.9564 - val_accuracy: 0.2945\n",
      "Epoch 7/20\n",
      "247/247 [==============================] - 2s 9ms/step - loss: 1.8843 - accuracy: 0.3278 - val_loss: 1.9435 - val_accuracy: 0.3053\n",
      "Epoch 8/20\n",
      "247/247 [==============================] - 2s 10ms/step - loss: 1.8433 - accuracy: 0.3485 - val_loss: 1.9333 - val_accuracy: 0.3094\n",
      "Epoch 9/20\n",
      "247/247 [==============================] - 2s 10ms/step - loss: 1.8046 - accuracy: 0.3668 - val_loss: 1.9246 - val_accuracy: 0.3194\n",
      "Epoch 10/20\n",
      "247/247 [==============================] - 2s 9ms/step - loss: 1.7660 - accuracy: 0.3840 - val_loss: 1.9198 - val_accuracy: 0.3206\n",
      "Epoch 11/20\n",
      "247/247 [==============================] - 2s 9ms/step - loss: 1.7277 - accuracy: 0.3953 - val_loss: 1.9292 - val_accuracy: 0.3198\n",
      "Epoch 12/20\n",
      "247/247 [==============================] - 2s 10ms/step - loss: 1.6985 - accuracy: 0.4097 - val_loss: 1.9287 - val_accuracy: 0.3213\n",
      "Epoch 13/20\n",
      "247/247 [==============================] - 3s 10ms/step - loss: 1.6691 - accuracy: 0.4201 - val_loss: 1.9363 - val_accuracy: 0.3248\n",
      "Epoch 14/20\n",
      "247/247 [==============================] - 2s 9ms/step - loss: 1.6345 - accuracy: 0.4333 - val_loss: 1.9468 - val_accuracy: 0.3260\n",
      "Epoch 15/20\n",
      "247/247 [==============================] - 2s 10ms/step - loss: 1.6099 - accuracy: 0.4408 - val_loss: 1.9625 - val_accuracy: 0.3160\n",
      "Epoch 16/20\n",
      "247/247 [==============================] - 2s 10ms/step - loss: 1.5831 - accuracy: 0.4524 - val_loss: 1.9757 - val_accuracy: 0.3232\n",
      "Epoch 17/20\n",
      "247/247 [==============================] - 2s 9ms/step - loss: 1.5601 - accuracy: 0.4607 - val_loss: 1.9889 - val_accuracy: 0.3187\n",
      "Epoch 18/20\n",
      "247/247 [==============================] - 2s 9ms/step - loss: 1.5360 - accuracy: 0.4694 - val_loss: 2.0136 - val_accuracy: 0.3187\n",
      "Epoch 19/20\n",
      "247/247 [==============================] - 2s 10ms/step - loss: 1.5191 - accuracy: 0.4765 - val_loss: 2.0165 - val_accuracy: 0.3144\n",
      "Epoch 20/20\n",
      "247/247 [==============================] - 2s 9ms/step - loss: 1.4993 - accuracy: 0.4805 - val_loss: 2.0572 - val_accuracy: 0.3227\n"
     ]
    }
   ],
   "source": [
    "epochs = 20\n",
    "history_MLP = MLP_model.fit(X_train, y_train, validation_data=(X_valid, y_valid),\n",
    "                            batch_size=128, epochs=epochs)\n",
    "\n",
    "MLP_model.save_weights(\"./checkpoints/MLP_10/MLP_10_TheOffice10\") # Save the network's weights\n",
    "#MLP_model.save(\"./checkpoints/MLP_10_model\") #for saving the whole model object\n",
    "\n",
    "loss, accuracy = MLP_model.evaluate(X_valid, y_valid)\n",
    "\n",
    "print(\"Loss: \", loss)\n",
    "print(\"Accuracy: \", accuracy)"
   ]
  },
  {
   "cell_type": "code",
   "execution_count": 36,
   "id": "61477946",
   "metadata": {
    "ExecuteTime": {
     "end_time": "2023-09-26T20:58:33.600638Z",
     "start_time": "2023-09-26T20:58:33.356462Z"
    },
    "code_folding": [
     0
    ],
    "scrolled": true
   },
   "outputs": [
    {
     "data": {
      "image/png": "[encoded data removed]",
      "text/plain": [
       "<Figure size 1000x400 with 2 Axes>"
      ]
     },
     "metadata": {},
     "output_type": "display_data"
    }
   ],
   "source": [
    "history_MLP_dict = history_MLP.history\n",
    "history_MLP_dict.keys()\n",
    "\n",
    "plot_training(history_MLP_dict)"
   ]
  },
  {
   "cell_type": "code",
   "execution_count": 88,
   "id": "fa8915eb",
   "metadata": {
    "ExecuteTime": {
     "end_time": "2023-09-26T21:15:38.297942Z",
     "start_time": "2023-09-26T21:15:38.046342Z"
    }
   },
   "outputs": [
    {
     "name": "stdout",
     "output_type": "stream",
     "text": [
      "1/1 [==============================] - 0s 80ms/step\n",
      "1/1 [==============================] - 0s 74ms/step\n"
     ]
    },
    {
     "data": {
      "text/plain": [
       "array(['Michael', 'Michael', 'Michael', 'Michael', 'Pam', 'Pam',\n",
       "       'Michael', 'Michael', 'Michael', 'Michael', 'Michael', 'Michael',\n",
       "       'Dwight', 'Michael', 'Jim', 'Michael', 'Michael', 'Michael', 'Pam'],\n",
       "      dtype='<U7')"
      ]
     },
     "execution_count": 88,
     "metadata": {},
     "output_type": "execute_result"
    }
   ],
   "source": [
    "examples = list(TheOffice[TheOffice['speaker'] == 'Michael']['line'][1:20]) # ['Michael', 'Dwight', 'Jim', 'Pam', 'Andy', 'Kevin', 'Angela', 'Erin', 'Oscar', 'Ryan']\n",
    "\n",
    "MLP_model.predict(examples)\n",
    "predict_class(MLP_model, examples, main_characters)"
   ]
  },
  {
   "cell_type": "markdown",
   "id": "533b496c",
   "metadata": {},
   "source": [
    "#### with normalize_text()"
   ]
  },
  {
   "cell_type": "code",
   "execution_count": null,
   "id": "9d0a6cf5",
   "metadata": {},
   "outputs": [],
   "source": [
    "# Vocabulary size and number of words in a sequence.\n",
    "max_vocab = 10000\n",
    "sequence_length = 100 # 1084 max length of sentence in corpus TheOffice_main\n",
    "\n",
    "# Use the text vectorization layer to normalize, split, and map strings to\n",
    "# integers. Note that the layer uses the custom standardization defined above.\n",
    "# Set maximum_sequence length as all samples are not of the same length.\n",
    "\n",
    "vectorize_layer = layers.TextVectorization(max_tokens=max_vocab, standardize='lower_and_strip_punctuation',#or custom\n",
    "                                           output_mode='int', output_sequence_length=sequence_length)\n",
    "vectorize_layer.adapt(X_train)"
   ]
  },
  {
   "cell_type": "code",
   "execution_count": 129,
   "id": "00719271",
   "metadata": {
    "ExecuteTime": {
     "end_time": "2023-09-26T22:15:42.027598Z",
     "start_time": "2023-09-26T22:15:41.898139Z"
    },
    "scrolled": true
   },
   "outputs": [],
   "source": [
    "embedding_dim=50\n",
    "\n",
    "MLP_model = Sequential([\n",
    "    vectorize_layer,\n",
    "    layers.Embedding(input_dim=len(vectorize_layer.get_vocabulary()), output_dim=50,\n",
    "                     embeddings_initializer='uniform'),\n",
    "    layers.GlobalAveragePooling1D(),\n",
    "    layers.Dense(64, activation='relu'),\n",
    "    layers.Dropout(0.2),\n",
    "    layers.Dense(n_classes, activation='softmax')\n",
    "], name=\"MLP_model\")\n",
    "\n",
    "#MLP_model.summary()\n",
    "\n",
    "MLP_model.compile(optimizer=optimizers.Adam(),\n",
    "                  loss=losses.SparseCategoricalCrossentropy(from_logits=False),\n",
    "                  metrics=['accuracy'])\n",
    "\n"
   ]
  },
  {
   "cell_type": "code",
   "execution_count": 131,
   "id": "14d210e8",
   "metadata": {
    "ExecuteTime": {
     "end_time": "2023-09-26T22:16:40.918557Z",
     "start_time": "2023-09-26T22:15:43.250930Z"
    },
    "scrolled": true
   },
   "outputs": [
    {
     "name": "stdout",
     "output_type": "stream",
     "text": [
      "Epoch 1/20\n",
      "247/247 [==============================] - 4s 12ms/step - loss: 2.0647 - accuracy: 0.2674 - val_loss: 2.0280 - val_accuracy: 0.2693\n",
      "Epoch 2/20\n",
      "247/247 [==============================] - 3s 11ms/step - loss: 2.0121 - accuracy: 0.2743 - val_loss: 2.0182 - val_accuracy: 0.2693\n",
      "Epoch 3/20\n",
      "247/247 [==============================] - 3s 12ms/step - loss: 1.9959 - accuracy: 0.2741 - val_loss: 2.0066 - val_accuracy: 0.2693\n",
      "Epoch 4/20\n",
      "247/247 [==============================] - 3s 12ms/step - loss: 1.9758 - accuracy: 0.2802 - val_loss: 1.9863 - val_accuracy: 0.2774\n",
      "Epoch 5/20\n",
      "247/247 [==============================] - 3s 11ms/step - loss: 1.9469 - accuracy: 0.2965 - val_loss: 1.9668 - val_accuracy: 0.2934\n",
      "Epoch 6/20\n",
      "247/247 [==============================] - 3s 11ms/step - loss: 1.9127 - accuracy: 0.3178 - val_loss: 1.9501 - val_accuracy: 0.3006\n",
      "Epoch 7/20\n",
      "247/247 [==============================] - 3s 11ms/step - loss: 1.8745 - accuracy: 0.3390 - val_loss: 1.9399 - val_accuracy: 0.3030\n",
      "Epoch 8/20\n",
      "247/247 [==============================] - 3s 12ms/step - loss: 1.8365 - accuracy: 0.3550 - val_loss: 1.9279 - val_accuracy: 0.3118\n",
      "Epoch 9/20\n",
      "247/247 [==============================] - 3s 12ms/step - loss: 1.8004 - accuracy: 0.3687 - val_loss: 1.9371 - val_accuracy: 0.3038\n",
      "Epoch 10/20\n",
      "247/247 [==============================] - 3s 11ms/step - loss: 1.7638 - accuracy: 0.3834 - val_loss: 1.9221 - val_accuracy: 0.3200\n",
      "Epoch 11/20\n",
      "247/247 [==============================] - 3s 11ms/step - loss: 1.7283 - accuracy: 0.4022 - val_loss: 1.9392 - val_accuracy: 0.3222\n",
      "Epoch 12/20\n",
      "247/247 [==============================] - 3s 11ms/step - loss: 1.7003 - accuracy: 0.4085 - val_loss: 1.9415 - val_accuracy: 0.3190\n",
      "Epoch 13/20\n",
      "247/247 [==============================] - 3s 11ms/step - loss: 1.6741 - accuracy: 0.4180 - val_loss: 1.9467 - val_accuracy: 0.3222\n",
      "Epoch 14/20\n",
      "247/247 [==============================] - 3s 12ms/step - loss: 1.6462 - accuracy: 0.4282 - val_loss: 1.9618 - val_accuracy: 0.3109\n",
      "Epoch 15/20\n",
      "247/247 [==============================] - 3s 12ms/step - loss: 1.6234 - accuracy: 0.4349 - val_loss: 1.9712 - val_accuracy: 0.3171\n",
      "Epoch 16/20\n",
      "247/247 [==============================] - 3s 11ms/step - loss: 1.5998 - accuracy: 0.4437 - val_loss: 1.9831 - val_accuracy: 0.3172\n",
      "Epoch 17/20\n",
      "247/247 [==============================] - 3s 11ms/step - loss: 1.5806 - accuracy: 0.4525 - val_loss: 2.0046 - val_accuracy: 0.3068\n",
      "Epoch 18/20\n",
      "247/247 [==============================] - 3s 11ms/step - loss: 1.5565 - accuracy: 0.4604 - val_loss: 2.0161 - val_accuracy: 0.3144\n",
      "Epoch 19/20\n",
      "247/247 [==============================] - 3s 11ms/step - loss: 1.5383 - accuracy: 0.4686 - val_loss: 2.0327 - val_accuracy: 0.3181\n",
      "Epoch 20/20\n",
      "247/247 [==============================] - 3s 12ms/step - loss: 1.5175 - accuracy: 0.4753 - val_loss: 2.0537 - val_accuracy: 0.3195\n"
     ]
    }
   ],
   "source": [
    "epochs = 20\n",
    "history_MLP = MLP_model.fit(X_train, y_train, validation_data=(X_valid, y_valid),\n",
    "                            batch_size=128, epochs=epochs)\n",
    "\n",
    "MLP_model.save_weights(\"./checkpoints/MLP_10/MLP_10_TheOffice10\") # Save the network's weights\n",
    "#MLP_model.save(\"./checkpoints/MLP_10_model\") #for saving the whole model object\n",
    "\n",
    "loss, accuracy = MLP_model.evaluate(X_valid, y_valid)\n",
    "print(\"Loss: \", loss)\n",
    "print(\"Accuracy: \", accuracy)"
   ]
  },
  {
   "cell_type": "code",
   "execution_count": 134,
   "id": "bb1a1282",
   "metadata": {
    "ExecuteTime": {
     "end_time": "2023-09-26T22:16:45.833419Z",
     "start_time": "2023-09-26T22:16:45.557777Z"
    },
    "code_folding": [
     0
    ],
    "scrolled": true
   },
   "outputs": [
    {
     "data": {
      "image/png": "[encoded data removed]",
      "text/plain": [
       "<Figure size 1000x400 with 2 Axes>"
      ]
     },
     "metadata": {},
     "output_type": "display_data"
    }
   ],
   "source": [
    "history_MLP_dict = history_MLP.history\n",
    "history_MLP_dict.keys()\n",
    "\n",
    "plot_training(history_MLP_dict)"
   ]
  },
  {
   "cell_type": "code",
   "execution_count": 148,
   "id": "6bdb37a8",
   "metadata": {
    "ExecuteTime": {
     "end_time": "2023-09-26T22:20:22.361836Z",
     "start_time": "2023-09-26T22:20:22.256006Z"
    },
    "code_folding": [],
    "scrolled": false
   },
   "outputs": [
    {
     "name": "stdout",
     "output_type": "stream",
     "text": [
      "1/1 [==============================] - 0s 39ms/step\n"
     ]
    },
    {
     "data": {
      "text/plain": [
       "array([[0.637143  , 0.09673872, 0.06119514, 0.03371215, 0.08189225,\n",
       "        0.01860928, 0.02518923, 0.01240043, 0.01246807, 0.02065173],\n",
       "       [0.05189947, 0.44190562, 0.03244827, 0.04809466, 0.24556606,\n",
       "        0.03944259, 0.04737068, 0.02616663, 0.04098144, 0.02612457],\n",
       "       [0.7330105 , 0.17465854, 0.02834123, 0.01267847, 0.02579879,\n",
       "        0.00469613, 0.0094701 , 0.00261933, 0.00371185, 0.00501507],\n",
       "       [0.33158612, 0.46359697, 0.104648  , 0.0285779 , 0.04546748,\n",
       "        0.00644627, 0.00707424, 0.00257362, 0.00437096, 0.00565839],\n",
       "       [0.05663731, 0.22831786, 0.09345947, 0.2226475 , 0.07118852,\n",
       "        0.06509064, 0.07742215, 0.06291208, 0.08272053, 0.0396039 ]],\n",
       "      dtype=float32)"
      ]
     },
     "execution_count": 148,
     "metadata": {},
     "output_type": "execute_result"
    }
   ],
   "source": [
    "examples = ['Whenever I\"m about to do something, I think, \"Would an idiot do that?\" and if they would, I do not do that thing.',\n",
    "            'Battle star galactica',\n",
    "            'Would I rather be feared or loved? Easy. Both. I want people to be afraid of how much they love me',\n",
    "            'Can I be the regional manager',\n",
    "            'I DID THE COAL WALK, MICHAEL.']\n",
    "\n",
    "MLP_model.predict(examples)\n"
   ]
  },
  {
   "cell_type": "code",
   "execution_count": 149,
   "id": "825f62a7",
   "metadata": {
    "ExecuteTime": {
     "end_time": "2023-09-26T22:20:35.062409Z",
     "start_time": "2023-09-26T22:20:34.963234Z"
    }
   },
   "outputs": [
    {
     "name": "stdout",
     "output_type": "stream",
     "text": [
      "1/1 [==============================] - 0s 43ms/step\n"
     ]
    },
    {
     "data": {
      "text/plain": [
       "array(['Michael', 'Dwight', 'Michael', 'Dwight', 'Dwight'], dtype='<U7')"
      ]
     },
     "execution_count": 149,
     "metadata": {},
     "output_type": "execute_result"
    }
   ],
   "source": [
    "predict_class(MLP_model, examples, main_characters)"
   ]
  },
  {
   "cell_type": "code",
   "execution_count": 150,
   "id": "77c9d95d",
   "metadata": {
    "ExecuteTime": {
     "end_time": "2023-09-26T22:20:38.226349Z",
     "start_time": "2023-09-26T22:20:38.000963Z"
    },
    "scrolled": true
   },
   "outputs": [
    {
     "name": "stdout",
     "output_type": "stream",
     "text": [
      "1/1 [==============================] - 0s 50ms/step\n",
      "1/1 [==============================] - 0s 50ms/step\n"
     ]
    },
    {
     "data": {
      "text/plain": [
       "array(['Michael', 'Michael', 'Michael', 'Michael', 'Pam', 'Pam',\n",
       "       'Michael', 'Michael', 'Michael', 'Michael', 'Michael', 'Michael',\n",
       "       'Michael', 'Michael', 'Jim', 'Michael', 'Michael', 'Michael',\n",
       "       'Pam'], dtype='<U7')"
      ]
     },
     "execution_count": 150,
     "metadata": {},
     "output_type": "execute_result"
    }
   ],
   "source": [
    "examples = list(TheOffice[TheOffice['speaker'] == 'Michael']['line'][1:20]) # ['Michael', 'Dwight', 'Jim', 'Pam', 'Andy', 'Kevin', 'Angela', 'Erin', 'Oscar', 'Ryan']\n",
    "\n",
    "MLP_model.predict(examples)\n",
    "predict_class(MLP_model, examples, main_characters)"
   ]
  },
  {
   "cell_type": "code",
   "execution_count": null,
   "id": "18a83460",
   "metadata": {},
   "outputs": [],
   "source": []
  },
  {
   "cell_type": "markdown",
   "id": "8e7ec004",
   "metadata": {},
   "source": [
    "####  BLSTM"
   ]
  },
  {
   "cell_type": "code",
   "execution_count": 62,
   "id": "38547b21",
   "metadata": {
    "ExecuteTime": {
     "end_time": "2023-09-27T00:04:53.051050Z",
     "start_time": "2023-09-27T00:04:51.595479Z"
    }
   },
   "outputs": [],
   "source": [
    "max_vocab = 10000\n",
    "vectorize_layer = layers.TextVectorization(max_tokens=max_vocab, standardize='lower_and_strip_punctuation',\n",
    "                                           output_mode='int', output_sequence_length=None)\n",
    "vectorize_layer.adapt(X_train)"
   ]
  },
  {
   "cell_type": "code",
   "execution_count": 64,
   "id": "3930aca5",
   "metadata": {
    "ExecuteTime": {
     "end_time": "2023-09-27T00:05:01.961674Z",
     "start_time": "2023-09-27T00:04:56.119507Z"
    }
   },
   "outputs": [],
   "source": [
    "embedding_dim=50\n",
    "\n",
    "# Using masking with 'mask_zero=True' to handle the variable sequence lengths in subsequent layers.\n",
    "\n",
    "LSTM_model = tf.keras.Sequential([\n",
    "    vectorize_layer,\n",
    "    layers.Embedding(input_dim=len(vectorize_layer.get_vocabulary()), output_dim=embedding_dim,\n",
    "                     embeddings_initializer='uniform', mask_zero=True),\n",
    "    layers.LSTM(64),\n",
    "    layers.Dense(64, activation='relu'),\n",
    "    layers.Dense(n_classes, activation='softmax')\n",
    "], name=\"LSTM_model\")\n",
    "\n",
    "BLSTM_model = tf.keras.Sequential([\n",
    "    vectorize_layer,\n",
    "    layers.Embedding(input_dim=len(vectorize_layer.get_vocabulary()), output_dim=embedding_dim,\n",
    "                     embeddings_initializer='uniform', mask_zero=True),\n",
    "    layers.Bidirectional(layers.LSTM(64), merge_mode='concat'),\n",
    "    layers.Dense(n_classes, activation='softmax')\n",
    "], name=\"BLSTM_model\")\n",
    "\n",
    "BLSTM2_model = tf.keras.Sequential([\n",
    "    vectorize_layer,\n",
    "    layers.Embedding(input_dim=len(vectorize_layer.get_vocabulary()), output_dim=embedding_dim,\n",
    "                     embeddings_initializer='uniform', mask_zero=True),\n",
    "    layers.Bidirectional(layers.LSTM(64,  return_sequences=True), merge_mode='concat'),\n",
    "    layers.Bidirectional(layers.LSTM(32,  return_sequences=False), merge_mode='concat'),\n",
    "    layers.Dense(64, activation='relu'),\n",
    "    layers.Dropout(0.5),\n",
    "    layers.Dense(n_classes, activation='softmax')\n",
    "], name=\"BLSTM2_model\")\n",
    "\n",
    "BLSTM_model.compile(optimizer=optimizers.Adam(learning_rate=1e-4),\n",
    "                    loss=losses.SparseCategoricalCrossentropy(from_logits=False),\n",
    "                    metrics=['accuracy'])"
   ]
  },
  {
   "cell_type": "code",
   "execution_count": 65,
   "id": "5743031a",
   "metadata": {
    "ExecuteTime": {
     "end_time": "2023-09-27T00:13:00.185236Z",
     "start_time": "2023-09-27T00:05:16.780665Z"
    },
    "scrolled": true
   },
   "outputs": [
    {
     "name": "stdout",
     "output_type": "stream",
     "text": [
      "Epoch 1/10\n",
      "247/247 [==============================] - 44s 151ms/step - loss: 2.1929 - accuracy: 0.2619 - val_loss: 2.1071 - val_accuracy: 0.2694\n",
      "Epoch 2/10\n",
      "247/247 [==============================] - 41s 165ms/step - loss: 2.0624 - accuracy: 0.2743 - val_loss: 2.0630 - val_accuracy: 0.2693\n",
      "Epoch 3/10\n",
      "247/247 [==============================] - 35s 140ms/step - loss: 2.0261 - accuracy: 0.2744 - val_loss: 2.0373 - val_accuracy: 0.2700\n",
      "Epoch 4/10\n",
      "247/247 [==============================] - 37s 150ms/step - loss: 1.9943 - accuracy: 0.2770 - val_loss: 2.0166 - val_accuracy: 0.2721\n",
      "Epoch 5/10\n",
      "247/247 [==============================] - 52s 209ms/step - loss: 1.9693 - accuracy: 0.2877 - val_loss: 2.0074 - val_accuracy: 0.2757\n",
      "Epoch 6/10\n",
      "247/247 [==============================] - 52s 211ms/step - loss: 1.9459 - accuracy: 0.3013 - val_loss: 1.9929 - val_accuracy: 0.2845\n",
      "Epoch 7/10\n",
      "247/247 [==============================] - 51s 206ms/step - loss: 1.9222 - accuracy: 0.3117 - val_loss: 1.9863 - val_accuracy: 0.2875\n",
      "Epoch 8/10\n",
      "247/247 [==============================] - 44s 177ms/step - loss: 1.8977 - accuracy: 0.3207 - val_loss: 1.9808 - val_accuracy: 0.2921\n",
      "Epoch 9/10\n",
      "247/247 [==============================] - 56s 225ms/step - loss: 1.8691 - accuracy: 0.3357 - val_loss: 1.9767 - val_accuracy: 0.2939\n",
      "Epoch 10/10\n",
      "247/247 [==============================] - 53s 215ms/step - loss: 1.8405 - accuracy: 0.3501 - val_loss: 1.9739 - val_accuracy: 0.3005\n"
     ]
    }
   ],
   "source": [
    "epochs = 10#100\n",
    "history_lstm = BLSTM_model.fit(X_train, y_train, validation_data=(X_valid, y_valid),\n",
    "                               batch_size=128, epochs=epochs)\n",
    "\n",
    "BLSTM_model.save_weights(\"./checkpoints/BLSTM_10/BLSTM_10\")\n",
    "#BLSTM_model.save(\"./checkpoints/BLSTM_10_model\")\n",
    "#BLSTM_model.load_weights(\"./checkpoints/BLSTM_10/BLSTM_10\")"
   ]
  },
  {
   "cell_type": "code",
   "execution_count": 68,
   "id": "60734e20",
   "metadata": {
    "ExecuteTime": {
     "end_time": "2023-09-27T00:19:47.333350Z",
     "start_time": "2023-09-27T00:19:44.480666Z"
    }
   },
   "outputs": [
    {
     "name": "stdout",
     "output_type": "stream",
     "text": [
      "247/247 [==============================] - 3s 10ms/step - loss: 1.9739 - accuracy: 0.3005\n",
      "Test Loss: 1.9739189147949219\n",
      "Test Accuracy: 0.30048197507858276\n"
     ]
    },
    {
     "data": {
      "image/png": "[encoded data removed]",
      "text/plain": [
       "<Figure size 1000x400 with 2 Axes>"
      ]
     },
     "metadata": {},
     "output_type": "display_data"
    }
   ],
   "source": [
    "history_lstm_dict = history_lstm.history\n",
    "\n",
    "test_loss, test_acc = BLSTM_model.evaluate(X_valid, y_valid)\n",
    "\n",
    "print('Test Loss:', test_loss)\n",
    "print('Test Accuracy:', test_acc)\n",
    "\n",
    "plot_training(history_lstm_dict)"
   ]
  },
  {
   "cell_type": "code",
   "execution_count": 70,
   "id": "5f43459b",
   "metadata": {
    "ExecuteTime": {
     "end_time": "2023-09-27T00:20:00.175269Z",
     "start_time": "2023-09-27T00:19:59.901466Z"
    }
   },
   "outputs": [
    {
     "name": "stdout",
     "output_type": "stream",
     "text": [
      "1/1 [==============================] - 0s 76ms/step\n",
      "1/1 [==============================] - 0s 79ms/step\n"
     ]
    },
    {
     "data": {
      "text/plain": [
       "array(['Jim', 'Michael', 'Michael', 'Jim', 'Michael', 'Michael',\n",
       "       'Michael', 'Michael', 'Michael', 'Dwight', 'Michael', 'Michael',\n",
       "       'Michael', 'Michael', 'Michael', 'Dwight', 'Michael', 'Michael',\n",
       "       'Michael'], dtype='<U7')"
      ]
     },
     "execution_count": 70,
     "metadata": {},
     "output_type": "execute_result"
    }
   ],
   "source": [
    "examples = list(TheOffice[TheOffice['speaker'] == 'Jim']['line'][1:20]) # ['Michael', 'Dwight', 'Jim', 'Pam', 'Andy', 'Kevin', 'Angela', 'Erin', 'Oscar', 'Ryan']\n",
    "\n",
    "BLSTM_model.predict(examples)\n",
    "predict_class(BLSTM_model, examples, main_characters)"
   ]
  },
  {
   "cell_type": "code",
   "execution_count": null,
   "id": "376918f6",
   "metadata": {},
   "outputs": [],
   "source": []
  },
  {
   "cell_type": "code",
   "execution_count": null,
   "id": "9386fe5a",
   "metadata": {},
   "outputs": [],
   "source": []
  },
  {
   "cell_type": "code",
   "execution_count": null,
   "id": "bb12cf83",
   "metadata": {},
   "outputs": [],
   "source": []
  },
  {
   "cell_type": "code",
   "execution_count": null,
   "id": "c723f8ae",
   "metadata": {},
   "outputs": [],
   "source": []
  },
  {
   "cell_type": "code",
   "execution_count": null,
   "id": "8bc50cfd",
   "metadata": {},
   "outputs": [],
   "source": []
  },
  {
   "cell_type": "code",
   "execution_count": null,
   "id": "df11f4c4",
   "metadata": {},
   "outputs": [],
   "source": []
  },
  {
   "cell_type": "code",
   "execution_count": null,
   "id": "8c913db5",
   "metadata": {},
   "outputs": [],
   "source": []
  },
  {
   "cell_type": "code",
   "execution_count": null,
   "id": "76248910",
   "metadata": {},
   "outputs": [],
   "source": []
  },
  {
   "cell_type": "code",
   "execution_count": null,
   "id": "d3935f2d",
   "metadata": {},
   "outputs": [],
   "source": []
  },
  {
   "cell_type": "code",
   "execution_count": null,
   "id": "322d749b",
   "metadata": {},
   "outputs": [],
   "source": []
  },
  {
   "cell_type": "code",
   "execution_count": null,
   "id": "b4233416",
   "metadata": {},
   "outputs": [],
   "source": []
  },
  {
   "cell_type": "code",
   "execution_count": null,
   "id": "33d27c70",
   "metadata": {},
   "outputs": [],
   "source": []
  },
  {
   "cell_type": "code",
   "execution_count": null,
   "id": "b069775e",
   "metadata": {},
   "outputs": [],
   "source": []
  },
  {
   "cell_type": "code",
   "execution_count": null,
   "id": "a5c9396c",
   "metadata": {},
   "outputs": [],
   "source": []
  },
  {
   "cell_type": "code",
   "execution_count": null,
   "id": "03161346",
   "metadata": {},
   "outputs": [],
   "source": []
  },
  {
   "cell_type": "code",
   "execution_count": null,
   "id": "ba7b8489",
   "metadata": {},
   "outputs": [],
   "source": []
  },
  {
   "cell_type": "code",
   "execution_count": null,
   "id": "9fea57aa",
   "metadata": {},
   "outputs": [],
   "source": []
  },
  {
   "cell_type": "code",
   "execution_count": null,
   "id": "d414f490",
   "metadata": {},
   "outputs": [],
   "source": []
  },
  {
   "cell_type": "code",
   "execution_count": null,
   "id": "ec38f3f5",
   "metadata": {},
   "outputs": [],
   "source": []
  },
  {
   "cell_type": "code",
   "execution_count": null,
   "id": "ae2d9351",
   "metadata": {},
   "outputs": [],
   "source": []
  },
  {
   "cell_type": "code",
   "execution_count": null,
   "id": "bcab98b3",
   "metadata": {},
   "outputs": [],
   "source": []
  },
  {
   "cell_type": "code",
   "execution_count": null,
   "id": "ced93eae",
   "metadata": {},
   "outputs": [],
   "source": []
  },
  {
   "cell_type": "code",
   "execution_count": null,
   "id": "bc33cdad",
   "metadata": {},
   "outputs": [],
   "source": []
  },
  {
   "cell_type": "markdown",
   "id": "42e059a7",
   "metadata": {},
   "source": [
    "## Trying on Simpsons"
   ]
  },
  {
   "cell_type": "code",
   "execution_count": 52,
   "id": "93f7eff8",
   "metadata": {
    "ExecuteTime": {
     "end_time": "2023-09-26T23:39:48.338486Z",
     "start_time": "2023-09-26T23:39:47.405673Z"
    }
   },
   "outputs": [],
   "source": [
    "simpsons = pd.read_csv(\"./data/simpsons_script_lines.csv\",\n",
    "                       usecols=[\"raw_character_text\", \"raw_location_text\", \"spoken_words\", \"normalized_text\"],\n",
    "                       dtype={'raw_character_text':'string', 'raw_location_text':'string',\n",
    "                              'spoken_words':'string', 'normalized_text':'string'})\n",
    "simpsons = simpsons.dropna().drop_duplicates().reset_index(drop=True)\n",
    "\n",
    "n_classes = 10\n",
    "main_characters2 = simpsons['raw_character_text'].value_counts(dropna=False)[:n_classes].index.to_list()\n",
    "simpsons_main = simpsons.query(\"`raw_character_text` in @main_characters2\")\n",
    "\n",
    "X2 = simpsons_main[\"normalized_text\"].to_numpy()\n",
    "y2 = simpsons_main[\"raw_character_text\"].to_numpy()\n",
    "y_int2 = np.array([np.where(np.array(main_characters2)==char)[0].item() for char in y2])\n",
    "\n",
    "X_train2, X_valid2, y_train2, y_valid2 = train_test_split(X2, y_int2, test_size=0.2, random_state=42, shuffle=True)"
   ]
  },
  {
   "cell_type": "code",
   "execution_count": 54,
   "id": "ed936ece",
   "metadata": {
    "ExecuteTime": {
     "end_time": "2023-09-26T23:39:53.508350Z",
     "start_time": "2023-09-26T23:39:52.751711Z"
    }
   },
   "outputs": [
    {
     "name": "stdout",
     "output_type": "stream",
     "text": [
      "accuracy 0.38456554137238386\n",
      "                     precision    recall  f1-score   support\n",
      "\n",
      "      Homer Simpson       0.37      0.98      0.54      5505\n",
      "      Marge Simpson       0.64      0.08      0.15      2586\n",
      "       Bart Simpson       0.55      0.08      0.14      2516\n",
      "       Lisa Simpson       0.49      0.04      0.08      2081\n",
      "C. Montgomery Burns       0.73      0.01      0.02       631\n",
      "        Moe Szyslak       0.00      0.00      0.00       547\n",
      "    Seymour Skinner       1.00      0.00      0.01       461\n",
      "       Ned Flanders       1.00      0.01      0.02       382\n",
      "       Chief Wiggum       0.00      0.00      0.00       373\n",
      "     Grampa Simpson       0.00      0.00      0.00       351\n",
      "\n",
      "           accuracy                           0.38     15433\n",
      "          macro avg       0.48      0.12      0.10     15433\n",
      "       weighted avg       0.48      0.38      0.25     15433\n",
      "\n"
     ]
    },
    {
     "name": "stderr",
     "output_type": "stream",
     "text": [
      "C:\\Users\\rened\\Anaconda3\\lib\\site-packages\\sklearn\\metrics\\_classification.py:1318: UndefinedMetricWarning: Precision and F-score are ill-defined and being set to 0.0 in labels with no predicted samples. Use `zero_division` parameter to control this behavior.\n",
      "  _warn_prf(average, modifier, msg_start, len(result))\n",
      "C:\\Users\\rened\\Anaconda3\\lib\\site-packages\\sklearn\\metrics\\_classification.py:1318: UndefinedMetricWarning: Precision and F-score are ill-defined and being set to 0.0 in labels with no predicted samples. Use `zero_division` parameter to control this behavior.\n",
      "  _warn_prf(average, modifier, msg_start, len(result))\n",
      "C:\\Users\\rened\\Anaconda3\\lib\\site-packages\\sklearn\\metrics\\_classification.py:1318: UndefinedMetricWarning: Precision and F-score are ill-defined and being set to 0.0 in labels with no predicted samples. Use `zero_division` parameter to control this behavior.\n",
      "  _warn_prf(average, modifier, msg_start, len(result))\n"
     ]
    }
   ],
   "source": [
    "nb = Pipeline([('vect', CountVectorizer()),\n",
    "               ('tfidf', TfidfTransformer()),\n",
    "               ('clf', MultinomialNB()),\n",
    "              ])\n",
    "\n",
    "nb.fit(X_train2, y_train2)\n",
    "\n",
    "y_pred2 = nb.predict(X_valid2)\n",
    "\n",
    "print('accuracy %s' % accuracy_score(y_pred2, y_valid2))\n",
    "print(classification_report(y_valid2, y_pred2,target_names=main_characters2))"
   ]
  },
  {
   "cell_type": "code",
   "execution_count": 53,
   "id": "71c4a90f",
   "metadata": {
    "ExecuteTime": {
     "end_time": "2023-09-26T23:39:50.144291Z",
     "start_time": "2023-09-26T23:39:48.856985Z"
    }
   },
   "outputs": [
    {
     "name": "stdout",
     "output_type": "stream",
     "text": [
      "accuracy 0.42279530875396876\n",
      "                     precision    recall  f1-score   support\n",
      "\n",
      "      Homer Simpson       0.46      0.74      0.57      5505\n",
      "      Marge Simpson       0.42      0.33      0.37      2586\n",
      "       Bart Simpson       0.36      0.23      0.28      2516\n",
      "       Lisa Simpson       0.37      0.28      0.32      2081\n",
      "C. Montgomery Burns       0.46      0.27      0.34       631\n",
      "        Moe Szyslak       0.34      0.13      0.19       547\n",
      "    Seymour Skinner       0.24      0.14      0.18       461\n",
      "       Ned Flanders       0.33      0.15      0.21       382\n",
      "       Chief Wiggum       0.24      0.16      0.19       373\n",
      "     Grampa Simpson       0.15      0.04      0.07       351\n",
      "\n",
      "           accuracy                           0.42     15433\n",
      "          macro avg       0.34      0.25      0.27     15433\n",
      "       weighted avg       0.40      0.42      0.39     15433\n",
      "\n"
     ]
    }
   ],
   "source": [
    "sgd = Pipeline([('vect', CountVectorizer()),\n",
    "                ('tfidf', TfidfTransformer()),\n",
    "                ('clf', SGDClassifier(loss='hinge', penalty='l2',alpha=1e-3, random_state=42, max_iter=5, tol=None)),\n",
    "               ])\n",
    "sgd.fit(X_train2, y_train2)\n",
    "\n",
    "y_pred2 = sgd.predict(X_valid2)\n",
    "\n",
    "print('accuracy %s' % accuracy_score(y_pred2, y_valid2))\n",
    "print(classification_report(y_valid2, y_pred2,target_names=main_characters2))"
   ]
  },
  {
   "cell_type": "code",
   "execution_count": 55,
   "id": "d21634fb",
   "metadata": {
    "ExecuteTime": {
     "end_time": "2023-09-26T23:41:37.950182Z",
     "start_time": "2023-09-26T23:39:58.118275Z"
    }
   },
   "outputs": [
    {
     "name": "stderr",
     "output_type": "stream",
     "text": [
      "C:\\Users\\rened\\Anaconda3\\lib\\site-packages\\sklearn\\linear_model\\_logistic.py:814: ConvergenceWarning: lbfgs failed to converge (status=1):\n",
      "STOP: TOTAL NO. of ITERATIONS REACHED LIMIT.\n",
      "\n",
      "Increase the number of iterations (max_iter) or scale the data as shown in:\n",
      "    https://scikit-learn.org/stable/modules/preprocessing.html\n",
      "Please also refer to the documentation for alternative solver options:\n",
      "    https://scikit-learn.org/stable/modules/linear_model.html#logistic-regression\n",
      "  n_iter_i = _check_optimize_result(\n"
     ]
    },
    {
     "name": "stdout",
     "output_type": "stream",
     "text": [
      "accuracy 0.3594246096027992\n",
      "                     precision    recall  f1-score   support\n",
      "\n",
      "      Homer Simpson       0.45      0.56      0.50      5505\n",
      "      Marge Simpson       0.36      0.33      0.34      2586\n",
      "       Bart Simpson       0.30      0.26      0.28      2516\n",
      "       Lisa Simpson       0.29      0.25      0.27      2081\n",
      "C. Montgomery Burns       0.29      0.22      0.25       631\n",
      "        Moe Szyslak       0.21      0.17      0.19       547\n",
      "    Seymour Skinner       0.12      0.11      0.11       461\n",
      "       Ned Flanders       0.17      0.14      0.16       382\n",
      "       Chief Wiggum       0.18      0.15      0.16       373\n",
      "     Grampa Simpson       0.12      0.09      0.10       351\n",
      "\n",
      "           accuracy                           0.36     15433\n",
      "          macro avg       0.25      0.23      0.24     15433\n",
      "       weighted avg       0.34      0.36      0.35     15433\n",
      "\n"
     ]
    }
   ],
   "source": [
    "logreg = Pipeline([('vect', CountVectorizer()),\n",
    "                ('tfidf', TfidfTransformer()),\n",
    "                ('clf', LogisticRegression(n_jobs=1, C=1e6, max_iter=1000)),\n",
    "               ])\n",
    "logreg.fit(X_train2, y_train2)\n",
    "\n",
    "y_pred2 = logreg.predict(X_valid2)\n",
    "\n",
    "print('accuracy %s' % accuracy_score(y_pred2, y_valid2))\n",
    "print(classification_report(y_valid2, y_pred2,target_names=main_characters2))"
   ]
  },
  {
   "cell_type": "code",
   "execution_count": null,
   "id": "2edc6298",
   "metadata": {},
   "outputs": [],
   "source": []
  },
  {
   "cell_type": "code",
   "execution_count": null,
   "id": "f9259d3a",
   "metadata": {},
   "outputs": [],
   "source": []
  },
  {
   "cell_type": "code",
   "execution_count": null,
   "id": "acd20e96",
   "metadata": {},
   "outputs": [],
   "source": []
  },
  {
   "cell_type": "code",
   "execution_count": null,
   "id": "4e713144",
   "metadata": {},
   "outputs": [],
   "source": []
  },
  {
   "cell_type": "code",
   "execution_count": null,
   "id": "ff1b8632",
   "metadata": {},
   "outputs": [],
   "source": []
  },
  {
   "cell_type": "code",
   "execution_count": null,
   "id": "1acc89da",
   "metadata": {},
   "outputs": [],
   "source": []
  },
  {
   "cell_type": "code",
   "execution_count": null,
   "id": "598f6893",
   "metadata": {},
   "outputs": [],
   "source": []
  },
  {
   "cell_type": "code",
   "execution_count": null,
   "id": "ef9cd359",
   "metadata": {},
   "outputs": [],
   "source": []
  },
  {
   "cell_type": "code",
   "execution_count": null,
   "id": "77ca6ee6",
   "metadata": {},
   "outputs": [],
   "source": []
  },
  {
   "cell_type": "code",
   "execution_count": null,
   "id": "995ec33a",
   "metadata": {},
   "outputs": [],
   "source": []
  },
  {
   "cell_type": "code",
   "execution_count": null,
   "id": "2e549b6a",
   "metadata": {},
   "outputs": [],
   "source": []
  },
  {
   "cell_type": "code",
   "execution_count": null,
   "id": "dad7cabe",
   "metadata": {},
   "outputs": [],
   "source": []
  },
  {
   "cell_type": "code",
   "execution_count": null,
   "id": "2251b251",
   "metadata": {},
   "outputs": [],
   "source": []
  },
  {
   "cell_type": "code",
   "execution_count": null,
   "id": "788cfbad",
   "metadata": {},
   "outputs": [],
   "source": []
  }
 ],
 "metadata": {
  "kernelspec": {
   "display_name": "Python 3",
   "language": "python",
   "name": "python3"
  },
  "language_info": {
   "codemirror_mode": {
    "name": "ipython",
    "version": 3
   },
   "file_extension": ".py",
   "mimetype": "text/x-python",
   "name": "python",
   "nbconvert_exporter": "python",
   "pygments_lexer": "ipython3",
   "version": "3.9.13"
  },
  "toc": {
   "base_numbering": 1,
   "nav_menu": {},
   "number_sections": true,
   "sideBar": true,
   "skip_h1_title": true,
   "title_cell": "Table of Contents",
   "title_sidebar": "Contents",
   "toc_cell": false,
   "toc_position": {
    "height": "calc(100% - 180px)",
    "left": "10px",
    "top": "150px",
    "width": "165px"
   },
   "toc_section_display": true,
   "toc_window_display": true
  },
  "varInspector": {
   "cols": {
    "lenName": 16,
    "lenType": 16,
    "lenVar": 40
   },
   "kernels_config": {
    "python": {
     "delete_cmd_postfix": "",
     "delete_cmd_prefix": "del ",
     "library": "var_list.py",
     "varRefreshCmd": "print(var_dic_list())"
    },
    "r": {
     "delete_cmd_postfix": ") ",
     "delete_cmd_prefix": "rm(",
     "library": "var_list.r",
     "varRefreshCmd": "cat(var_dic_list()) "
    }
   },
   "types_to_exclude": [
    "module",
    "function",
    "builtin_function_or_method",
    "instance",
    "_Feature"
   ],
   "window_display": false
  }
 },
 "nbformat": 4,
 "nbformat_minor": 5
}
